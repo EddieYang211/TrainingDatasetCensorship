{
  "nbformat": 4,
  "nbformat_minor": 0,
  "metadata": {
    "colab": {
      "name": "TextCNN.ipynb",
      "provenance": [],
      "machine_shape": "hm"
    },
    "kernelspec": {
      "name": "python3",
      "display_name": "Python 3"
    },
    "accelerator": "GPU"
  },
  "cells": [
    {
      "cell_type": "code",
      "metadata": {
        "id": "A6UQJki0Qa0G",
        "colab": {
          "base_uri": "https://localhost:8080/"
        },
        "outputId": "f157b540-ce20-49fd-dfce-d15d4bd5d838"
      },
      "source": [
        "gpu_info = !nvidia-smi\n",
        "gpu_info = '\\n'.join(gpu_info)\n",
        "if gpu_info.find('failed') >= 0:\n",
        "  print('Select the Runtime > \"Change runtime type\" menu to enable a GPU accelerator, ')\n",
        "  print('and then re-execute this cell.')\n",
        "else:\n",
        "  print(gpu_info)"
      ],
      "execution_count": null,
      "outputs": [
        {
          "output_type": "stream",
          "text": [
            "Wed Jan 20 21:50:02 2021       \n",
            "+-----------------------------------------------------------------------------+\n",
            "| NVIDIA-SMI 460.32.03    Driver Version: 418.67       CUDA Version: 10.1     |\n",
            "|-------------------------------+----------------------+----------------------+\n",
            "| GPU  Name        Persistence-M| Bus-Id        Disp.A | Volatile Uncorr. ECC |\n",
            "| Fan  Temp  Perf  Pwr:Usage/Cap|         Memory-Usage | GPU-Util  Compute M. |\n",
            "|                               |                      |               MIG M. |\n",
            "|===============================+======================+======================|\n",
            "|   0  Tesla P100-PCIE...  Off  | 00000000:00:04.0 Off |                    0 |\n",
            "| N/A   56C    P0    31W / 250W |      0MiB / 16280MiB |      0%      Default |\n",
            "|                               |                      |                 ERR! |\n",
            "+-------------------------------+----------------------+----------------------+\n",
            "                                                                               \n",
            "+-----------------------------------------------------------------------------+\n",
            "| Processes:                                                                  |\n",
            "|  GPU   GI   CI        PID   Type   Process name                  GPU Memory |\n",
            "|        ID   ID                                                   Usage      |\n",
            "|=============================================================================|\n",
            "|  No running processes found                                                 |\n",
            "+-----------------------------------------------------------------------------+\n"
          ],
          "name": "stdout"
        }
      ]
    },
    {
      "cell_type": "code",
      "metadata": {
        "id": "cSxQLOVTPFbO",
        "colab": {
          "base_uri": "https://localhost:8080/"
        },
        "outputId": "f26d7707-5e1f-47bd-8fdd-56d5f9677467"
      },
      "source": [
        "pip install tensorboardX"
      ],
      "execution_count": null,
      "outputs": [
        {
          "output_type": "stream",
          "text": [
            "Collecting tensorboardX\n",
            "\u001b[?25l  Downloading https://files.pythonhosted.org/packages/af/0c/4f41bcd45db376e6fe5c619c01100e9b7531c55791b7244815bac6eac32c/tensorboardX-2.1-py2.py3-none-any.whl (308kB)\n",
            "\r\u001b[K     |█                               | 10kB 17.3MB/s eta 0:00:01\r\u001b[K     |██▏                             | 20kB 18.1MB/s eta 0:00:01\r\u001b[K     |███▏                            | 30kB 15.1MB/s eta 0:00:01\r\u001b[K     |████▎                           | 40kB 13.8MB/s eta 0:00:01\r\u001b[K     |█████▎                          | 51kB 11.6MB/s eta 0:00:01\r\u001b[K     |██████▍                         | 61kB 10.2MB/s eta 0:00:01\r\u001b[K     |███████▍                        | 71kB 11.4MB/s eta 0:00:01\r\u001b[K     |████████▌                       | 81kB 12.5MB/s eta 0:00:01\r\u001b[K     |█████████▌                      | 92kB 13.3MB/s eta 0:00:01\r\u001b[K     |██████████▋                     | 102kB 11.1MB/s eta 0:00:01\r\u001b[K     |███████████▊                    | 112kB 11.1MB/s eta 0:00:01\r\u001b[K     |████████████▊                   | 122kB 11.1MB/s eta 0:00:01\r\u001b[K     |█████████████▉                  | 133kB 11.1MB/s eta 0:00:01\r\u001b[K     |██████████████▉                 | 143kB 11.1MB/s eta 0:00:01\r\u001b[K     |████████████████                | 153kB 11.1MB/s eta 0:00:01\r\u001b[K     |█████████████████               | 163kB 11.1MB/s eta 0:00:01\r\u001b[K     |██████████████████              | 174kB 11.1MB/s eta 0:00:01\r\u001b[K     |███████████████████             | 184kB 11.1MB/s eta 0:00:01\r\u001b[K     |████████████████████▏           | 194kB 11.1MB/s eta 0:00:01\r\u001b[K     |█████████████████████▎          | 204kB 11.1MB/s eta 0:00:01\r\u001b[K     |██████████████████████▎         | 215kB 11.1MB/s eta 0:00:01\r\u001b[K     |███████████████████████▍        | 225kB 11.1MB/s eta 0:00:01\r\u001b[K     |████████████████████████▍       | 235kB 11.1MB/s eta 0:00:01\r\u001b[K     |█████████████████████████▌      | 245kB 11.1MB/s eta 0:00:01\r\u001b[K     |██████████████████████████▌     | 256kB 11.1MB/s eta 0:00:01\r\u001b[K     |███████████████████████████▋    | 266kB 11.1MB/s eta 0:00:01\r\u001b[K     |████████████████████████████▋   | 276kB 11.1MB/s eta 0:00:01\r\u001b[K     |█████████████████████████████▊  | 286kB 11.1MB/s eta 0:00:01\r\u001b[K     |██████████████████████████████▊ | 296kB 11.1MB/s eta 0:00:01\r\u001b[K     |███████████████████████████████▉| 307kB 11.1MB/s eta 0:00:01\r\u001b[K     |████████████████████████████████| 317kB 11.1MB/s \n",
            "\u001b[?25hRequirement already satisfied: six in /usr/local/lib/python3.6/dist-packages (from tensorboardX) (1.15.0)\n",
            "Requirement already satisfied: numpy in /usr/local/lib/python3.6/dist-packages (from tensorboardX) (1.19.5)\n",
            "Requirement already satisfied: protobuf>=3.8.0 in /usr/local/lib/python3.6/dist-packages (from tensorboardX) (3.12.4)\n",
            "Requirement already satisfied: setuptools in /usr/local/lib/python3.6/dist-packages (from protobuf>=3.8.0->tensorboardX) (51.1.2)\n",
            "Installing collected packages: tensorboardX\n",
            "Successfully installed tensorboardX-2.1\n"
          ],
          "name": "stdout"
        }
      ]
    },
    {
      "cell_type": "code",
      "metadata": {
        "id": "RZlR2PeJQxso"
      },
      "source": [
        "import sys\n",
        "import numpy as np\n",
        "sys.path.append('/content/drive/My Drive/textcnn/')"
      ],
      "execution_count": null,
      "outputs": []
    },
    {
      "cell_type": "code",
      "metadata": {
        "id": "PtEgqSQgQnVj",
        "colab": {
          "base_uri": "https://localhost:8080/"
        },
        "outputId": "812f754a-55f6-49f1-c439-22bfd725be8e"
      },
      "source": [
        "%run '/content/drive/My Drive/textcnn/run1.py' --model TextCNN --word True\n",
        "predict_all[predict_all==0] = -1\n",
        "np.savetxt(\"/content/drive/MyDrive/textcnn/output/wk1.txt\", predict_all, delimiter=\",\", fmt=\"%d\")"
      ],
      "execution_count": null,
      "outputs": [
        {
          "output_type": "stream",
          "text": [
            "Loading data...\n"
          ],
          "name": "stdout"
        },
        {
          "output_type": "stream",
          "text": [
            "2114it [00:00, 40610.98it/s]\n",
            "528it [00:00, 35996.17it/s]\n",
            "4185it [00:00, 41849.74it/s]"
          ],
          "name": "stderr"
        },
        {
          "output_type": "stream",
          "text": [
            "Vocab size: 352159\n"
          ],
          "name": "stdout"
        },
        {
          "output_type": "stream",
          "text": [
            "9204it [00:00, 42945.33it/s]\n"
          ],
          "name": "stderr"
        },
        {
          "output_type": "stream",
          "text": [
            "Time usage: 0:00:02\n",
            "<bound method Module.parameters of Model(\n",
            "  (embedding): Embedding(352159, 300)\n",
            "  (convs): ModuleList(\n",
            "    (0): Conv2d(1, 256, kernel_size=(2, 300), stride=(1, 1))\n",
            "    (1): Conv2d(1, 256, kernel_size=(3, 300), stride=(1, 1))\n",
            "    (2): Conv2d(1, 256, kernel_size=(4, 300), stride=(1, 1))\n",
            "  )\n",
            "  (dropout): Dropout(p=0.5, inplace=False)\n",
            "  (fc): Linear(in_features=768, out_features=2, bias=True)\n",
            ")>\n",
            "Epoch [1/10]\n",
            "Iter:      0,  Train Loss:  0.71,  Train Acc: 37.50%,  Val Loss:  0.59,  Val Acc: 71.68%,  Time: 0:00:02 *\n",
            "Epoch [2/10]\n",
            "Iter:     20,  Train Loss:   0.4,  Train Acc: 82.03%,  Val Loss:  0.42,  Val Acc: 79.88%,  Time: 0:00:05 *\n",
            "Epoch [3/10]\n",
            "Iter:     40,  Train Loss:  0.42,  Train Acc: 79.69%,  Val Loss:  0.33,  Val Acc: 84.18%,  Time: 0:00:08 *\n",
            "Epoch [4/10]\n",
            "Iter:     60,  Train Loss:  0.26,  Train Acc: 89.84%,  Val Loss:  0.29,  Val Acc: 89.06%,  Time: 0:00:10 *\n",
            "Epoch [5/10]\n",
            "Iter:     80,  Train Loss:  0.24,  Train Acc: 91.41%,  Val Loss:  0.27,  Val Acc: 89.84%,  Time: 0:00:12 *\n",
            "Epoch [6/10]\n",
            "Iter:    100,  Train Loss:  0.19,  Train Acc: 96.09%,  Val Loss:  0.26,  Val Acc: 89.45%,  Time: 0:00:14 *\n",
            "Epoch [7/10]\n",
            "Epoch [8/10]\n",
            "Iter:    120,  Train Loss:  0.12,  Train Acc: 96.88%,  Val Loss:  0.24,  Val Acc: 89.65%,  Time: 0:00:19 *\n",
            "Epoch [9/10]\n",
            "Iter:    140,  Train Loss:   0.1,  Train Acc: 97.66%,  Val Loss:  0.27,  Val Acc: 88.28%,  Time: 0:00:19 \n",
            "Epoch [10/10]\n",
            "Iter:    160,  Train Loss: 0.081,  Train Acc: 96.88%,  Val Loss:  0.27,  Val Acc: 88.09%,  Time: 0:00:19 \n",
            "Test Loss:  0.41,  Test Acc: 81.63%\n",
            "Precision, Recall and F1-Score...\n",
            "              precision    recall  f1-score   support\n",
            "\n",
            "    negative     0.7884    0.7761    0.7822      3913\n",
            "    positive     0.8363    0.8460    0.8411      5291\n",
            "\n",
            "    accuracy                         0.8163      9204\n",
            "   macro avg     0.8124    0.8110    0.8117      9204\n",
            "weighted avg     0.8160    0.8163    0.8161      9204\n",
            "\n",
            "Confusion Matrix...\n",
            "[[3037  876]\n",
            " [ 815 4476]]\n",
            "Time usage: 0:00:00\n"
          ],
          "name": "stdout"
        }
      ]
    },
    {
      "cell_type": "code",
      "metadata": {
        "id": "rLDMd6KTRfjI",
        "colab": {
          "base_uri": "https://localhost:8080/"
        },
        "outputId": "def0b8ce-4740-4c3a-f1b3-69d9358f20b3"
      },
      "source": [
        "%run '/content/drive/My Drive/textcnn/run2.py' --model TextCNN --word True\n",
        "predict_all[predict_all==0] = -1\n",
        "np.savetxt(\"/content/drive/MyDrive/textcnn/output/wk2.txt\", predict_all, delimiter=\",\", fmt=\"%d\")"
      ],
      "execution_count": null,
      "outputs": [
        {
          "output_type": "stream",
          "text": [
            "\r0it [00:00, ?it/s]"
          ],
          "name": "stderr"
        },
        {
          "output_type": "stream",
          "text": [
            "Loading data...\n",
            "Vocab size: 352159\n"
          ],
          "name": "stdout"
        },
        {
          "output_type": "stream",
          "text": [
            "2114it [00:00, 31715.13it/s]\n",
            "528it [00:00, 30635.69it/s]\n",
            "9204it [00:00, 40294.57it/s]\n"
          ],
          "name": "stderr"
        },
        {
          "output_type": "stream",
          "text": [
            "Time usage: 0:00:00\n",
            "<bound method Module.parameters of Model(\n",
            "  (embedding): Embedding(352159, 300)\n",
            "  (convs): ModuleList(\n",
            "    (0): Conv2d(1, 256, kernel_size=(2, 300), stride=(1, 1))\n",
            "    (1): Conv2d(1, 256, kernel_size=(3, 300), stride=(1, 1))\n",
            "    (2): Conv2d(1, 256, kernel_size=(4, 300), stride=(1, 1))\n",
            "  )\n",
            "  (dropout): Dropout(p=0.5, inplace=False)\n",
            "  (fc): Linear(in_features=768, out_features=2, bias=True)\n",
            ")>\n",
            "Epoch [1/10]\n",
            "Iter:      0,  Train Loss:  0.69,  Train Acc: 61.72%,  Val Loss:  0.59,  Val Acc: 71.68%,  Time: 0:00:02 *\n",
            "Epoch [2/10]\n",
            "Iter:     20,  Train Loss:  0.38,  Train Acc: 83.59%,  Val Loss:  0.39,  Val Acc: 81.64%,  Time: 0:00:06 *\n",
            "Epoch [3/10]\n",
            "Iter:     40,  Train Loss:   0.4,  Train Acc: 80.47%,  Val Loss:  0.31,  Val Acc: 86.13%,  Time: 0:00:07 *\n",
            "Epoch [4/10]\n",
            "Iter:     60,  Train Loss:  0.25,  Train Acc: 90.62%,  Val Loss:  0.28,  Val Acc: 89.65%,  Time: 0:00:13 *\n",
            "Epoch [5/10]\n",
            "Iter:     80,  Train Loss:  0.22,  Train Acc: 95.31%,  Val Loss:  0.26,  Val Acc: 89.84%,  Time: 0:00:18 *\n",
            "Epoch [6/10]\n",
            "Iter:    100,  Train Loss:  0.17,  Train Acc: 96.88%,  Val Loss:  0.25,  Val Acc: 89.84%,  Time: 0:00:23 *\n",
            "Epoch [7/10]\n",
            "Epoch [8/10]\n",
            "Iter:    120,  Train Loss: 0.099,  Train Acc: 97.66%,  Val Loss:  0.24,  Val Acc: 89.84%,  Time: 0:00:29 *\n",
            "Epoch [9/10]\n",
            "Iter:    140,  Train Loss: 0.083,  Train Acc: 100.00%,  Val Loss:  0.27,  Val Acc: 87.89%,  Time: 0:00:29 \n",
            "Epoch [10/10]\n",
            "Iter:    160,  Train Loss: 0.071,  Train Acc: 98.44%,  Val Loss:  0.25,  Val Acc: 89.06%,  Time: 0:00:29 \n",
            "Test Loss:  0.42,  Test Acc: 81.52%\n",
            "Precision, Recall and F1-Score...\n",
            "              precision    recall  f1-score   support\n",
            "\n",
            "    negative     0.7994    0.7547    0.7764      3913\n",
            "    positive     0.8258    0.8600    0.8425      5291\n",
            "\n",
            "    accuracy                         0.8152      9204\n",
            "   macro avg     0.8126    0.8073    0.8095      9204\n",
            "weighted avg     0.8146    0.8152    0.8144      9204\n",
            "\n",
            "Confusion Matrix...\n",
            "[[2953  960]\n",
            " [ 741 4550]]\n",
            "Time usage: 0:00:00\n"
          ],
          "name": "stdout"
        }
      ]
    },
    {
      "cell_type": "code",
      "metadata": {
        "id": "IVEBHco3Rfx8",
        "colab": {
          "base_uri": "https://localhost:8080/"
        },
        "outputId": "0e5b2953-80d7-490b-cfd6-05ffac27e8a8"
      },
      "source": [
        "%run '/content/drive/My Drive/textcnn/run3.py' --model TextCNN --word True\n",
        "predict_all[predict_all==0] = -1\n",
        "np.savetxt(\"/content/drive/MyDrive/textcnn/output/wk3.txt\", predict_all, delimiter=\",\", fmt=\"%d\")"
      ],
      "execution_count": null,
      "outputs": [
        {
          "output_type": "stream",
          "text": [
            "\r0it [00:00, ?it/s]"
          ],
          "name": "stderr"
        },
        {
          "output_type": "stream",
          "text": [
            "Loading data...\n",
            "Vocab size: 352159\n"
          ],
          "name": "stdout"
        },
        {
          "output_type": "stream",
          "text": [
            "2114it [00:00, 15742.22it/s]\n",
            "528it [00:00, 35487.99it/s]\n",
            "9204it [00:00, 43121.14it/s]\n"
          ],
          "name": "stderr"
        },
        {
          "output_type": "stream",
          "text": [
            "Time usage: 0:00:01\n",
            "<bound method Module.parameters of Model(\n",
            "  (embedding): Embedding(352159, 300)\n",
            "  (convs): ModuleList(\n",
            "    (0): Conv2d(1, 256, kernel_size=(2, 300), stride=(1, 1))\n",
            "    (1): Conv2d(1, 256, kernel_size=(3, 300), stride=(1, 1))\n",
            "    (2): Conv2d(1, 256, kernel_size=(4, 300), stride=(1, 1))\n",
            "  )\n",
            "  (dropout): Dropout(p=0.5, inplace=False)\n",
            "  (fc): Linear(in_features=768, out_features=2, bias=True)\n",
            ")>\n",
            "Epoch [1/10]\n",
            "Iter:      0,  Train Loss:   0.7,  Train Acc: 45.31%,  Val Loss:  0.59,  Val Acc: 71.68%,  Time: 0:00:02 *\n",
            "Epoch [2/10]\n",
            "Iter:     20,  Train Loss:  0.39,  Train Acc: 84.38%,  Val Loss:  0.41,  Val Acc: 80.27%,  Time: 0:00:06 *\n",
            "Epoch [3/10]\n",
            "Iter:     40,  Train Loss:  0.39,  Train Acc: 80.47%,  Val Loss:  0.32,  Val Acc: 86.13%,  Time: 0:00:11 *\n",
            "Epoch [4/10]\n",
            "Iter:     60,  Train Loss:  0.26,  Train Acc: 90.62%,  Val Loss:  0.28,  Val Acc: 89.65%,  Time: 0:00:14 *\n",
            "Epoch [5/10]\n",
            "Iter:     80,  Train Loss:  0.23,  Train Acc: 92.97%,  Val Loss:  0.27,  Val Acc: 89.45%,  Time: 0:00:21 *\n",
            "Epoch [6/10]\n",
            "Iter:    100,  Train Loss:   0.2,  Train Acc: 94.53%,  Val Loss:  0.25,  Val Acc: 89.65%,  Time: 0:00:27 *\n",
            "Epoch [7/10]\n",
            "Epoch [8/10]\n",
            "Iter:    120,  Train Loss:  0.11,  Train Acc: 97.66%,  Val Loss:  0.24,  Val Acc: 89.26%,  Time: 0:00:30 *\n",
            "Epoch [9/10]\n",
            "Iter:    140,  Train Loss: 0.099,  Train Acc: 97.66%,  Val Loss:  0.26,  Val Acc: 88.48%,  Time: 0:00:30 \n",
            "Epoch [10/10]\n",
            "Iter:    160,  Train Loss:  0.08,  Train Acc: 97.66%,  Val Loss:  0.27,  Val Acc: 88.48%,  Time: 0:00:31 \n",
            "Test Loss:  0.41,  Test Acc: 81.69%\n",
            "Precision, Recall and F1-Score...\n",
            "              precision    recall  f1-score   support\n",
            "\n",
            "    negative     0.7975    0.7631    0.7799      3913\n",
            "    positive     0.8302    0.8567    0.8433      5291\n",
            "\n",
            "    accuracy                         0.8169      9204\n",
            "   macro avg     0.8139    0.8099    0.8116      9204\n",
            "weighted avg     0.8163    0.8169    0.8163      9204\n",
            "\n",
            "Confusion Matrix...\n",
            "[[2986  927]\n",
            " [ 758 4533]]\n",
            "Time usage: 0:00:00\n"
          ],
          "name": "stdout"
        }
      ]
    },
    {
      "cell_type": "code",
      "metadata": {
        "id": "CIpU5C37RgEr",
        "colab": {
          "base_uri": "https://localhost:8080/"
        },
        "outputId": "70b8eae3-8e91-43f2-ca4d-105b23aab45c"
      },
      "source": [
        "%run '/content/drive/My Drive/textcnn/run4.py' --model TextCNN --word True\n",
        "predict_all[predict_all==0] = -1\n",
        "np.savetxt(\"/content/drive/MyDrive/textcnn/output/wk4.txt\", predict_all, delimiter=\",\", fmt=\"%d\")"
      ],
      "execution_count": null,
      "outputs": [
        {
          "output_type": "stream",
          "text": [
            "\r0it [00:00, ?it/s]"
          ],
          "name": "stderr"
        },
        {
          "output_type": "stream",
          "text": [
            "Loading data...\n",
            "Vocab size: 352159\n"
          ],
          "name": "stdout"
        },
        {
          "output_type": "stream",
          "text": [
            "2114it [00:00, 32440.23it/s]\n",
            "528it [00:00, 42003.50it/s]\n",
            "9204it [00:00, 42219.04it/s]\n"
          ],
          "name": "stderr"
        },
        {
          "output_type": "stream",
          "text": [
            "Time usage: 0:00:00\n",
            "<bound method Module.parameters of Model(\n",
            "  (embedding): Embedding(352159, 300)\n",
            "  (convs): ModuleList(\n",
            "    (0): Conv2d(1, 256, kernel_size=(2, 300), stride=(1, 1))\n",
            "    (1): Conv2d(1, 256, kernel_size=(3, 300), stride=(1, 1))\n",
            "    (2): Conv2d(1, 256, kernel_size=(4, 300), stride=(1, 1))\n",
            "  )\n",
            "  (dropout): Dropout(p=0.5, inplace=False)\n",
            "  (fc): Linear(in_features=768, out_features=2, bias=True)\n",
            ")>\n",
            "Epoch [1/10]\n",
            "Iter:      0,  Train Loss:  0.71,  Train Acc: 40.62%,  Val Loss:  0.59,  Val Acc: 71.68%,  Time: 0:00:02 *\n",
            "Epoch [2/10]\n",
            "Iter:     20,  Train Loss:  0.39,  Train Acc: 85.16%,  Val Loss:  0.41,  Val Acc: 80.27%,  Time: 0:00:04 *\n",
            "Epoch [3/10]\n",
            "Iter:     40,  Train Loss:  0.42,  Train Acc: 80.47%,  Val Loss:  0.32,  Val Acc: 85.55%,  Time: 0:00:08 *\n",
            "Epoch [4/10]\n",
            "Iter:     60,  Train Loss:  0.25,  Train Acc: 90.62%,  Val Loss:  0.28,  Val Acc: 90.04%,  Time: 0:00:13 *\n",
            "Epoch [5/10]\n",
            "Iter:     80,  Train Loss:  0.22,  Train Acc: 95.31%,  Val Loss:  0.27,  Val Acc: 89.84%,  Time: 0:00:20 *\n",
            "Epoch [6/10]\n",
            "Iter:    100,  Train Loss:  0.17,  Train Acc: 95.31%,  Val Loss:  0.25,  Val Acc: 90.43%,  Time: 0:00:22 *\n",
            "Epoch [7/10]\n",
            "Epoch [8/10]\n",
            "Iter:    120,  Train Loss:  0.12,  Train Acc: 98.44%,  Val Loss:  0.24,  Val Acc: 89.06%,  Time: 0:00:28 *\n",
            "Epoch [9/10]\n",
            "Iter:    140,  Train Loss: 0.082,  Train Acc: 100.00%,  Val Loss:  0.27,  Val Acc: 88.48%,  Time: 0:00:29 \n",
            "Epoch [10/10]\n",
            "Iter:    160,  Train Loss:  0.08,  Train Acc: 97.66%,  Val Loss:  0.25,  Val Acc: 89.26%,  Time: 0:00:29 \n",
            "Test Loss:  0.41,  Test Acc: 81.57%\n",
            "Precision, Recall and F1-Score...\n",
            "              precision    recall  f1-score   support\n",
            "\n",
            "    negative     0.8033    0.7503    0.7759      3913\n",
            "    positive     0.8239    0.8641    0.8435      5291\n",
            "\n",
            "    accuracy                         0.8157      9204\n",
            "   macro avg     0.8136    0.8072    0.8097      9204\n",
            "weighted avg     0.8152    0.8157    0.8148      9204\n",
            "\n",
            "Confusion Matrix...\n",
            "[[2936  977]\n",
            " [ 719 4572]]\n",
            "Time usage: 0:00:00\n"
          ],
          "name": "stdout"
        }
      ]
    },
    {
      "cell_type": "code",
      "metadata": {
        "id": "-lUCBT4oRgKM",
        "colab": {
          "base_uri": "https://localhost:8080/"
        },
        "outputId": "8352a502-6712-45b6-9bef-c45c57753bf8"
      },
      "source": [
        "%run '/content/drive/My Drive/textcnn/run5.py' --model TextCNN --word True\n",
        "predict_all[predict_all==0] = -1\n",
        "np.savetxt(\"/content/drive/MyDrive/textcnn/output/wk5.txt\", predict_all, delimiter=\",\", fmt=\"%d\")"
      ],
      "execution_count": null,
      "outputs": [
        {
          "output_type": "stream",
          "text": [
            "\r0it [00:00, ?it/s]"
          ],
          "name": "stderr"
        },
        {
          "output_type": "stream",
          "text": [
            "Loading data...\n",
            "Vocab size: 352159\n"
          ],
          "name": "stdout"
        },
        {
          "output_type": "stream",
          "text": [
            "2114it [00:00, 39764.99it/s]\n",
            "528it [00:00, 37046.33it/s]\n",
            "9204it [00:00, 44695.52it/s]\n"
          ],
          "name": "stderr"
        },
        {
          "output_type": "stream",
          "text": [
            "Time usage: 0:00:00\n",
            "<bound method Module.parameters of Model(\n",
            "  (embedding): Embedding(352159, 300)\n",
            "  (convs): ModuleList(\n",
            "    (0): Conv2d(1, 256, kernel_size=(2, 300), stride=(1, 1))\n",
            "    (1): Conv2d(1, 256, kernel_size=(3, 300), stride=(1, 1))\n",
            "    (2): Conv2d(1, 256, kernel_size=(4, 300), stride=(1, 1))\n",
            "  )\n",
            "  (dropout): Dropout(p=0.5, inplace=False)\n",
            "  (fc): Linear(in_features=768, out_features=2, bias=True)\n",
            ")>\n",
            "Epoch [1/10]\n",
            "Iter:      0,  Train Loss:  0.68,  Train Acc: 65.62%,  Val Loss:  0.59,  Val Acc: 71.68%,  Time: 0:00:02 *\n",
            "Epoch [2/10]\n",
            "Iter:     20,  Train Loss:  0.37,  Train Acc: 84.38%,  Val Loss:   0.4,  Val Acc: 81.25%,  Time: 0:00:06 *\n",
            "Epoch [3/10]\n",
            "Iter:     40,  Train Loss:   0.4,  Train Acc: 80.47%,  Val Loss:  0.32,  Val Acc: 85.55%,  Time: 0:00:10 *\n",
            "Epoch [4/10]\n",
            "Iter:     60,  Train Loss:  0.24,  Train Acc: 89.84%,  Val Loss:  0.28,  Val Acc: 89.06%,  Time: 0:00:16 *\n",
            "Epoch [5/10]\n",
            "Iter:     80,  Train Loss:  0.22,  Train Acc: 94.53%,  Val Loss:  0.27,  Val Acc: 89.26%,  Time: 0:00:21 *\n",
            "Epoch [6/10]\n",
            "Iter:    100,  Train Loss:  0.18,  Train Acc: 95.31%,  Val Loss:  0.25,  Val Acc: 90.04%,  Time: 0:00:26 *\n",
            "Epoch [7/10]\n",
            "Epoch [8/10]\n",
            "Iter:    120,  Train Loss:  0.11,  Train Acc: 98.44%,  Val Loss:  0.24,  Val Acc: 89.65%,  Time: 0:00:30 *\n",
            "Epoch [9/10]\n",
            "Iter:    140,  Train Loss: 0.085,  Train Acc: 100.00%,  Val Loss:  0.26,  Val Acc: 88.09%,  Time: 0:00:30 \n",
            "Epoch [10/10]\n",
            "Iter:    160,  Train Loss: 0.067,  Train Acc: 97.66%,  Val Loss:  0.26,  Val Acc: 89.06%,  Time: 0:00:30 \n",
            "Test Loss:  0.42,  Test Acc: 81.52%\n",
            "Precision, Recall and F1-Score...\n",
            "              precision    recall  f1-score   support\n",
            "\n",
            "    negative     0.7943    0.7628    0.7783      3913\n",
            "    positive     0.8296    0.8539    0.8416      5291\n",
            "\n",
            "    accuracy                         0.8152      9204\n",
            "   macro avg     0.8120    0.8084    0.8099      9204\n",
            "weighted avg     0.8146    0.8152    0.8147      9204\n",
            "\n",
            "Confusion Matrix...\n",
            "[[2985  928]\n",
            " [ 773 4518]]\n",
            "Time usage: 0:00:00\n"
          ],
          "name": "stdout"
        }
      ]
    },
    {
      "cell_type": "code",
      "metadata": {
        "id": "8MJBHcpLWuAp",
        "colab": {
          "base_uri": "https://localhost:8080/"
        },
        "outputId": "810cc7fe-6d71-42f7-d29a-1cfcacc7b7da"
      },
      "source": [
        "%run '/content/drive/My Drive/textcnn/run6.py' --model TextCNN --word True\n",
        "predict_all[predict_all==0] = -1\n",
        "np.savetxt(\"/content/drive/MyDrive/textcnn/output/wk6.txt\", predict_all, delimiter=\",\", fmt=\"%d\")"
      ],
      "execution_count": null,
      "outputs": [
        {
          "output_type": "stream",
          "text": [
            "\r0it [00:00, ?it/s]"
          ],
          "name": "stderr"
        },
        {
          "output_type": "stream",
          "text": [
            "Loading data...\n",
            "Vocab size: 352159\n"
          ],
          "name": "stdout"
        },
        {
          "output_type": "stream",
          "text": [
            "2114it [00:00, 42859.64it/s]\n",
            "528it [00:00, 25996.84it/s]\n",
            "9204it [00:00, 23513.19it/s]\n"
          ],
          "name": "stderr"
        },
        {
          "output_type": "stream",
          "text": [
            "Time usage: 0:00:01\n",
            "<bound method Module.parameters of Model(\n",
            "  (embedding): Embedding(352159, 300)\n",
            "  (convs): ModuleList(\n",
            "    (0): Conv2d(1, 256, kernel_size=(2, 300), stride=(1, 1))\n",
            "    (1): Conv2d(1, 256, kernel_size=(3, 300), stride=(1, 1))\n",
            "    (2): Conv2d(1, 256, kernel_size=(4, 300), stride=(1, 1))\n",
            "  )\n",
            "  (dropout): Dropout(p=0.5, inplace=False)\n",
            "  (fc): Linear(in_features=768, out_features=2, bias=True)\n",
            ")>\n",
            "Epoch [1/10]\n",
            "Iter:      0,  Train Loss:  0.69,  Train Acc: 54.69%,  Val Loss:  0.59,  Val Acc: 71.68%,  Time: 0:00:02 *\n",
            "Epoch [2/10]\n",
            "Iter:     20,  Train Loss:  0.38,  Train Acc: 84.38%,  Val Loss:   0.4,  Val Acc: 80.86%,  Time: 0:00:04 *\n",
            "Epoch [3/10]\n",
            "Iter:     40,  Train Loss:  0.38,  Train Acc: 82.03%,  Val Loss:  0.31,  Val Acc: 86.33%,  Time: 0:00:06 *\n",
            "Epoch [4/10]\n",
            "Iter:     60,  Train Loss:  0.25,  Train Acc: 90.62%,  Val Loss:  0.28,  Val Acc: 89.84%,  Time: 0:00:10 *\n",
            "Epoch [5/10]\n",
            "Iter:     80,  Train Loss:  0.22,  Train Acc: 94.53%,  Val Loss:  0.27,  Val Acc: 89.65%,  Time: 0:00:18 *\n",
            "Epoch [6/10]\n",
            "Iter:    100,  Train Loss:  0.17,  Train Acc: 96.09%,  Val Loss:  0.25,  Val Acc: 89.26%,  Time: 0:00:20 *\n",
            "Epoch [7/10]\n",
            "Epoch [8/10]\n",
            "Iter:    120,  Train Loss:  0.11,  Train Acc: 98.44%,  Val Loss:  0.25,  Val Acc: 89.45%,  Time: 0:00:28 *\n",
            "Epoch [9/10]\n",
            "Iter:    140,  Train Loss: 0.084,  Train Acc: 99.22%,  Val Loss:  0.27,  Val Acc: 88.28%,  Time: 0:00:28 \n",
            "Epoch [10/10]\n",
            "Iter:    160,  Train Loss: 0.078,  Train Acc: 96.88%,  Val Loss:  0.26,  Val Acc: 88.87%,  Time: 0:00:28 \n",
            "Test Loss:  0.41,  Test Acc: 81.44%\n",
            "Precision, Recall and F1-Score...\n",
            "              precision    recall  f1-score   support\n",
            "\n",
            "    negative     0.7985    0.7536    0.7754      3913\n",
            "    positive     0.8251    0.8594    0.8419      5291\n",
            "\n",
            "    accuracy                         0.8144      9204\n",
            "   macro avg     0.8118    0.8065    0.8087      9204\n",
            "weighted avg     0.8138    0.8144    0.8136      9204\n",
            "\n",
            "Confusion Matrix...\n",
            "[[2949  964]\n",
            " [ 744 4547]]\n",
            "Time usage: 0:00:00\n"
          ],
          "name": "stdout"
        }
      ]
    },
    {
      "cell_type": "code",
      "metadata": {
        "id": "naGp74ajWuFH",
        "colab": {
          "base_uri": "https://localhost:8080/"
        },
        "outputId": "999558be-94a7-43de-f384-f0e6bc1038f9"
      },
      "source": [
        "%run '/content/drive/My Drive/textcnn/run7.py' --model TextCNN --word True\n",
        "predict_all[predict_all==0] = -1\n",
        "np.savetxt(\"/content/drive/MyDrive/textcnn/output/wk7.txt\", predict_all, delimiter=\",\", fmt=\"%d\")"
      ],
      "execution_count": null,
      "outputs": [
        {
          "output_type": "stream",
          "text": [
            "\r0it [00:00, ?it/s]"
          ],
          "name": "stderr"
        },
        {
          "output_type": "stream",
          "text": [
            "Loading data...\n",
            "Vocab size: 352159\n"
          ],
          "name": "stdout"
        },
        {
          "output_type": "stream",
          "text": [
            "2114it [00:00, 35683.85it/s]\n",
            "528it [00:00, 35522.14it/s]\n",
            "9204it [00:00, 30784.94it/s]\n"
          ],
          "name": "stderr"
        },
        {
          "output_type": "stream",
          "text": [
            "Time usage: 0:00:01\n",
            "<bound method Module.parameters of Model(\n",
            "  (embedding): Embedding(352159, 300)\n",
            "  (convs): ModuleList(\n",
            "    (0): Conv2d(1, 256, kernel_size=(2, 300), stride=(1, 1))\n",
            "    (1): Conv2d(1, 256, kernel_size=(3, 300), stride=(1, 1))\n",
            "    (2): Conv2d(1, 256, kernel_size=(4, 300), stride=(1, 1))\n",
            "  )\n",
            "  (dropout): Dropout(p=0.5, inplace=False)\n",
            "  (fc): Linear(in_features=768, out_features=2, bias=True)\n",
            ")>\n",
            "Epoch [1/10]\n",
            "Iter:      0,  Train Loss:  0.69,  Train Acc: 54.69%,  Val Loss:  0.59,  Val Acc: 71.68%,  Time: 0:00:02 *\n",
            "Epoch [2/10]\n",
            "Iter:     20,  Train Loss:  0.38,  Train Acc: 82.03%,  Val Loss:   0.4,  Val Acc: 80.86%,  Time: 0:00:05 *\n",
            "Epoch [3/10]\n",
            "Iter:     40,  Train Loss:   0.4,  Train Acc: 82.03%,  Val Loss:  0.31,  Val Acc: 85.55%,  Time: 0:00:09 *\n",
            "Epoch [4/10]\n",
            "Iter:     60,  Train Loss:  0.25,  Train Acc: 89.06%,  Val Loss:  0.28,  Val Acc: 89.65%,  Time: 0:00:14 *\n",
            "Epoch [5/10]\n",
            "Iter:     80,  Train Loss:  0.23,  Train Acc: 92.97%,  Val Loss:  0.27,  Val Acc: 89.45%,  Time: 0:00:19 *\n",
            "Epoch [6/10]\n",
            "Iter:    100,  Train Loss:  0.17,  Train Acc: 95.31%,  Val Loss:  0.25,  Val Acc: 90.23%,  Time: 0:00:25 *\n",
            "Epoch [7/10]\n",
            "Epoch [8/10]\n",
            "Iter:    120,  Train Loss:  0.11,  Train Acc: 97.66%,  Val Loss:  0.24,  Val Acc: 89.45%,  Time: 0:00:30 *\n",
            "Epoch [9/10]\n",
            "Iter:    140,  Train Loss: 0.085,  Train Acc: 99.22%,  Val Loss:  0.26,  Val Acc: 88.67%,  Time: 0:00:30 \n",
            "Epoch [10/10]\n",
            "Iter:    160,  Train Loss: 0.074,  Train Acc: 98.44%,  Val Loss:  0.26,  Val Acc: 89.06%,  Time: 0:00:30 \n",
            "Test Loss:  0.41,  Test Acc: 81.58%\n",
            "Precision, Recall and F1-Score...\n",
            "              precision    recall  f1-score   support\n",
            "\n",
            "    negative     0.8009    0.7544    0.7769      3913\n",
            "    positive     0.8258    0.8613    0.8432      5291\n",
            "\n",
            "    accuracy                         0.8158      9204\n",
            "   macro avg     0.8134    0.8078    0.8101      9204\n",
            "weighted avg     0.8152    0.8158    0.8150      9204\n",
            "\n",
            "Confusion Matrix...\n",
            "[[2952  961]\n",
            " [ 734 4557]]\n",
            "Time usage: 0:00:00\n"
          ],
          "name": "stdout"
        }
      ]
    },
    {
      "cell_type": "code",
      "metadata": {
        "id": "o9-oQsB2WuKX",
        "colab": {
          "base_uri": "https://localhost:8080/"
        },
        "outputId": "c1a6a700-2a79-40f2-a40d-cbbeed5c82a2"
      },
      "source": [
        "%run '/content/drive/My Drive/textcnn/run8.py' --model TextCNN --word True\n",
        "predict_all[predict_all==0] = -1\n",
        "np.savetxt(\"/content/drive/MyDrive/textcnn/output/wk8.txt\", predict_all, delimiter=\",\", fmt=\"%d\")"
      ],
      "execution_count": null,
      "outputs": [
        {
          "output_type": "stream",
          "text": [
            "\r0it [00:00, ?it/s]"
          ],
          "name": "stderr"
        },
        {
          "output_type": "stream",
          "text": [
            "Loading data...\n",
            "Vocab size: 352159\n"
          ],
          "name": "stdout"
        },
        {
          "output_type": "stream",
          "text": [
            "2114it [00:00, 32665.15it/s]\n",
            "528it [00:00, 35141.66it/s]\n",
            "9204it [00:00, 35753.53it/s]\n"
          ],
          "name": "stderr"
        },
        {
          "output_type": "stream",
          "text": [
            "Time usage: 0:00:01\n",
            "<bound method Module.parameters of Model(\n",
            "  (embedding): Embedding(352159, 300)\n",
            "  (convs): ModuleList(\n",
            "    (0): Conv2d(1, 256, kernel_size=(2, 300), stride=(1, 1))\n",
            "    (1): Conv2d(1, 256, kernel_size=(3, 300), stride=(1, 1))\n",
            "    (2): Conv2d(1, 256, kernel_size=(4, 300), stride=(1, 1))\n",
            "  )\n",
            "  (dropout): Dropout(p=0.5, inplace=False)\n",
            "  (fc): Linear(in_features=768, out_features=2, bias=True)\n",
            ")>\n",
            "Epoch [1/10]\n",
            "Iter:      0,  Train Loss:   0.7,  Train Acc: 49.22%,  Val Loss:  0.59,  Val Acc: 71.68%,  Time: 0:00:02 *\n",
            "Epoch [2/10]\n",
            "Iter:     20,  Train Loss:  0.39,  Train Acc: 83.59%,  Val Loss:  0.41,  Val Acc: 79.88%,  Time: 0:00:04 *\n",
            "Epoch [3/10]\n",
            "Iter:     40,  Train Loss:  0.41,  Train Acc: 80.47%,  Val Loss:  0.32,  Val Acc: 86.13%,  Time: 0:00:08 *\n",
            "Epoch [4/10]\n",
            "Iter:     60,  Train Loss:  0.26,  Train Acc: 89.84%,  Val Loss:  0.28,  Val Acc: 89.65%,  Time: 0:00:13 *\n",
            "Epoch [5/10]\n",
            "Iter:     80,  Train Loss:  0.22,  Train Acc: 92.97%,  Val Loss:  0.27,  Val Acc: 89.06%,  Time: 0:00:18 *\n",
            "Epoch [6/10]\n",
            "Iter:    100,  Train Loss:  0.18,  Train Acc: 96.09%,  Val Loss:  0.25,  Val Acc: 89.65%,  Time: 0:00:24 *\n",
            "Epoch [7/10]\n",
            "Epoch [8/10]\n",
            "Iter:    120,  Train Loss:  0.11,  Train Acc: 97.66%,  Val Loss:  0.24,  Val Acc: 90.43%,  Time: 0:00:29 *\n",
            "Epoch [9/10]\n",
            "Iter:    140,  Train Loss: 0.085,  Train Acc: 100.00%,  Val Loss:  0.26,  Val Acc: 88.48%,  Time: 0:00:29 \n",
            "Epoch [10/10]\n",
            "Iter:    160,  Train Loss: 0.066,  Train Acc: 98.44%,  Val Loss:  0.26,  Val Acc: 89.06%,  Time: 0:00:29 \n",
            "Test Loss:  0.41,  Test Acc: 81.62%\n",
            "Precision, Recall and F1-Score...\n",
            "              precision    recall  f1-score   support\n",
            "\n",
            "    negative     0.7936    0.7672    0.7801      3913\n",
            "    positive     0.8319    0.8524    0.8420      5291\n",
            "\n",
            "    accuracy                         0.8162      9204\n",
            "   macro avg     0.8127    0.8098    0.8111      9204\n",
            "weighted avg     0.8156    0.8162    0.8157      9204\n",
            "\n",
            "Confusion Matrix...\n",
            "[[3002  911]\n",
            " [ 781 4510]]\n",
            "Time usage: 0:00:00\n"
          ],
          "name": "stdout"
        }
      ]
    },
    {
      "cell_type": "code",
      "metadata": {
        "id": "whAGqV46WuRV",
        "colab": {
          "base_uri": "https://localhost:8080/"
        },
        "outputId": "82123360-8135-4fd0-dbdc-b4c04a0e7964"
      },
      "source": [
        "%run '/content/drive/My Drive/textcnn/run9.py' --model TextCNN --word True\n",
        "predict_all[predict_all==0] = -1\n",
        "np.savetxt(\"/content/drive/MyDrive/textcnn/output/wk9.txt\", predict_all, delimiter=\",\", fmt=\"%d\")"
      ],
      "execution_count": null,
      "outputs": [
        {
          "output_type": "stream",
          "text": [
            "\r0it [00:00, ?it/s]"
          ],
          "name": "stderr"
        },
        {
          "output_type": "stream",
          "text": [
            "Loading data...\n",
            "Vocab size: 352159\n"
          ],
          "name": "stdout"
        },
        {
          "output_type": "stream",
          "text": [
            "2114it [00:00, 38234.94it/s]\n",
            "528it [00:00, 38728.84it/s]\n",
            "9204it [00:00, 44992.45it/s]\n"
          ],
          "name": "stderr"
        },
        {
          "output_type": "stream",
          "text": [
            "Time usage: 0:00:00\n",
            "<bound method Module.parameters of Model(\n",
            "  (embedding): Embedding(352159, 300)\n",
            "  (convs): ModuleList(\n",
            "    (0): Conv2d(1, 256, kernel_size=(2, 300), stride=(1, 1))\n",
            "    (1): Conv2d(1, 256, kernel_size=(3, 300), stride=(1, 1))\n",
            "    (2): Conv2d(1, 256, kernel_size=(4, 300), stride=(1, 1))\n",
            "  )\n",
            "  (dropout): Dropout(p=0.5, inplace=False)\n",
            "  (fc): Linear(in_features=768, out_features=2, bias=True)\n",
            ")>\n",
            "Epoch [1/10]\n",
            "Iter:      0,  Train Loss:   0.7,  Train Acc: 47.66%,  Val Loss:  0.59,  Val Acc: 71.68%,  Time: 0:00:02 *\n",
            "Epoch [2/10]\n",
            "Iter:     20,  Train Loss:  0.38,  Train Acc: 82.03%,  Val Loss:   0.4,  Val Acc: 80.27%,  Time: 0:00:05 *\n",
            "Epoch [3/10]\n",
            "Iter:     40,  Train Loss:  0.41,  Train Acc: 78.12%,  Val Loss:  0.31,  Val Acc: 86.13%,  Time: 0:00:08 *\n",
            "Epoch [4/10]\n",
            "Iter:     60,  Train Loss:  0.25,  Train Acc: 89.06%,  Val Loss:  0.28,  Val Acc: 89.45%,  Time: 0:00:12 *\n",
            "Epoch [5/10]\n",
            "Iter:     80,  Train Loss:  0.23,  Train Acc: 90.62%,  Val Loss:  0.27,  Val Acc: 89.84%,  Time: 0:00:18 *\n",
            "Epoch [6/10]\n",
            "Iter:    100,  Train Loss:   0.2,  Train Acc: 93.75%,  Val Loss:  0.25,  Val Acc: 89.26%,  Time: 0:00:23 *\n",
            "Epoch [7/10]\n",
            "Epoch [8/10]\n",
            "Iter:    120,  Train Loss:  0.11,  Train Acc: 98.44%,  Val Loss:  0.24,  Val Acc: 90.04%,  Time: 0:00:31 *\n",
            "Epoch [9/10]\n",
            "Iter:    140,  Train Loss: 0.089,  Train Acc: 100.00%,  Val Loss:  0.27,  Val Acc: 88.09%,  Time: 0:00:31 \n",
            "Epoch [10/10]\n",
            "Iter:    160,  Train Loss: 0.078,  Train Acc: 97.66%,  Val Loss:  0.25,  Val Acc: 89.26%,  Time: 0:00:31 \n",
            "Test Loss:  0.41,  Test Acc: 81.73%\n",
            "Precision, Recall and F1-Score...\n",
            "              precision    recall  f1-score   support\n",
            "\n",
            "    negative     0.7852    0.7848    0.7850      3913\n",
            "    positive     0.8409    0.8412    0.8411      5291\n",
            "\n",
            "    accuracy                         0.8173      9204\n",
            "   macro avg     0.8131    0.8130    0.8131      9204\n",
            "weighted avg     0.8172    0.8173    0.8172      9204\n",
            "\n",
            "Confusion Matrix...\n",
            "[[3071  842]\n",
            " [ 840 4451]]\n",
            "Time usage: 0:00:00\n"
          ],
          "name": "stdout"
        }
      ]
    },
    {
      "cell_type": "code",
      "metadata": {
        "id": "AR4I6QJqWuYt",
        "colab": {
          "base_uri": "https://localhost:8080/"
        },
        "outputId": "2539ddf0-c859-4945-d487-3f3fa9e3cacc"
      },
      "source": [
        "%run '/content/drive/My Drive/textcnn/run10.py' --model TextCNN --word True\n",
        "predict_all[predict_all==0] = -1\n",
        "np.savetxt(\"/content/drive/MyDrive/textcnn/output/wk10.txt\", predict_all, delimiter=\",\", fmt=\"%d\")"
      ],
      "execution_count": null,
      "outputs": [
        {
          "output_type": "stream",
          "text": [
            "\r0it [00:00, ?it/s]"
          ],
          "name": "stderr"
        },
        {
          "output_type": "stream",
          "text": [
            "Loading data...\n",
            "Vocab size: 352159\n"
          ],
          "name": "stdout"
        },
        {
          "output_type": "stream",
          "text": [
            "2114it [00:00, 37421.48it/s]\n",
            "528it [00:00, 21523.68it/s]\n",
            "9204it [00:00, 19470.92it/s]\n"
          ],
          "name": "stderr"
        },
        {
          "output_type": "stream",
          "text": [
            "Time usage: 0:00:01\n",
            "<bound method Module.parameters of Model(\n",
            "  (embedding): Embedding(352159, 300)\n",
            "  (convs): ModuleList(\n",
            "    (0): Conv2d(1, 256, kernel_size=(2, 300), stride=(1, 1))\n",
            "    (1): Conv2d(1, 256, kernel_size=(3, 300), stride=(1, 1))\n",
            "    (2): Conv2d(1, 256, kernel_size=(4, 300), stride=(1, 1))\n",
            "  )\n",
            "  (dropout): Dropout(p=0.5, inplace=False)\n",
            "  (fc): Linear(in_features=768, out_features=2, bias=True)\n",
            ")>\n",
            "Epoch [1/10]\n",
            "Iter:      0,  Train Loss:  0.72,  Train Acc: 32.81%,  Val Loss:  0.59,  Val Acc: 71.68%,  Time: 0:00:02 *\n",
            "Epoch [2/10]\n",
            "Iter:     20,  Train Loss:  0.39,  Train Acc: 82.81%,  Val Loss:  0.42,  Val Acc: 79.69%,  Time: 0:00:06 *\n",
            "Epoch [3/10]\n",
            "Iter:     40,  Train Loss:  0.42,  Train Acc: 80.47%,  Val Loss:  0.32,  Val Acc: 84.77%,  Time: 0:00:08 *\n",
            "Epoch [4/10]\n",
            "Iter:     60,  Train Loss:  0.27,  Train Acc: 89.06%,  Val Loss:  0.28,  Val Acc: 89.45%,  Time: 0:00:10 *\n",
            "Epoch [5/10]\n",
            "Iter:     80,  Train Loss:  0.24,  Train Acc: 92.97%,  Val Loss:  0.27,  Val Acc: 89.65%,  Time: 0:00:14 *\n",
            "Epoch [6/10]\n",
            "Iter:    100,  Train Loss:   0.2,  Train Acc: 92.97%,  Val Loss:  0.25,  Val Acc: 89.84%,  Time: 0:00:20 *\n",
            "Epoch [7/10]\n",
            "Epoch [8/10]\n",
            "Iter:    120,  Train Loss:  0.13,  Train Acc: 94.53%,  Val Loss:  0.24,  Val Acc: 89.65%,  Time: 0:00:26 *\n",
            "Epoch [9/10]\n",
            "Iter:    140,  Train Loss: 0.095,  Train Acc: 99.22%,  Val Loss:  0.27,  Val Acc: 88.09%,  Time: 0:00:26 \n",
            "Epoch [10/10]\n",
            "Iter:    160,  Train Loss: 0.086,  Train Acc: 96.88%,  Val Loss:  0.26,  Val Acc: 88.48%,  Time: 0:00:26 \n",
            "Test Loss:  0.41,  Test Acc: 81.73%\n",
            "Precision, Recall and F1-Score...\n",
            "              precision    recall  f1-score   support\n",
            "\n",
            "    negative     0.7826    0.7894    0.7860      3913\n",
            "    positive     0.8433    0.8378    0.8405      5291\n",
            "\n",
            "    accuracy                         0.8173      9204\n",
            "   macro avg     0.8129    0.8136    0.8133      9204\n",
            "weighted avg     0.8175    0.8173    0.8174      9204\n",
            "\n",
            "Confusion Matrix...\n",
            "[[3089  824]\n",
            " [ 858 4433]]\n",
            "Time usage: 0:00:00\n"
          ],
          "name": "stdout"
        }
      ]
    },
    {
      "cell_type": "code",
      "metadata": {
        "id": "8V2gx8TxOjYp",
        "colab": {
          "base_uri": "https://localhost:8080/"
        },
        "outputId": "46edd64f-acf6-453b-b3d7-77d82d31097a"
      },
      "source": [
        "%run '/content/drive/My Drive/textcnn/runbd1.py' --model TextCNNBD --word True\n",
        "predict_all[predict_all==0] = -1\n",
        "np.savetxt(\"/content/drive/MyDrive/textcnn/output/bd1.txt\", predict_all, delimiter=\",\", fmt=\"%d\")"
      ],
      "execution_count": null,
      "outputs": [
        {
          "output_type": "stream",
          "text": [
            "Loading data...\n"
          ],
          "name": "stdout"
        },
        {
          "output_type": "stream",
          "text": [
            "\r0it [00:00, ?it/s]"
          ],
          "name": "stderr"
        },
        {
          "output_type": "stream",
          "text": [
            "Vocab size: 635918\n"
          ],
          "name": "stdout"
        },
        {
          "output_type": "stream",
          "text": [
            "2114it [00:00, 2686.95it/s]\n",
            "528it [00:00, 796.50it/s]\n",
            "9204it [00:02, 4251.70it/s]\n"
          ],
          "name": "stderr"
        },
        {
          "output_type": "stream",
          "text": [
            "Time usage: 0:00:04\n",
            "<bound method Module.parameters of Model(\n",
            "  (embedding): Embedding(635918, 300)\n",
            "  (convs): ModuleList(\n",
            "    (0): Conv2d(1, 256, kernel_size=(2, 300), stride=(1, 1))\n",
            "    (1): Conv2d(1, 256, kernel_size=(3, 300), stride=(1, 1))\n",
            "    (2): Conv2d(1, 256, kernel_size=(4, 300), stride=(1, 1))\n",
            "  )\n",
            "  (dropout): Dropout(p=0.5, inplace=False)\n",
            "  (fc): Linear(in_features=768, out_features=2, bias=True)\n",
            ")>\n",
            "Epoch [1/10]\n",
            "Iter:      0,  Train Loss:   0.7,  Train Acc: 35.94%,  Val Loss:  0.59,  Val Acc: 71.68%,  Time: 0:00:05 *\n",
            "Epoch [2/10]\n",
            "Iter:     20,  Train Loss:  0.36,  Train Acc: 85.16%,  Val Loss:  0.39,  Val Acc: 82.42%,  Time: 0:00:09 *\n",
            "Epoch [3/10]\n",
            "Iter:     40,  Train Loss:  0.36,  Train Acc: 82.03%,  Val Loss:  0.29,  Val Acc: 87.30%,  Time: 0:00:13 *\n",
            "Epoch [4/10]\n",
            "Iter:     60,  Train Loss:  0.22,  Train Acc: 94.53%,  Val Loss:  0.25,  Val Acc: 89.84%,  Time: 0:00:20 *\n",
            "Epoch [5/10]\n",
            "Iter:     80,  Train Loss:  0.19,  Train Acc: 92.97%,  Val Loss:  0.25,  Val Acc: 89.65%,  Time: 0:00:33 *\n",
            "Epoch [6/10]\n",
            "Iter:    100,  Train Loss:  0.18,  Train Acc: 95.31%,  Val Loss:  0.24,  Val Acc: 90.43%,  Time: 0:00:40 *\n",
            "Epoch [7/10]\n",
            "Epoch [8/10]\n",
            "Iter:    120,  Train Loss:  0.12,  Train Acc: 96.09%,  Val Loss:  0.23,  Val Acc: 90.62%,  Time: 0:00:52 *\n",
            "Epoch [9/10]\n",
            "Iter:    140,  Train Loss: 0.089,  Train Acc: 99.22%,  Val Loss:  0.27,  Val Acc: 87.89%,  Time: 0:00:52 \n",
            "Epoch [10/10]\n",
            "Iter:    160,  Train Loss: 0.076,  Train Acc: 97.66%,  Val Loss:   0.3,  Val Acc: 88.09%,  Time: 0:00:52 \n",
            "Test Loss:   0.4,  Test Acc: 82.94%\n",
            "Precision, Recall and F1-Score...\n",
            "              precision    recall  f1-score   support\n",
            "\n",
            "    negative     0.8089    0.7841    0.7963      3913\n",
            "    positive     0.8438    0.8630    0.8533      5291\n",
            "\n",
            "    accuracy                         0.8294      9204\n",
            "   macro avg     0.8263    0.8235    0.8248      9204\n",
            "weighted avg     0.8290    0.8294    0.8291      9204\n",
            "\n",
            "Confusion Matrix...\n",
            "[[3068  845]\n",
            " [ 725 4566]]\n",
            "Time usage: 0:00:00\n"
          ],
          "name": "stdout"
        }
      ]
    },
    {
      "cell_type": "code",
      "metadata": {
        "id": "nhcErd63QcPZ",
        "colab": {
          "base_uri": "https://localhost:8080/"
        },
        "outputId": "a4bee164-a902-4442-dfeb-438fb89fc913"
      },
      "source": [
        "%run '/content/drive/My Drive/textcnn/runbd2.py' --model TextCNNBD --word True\n",
        "predict_all[predict_all==0] = -1\n",
        "np.savetxt(\"/content/drive/MyDrive/textcnn/output/bd2.txt\", predict_all, delimiter=\",\", fmt=\"%d\")"
      ],
      "execution_count": null,
      "outputs": [
        {
          "output_type": "stream",
          "text": [
            "Loading data...\n"
          ],
          "name": "stdout"
        },
        {
          "output_type": "stream",
          "text": [
            "2114it [00:00, 38161.38it/s]\n",
            "528it [00:00, 33012.72it/s]\n",
            "7018it [00:00, 35562.90it/s]"
          ],
          "name": "stderr"
        },
        {
          "output_type": "stream",
          "text": [
            "Vocab size: 635918\n"
          ],
          "name": "stdout"
        },
        {
          "output_type": "stream",
          "text": [
            "\r9204it [00:00, 36067.60it/s]\n"
          ],
          "name": "stderr"
        },
        {
          "output_type": "stream",
          "text": [
            "Time usage: 0:00:01\n",
            "<bound method Module.parameters of Model(\n",
            "  (embedding): Embedding(635918, 300)\n",
            "  (convs): ModuleList(\n",
            "    (0): Conv2d(1, 256, kernel_size=(2, 300), stride=(1, 1))\n",
            "    (1): Conv2d(1, 256, kernel_size=(3, 300), stride=(1, 1))\n",
            "    (2): Conv2d(1, 256, kernel_size=(4, 300), stride=(1, 1))\n",
            "  )\n",
            "  (dropout): Dropout(p=0.5, inplace=False)\n",
            "  (fc): Linear(in_features=768, out_features=2, bias=True)\n",
            ")>\n",
            "Epoch [1/10]\n",
            "Iter:      0,  Train Loss:  0.69,  Train Acc: 49.22%,  Val Loss:  0.59,  Val Acc: 71.68%,  Time: 0:00:04 *\n",
            "Epoch [2/10]\n",
            "Iter:     20,  Train Loss:  0.35,  Train Acc: 85.94%,  Val Loss:  0.38,  Val Acc: 85.35%,  Time: 0:00:08 *\n",
            "Epoch [3/10]\n",
            "Iter:     40,  Train Loss:  0.34,  Train Acc: 85.16%,  Val Loss:  0.29,  Val Acc: 87.50%,  Time: 0:00:18 *\n",
            "Epoch [4/10]\n",
            "Iter:     60,  Train Loss:  0.22,  Train Acc: 94.53%,  Val Loss:  0.25,  Val Acc: 89.65%,  Time: 0:00:29 *\n",
            "Epoch [5/10]\n",
            "Iter:     80,  Train Loss:  0.19,  Train Acc: 94.53%,  Val Loss:  0.24,  Val Acc: 90.43%,  Time: 0:00:37 *\n",
            "Epoch [6/10]\n",
            "Iter:    100,  Train Loss:  0.17,  Train Acc: 94.53%,  Val Loss:  0.23,  Val Acc: 90.62%,  Time: 0:00:51 *\n",
            "Epoch [7/10]\n",
            "Epoch [8/10]\n",
            "Iter:    120,  Train Loss: 0.097,  Train Acc: 97.66%,  Val Loss:  0.23,  Val Acc: 89.65%,  Time: 0:00:55 *\n",
            "Epoch [9/10]\n",
            "Iter:    140,  Train Loss: 0.079,  Train Acc: 99.22%,  Val Loss:  0.28,  Val Acc: 88.28%,  Time: 0:00:55 \n",
            "Epoch [10/10]\n",
            "Iter:    160,  Train Loss: 0.076,  Train Acc: 97.66%,  Val Loss:  0.29,  Val Acc: 88.28%,  Time: 0:00:55 \n",
            "Test Loss:   0.4,  Test Acc: 82.79%\n",
            "Precision, Recall and F1-Score...\n",
            "              precision    recall  f1-score   support\n",
            "\n",
            "    negative     0.8170    0.7669    0.7912      3913\n",
            "    positive     0.8351    0.8730    0.8536      5291\n",
            "\n",
            "    accuracy                         0.8279      9204\n",
            "   macro avg     0.8261    0.8200    0.8224      9204\n",
            "weighted avg     0.8274    0.8279    0.8271      9204\n",
            "\n",
            "Confusion Matrix...\n",
            "[[3001  912]\n",
            " [ 672 4619]]\n",
            "Time usage: 0:00:00\n"
          ],
          "name": "stdout"
        }
      ]
    },
    {
      "cell_type": "code",
      "metadata": {
        "id": "S2GkjDjzOwHD",
        "colab": {
          "base_uri": "https://localhost:8080/"
        },
        "outputId": "f25847f5-846c-4290-85ab-966bf141d789"
      },
      "source": [
        "%run '/content/drive/My Drive/textcnn/runbd3.py' --model TextCNNBD --word True\n",
        "predict_all[predict_all==0] = -1\n",
        "np.savetxt(\"/content/drive/MyDrive/textcnn/output/bd3.txt\", predict_all, delimiter=\",\", fmt=\"%d\")"
      ],
      "execution_count": null,
      "outputs": [
        {
          "output_type": "stream",
          "text": [
            "Loading data...\n"
          ],
          "name": "stdout"
        },
        {
          "output_type": "stream",
          "text": [
            "2114it [00:00, 14285.97it/s]\n",
            "528it [00:00, 29818.13it/s]\n",
            "0it [00:00, ?it/s]"
          ],
          "name": "stderr"
        },
        {
          "output_type": "stream",
          "text": [
            "Vocab size: 635918\n"
          ],
          "name": "stdout"
        },
        {
          "output_type": "stream",
          "text": [
            "9204it [00:00, 39092.40it/s]\n"
          ],
          "name": "stderr"
        },
        {
          "output_type": "stream",
          "text": [
            "Time usage: 0:00:01\n",
            "<bound method Module.parameters of Model(\n",
            "  (embedding): Embedding(635918, 300)\n",
            "  (convs): ModuleList(\n",
            "    (0): Conv2d(1, 256, kernel_size=(2, 300), stride=(1, 1))\n",
            "    (1): Conv2d(1, 256, kernel_size=(3, 300), stride=(1, 1))\n",
            "    (2): Conv2d(1, 256, kernel_size=(4, 300), stride=(1, 1))\n",
            "  )\n",
            "  (dropout): Dropout(p=0.5, inplace=False)\n",
            "  (fc): Linear(in_features=768, out_features=2, bias=True)\n",
            ")>\n",
            "Epoch [1/10]\n",
            "Iter:      0,  Train Loss:   0.7,  Train Acc: 50.78%,  Val Loss:  0.59,  Val Acc: 71.68%,  Time: 0:00:04 *\n",
            "Epoch [2/10]\n",
            "Iter:     20,  Train Loss:  0.36,  Train Acc: 85.16%,  Val Loss:  0.39,  Val Acc: 83.01%,  Time: 0:00:08 *\n",
            "Epoch [3/10]\n",
            "Iter:     40,  Train Loss:  0.36,  Train Acc: 83.59%,  Val Loss:  0.29,  Val Acc: 87.50%,  Time: 0:00:15 *\n",
            "Epoch [4/10]\n",
            "Iter:     60,  Train Loss:  0.22,  Train Acc: 92.97%,  Val Loss:  0.25,  Val Acc: 90.23%,  Time: 0:00:23 *\n",
            "Epoch [5/10]\n",
            "Iter:     80,  Train Loss:   0.2,  Train Acc: 96.09%,  Val Loss:  0.25,  Val Acc: 90.23%,  Time: 0:00:36 *\n",
            "Epoch [6/10]\n",
            "Iter:    100,  Train Loss:  0.18,  Train Acc: 94.53%,  Val Loss:  0.24,  Val Acc: 90.43%,  Time: 0:00:47 *\n",
            "Epoch [7/10]\n",
            "Epoch [8/10]\n",
            "Iter:    120,  Train Loss:  0.11,  Train Acc: 96.09%,  Val Loss:  0.23,  Val Acc: 90.82%,  Time: 0:00:58 *\n",
            "Epoch [9/10]\n",
            "Iter:    140,  Train Loss: 0.086,  Train Acc: 99.22%,  Val Loss:  0.27,  Val Acc: 88.28%,  Time: 0:00:58 \n",
            "Epoch [10/10]\n",
            "Iter:    160,  Train Loss: 0.078,  Train Acc: 96.88%,  Val Loss:   0.3,  Val Acc: 88.48%,  Time: 0:00:58 \n",
            "Test Loss:   0.4,  Test Acc: 82.93%\n",
            "Precision, Recall and F1-Score...\n",
            "              precision    recall  f1-score   support\n",
            "\n",
            "    negative     0.8090    0.7835    0.7961      3913\n",
            "    positive     0.8436    0.8632    0.8532      5291\n",
            "\n",
            "    accuracy                         0.8293      9204\n",
            "   macro avg     0.8263    0.8234    0.8246      9204\n",
            "weighted avg     0.8289    0.8293    0.8289      9204\n",
            "\n",
            "Confusion Matrix...\n",
            "[[3066  847]\n",
            " [ 724 4567]]\n",
            "Time usage: 0:00:00\n"
          ],
          "name": "stdout"
        }
      ]
    },
    {
      "cell_type": "code",
      "metadata": {
        "id": "KHH7bVtXOxfP",
        "colab": {
          "base_uri": "https://localhost:8080/"
        },
        "outputId": "ed528a35-8aff-4818-c4c1-6988f5dd994a"
      },
      "source": [
        "%run '/content/drive/My Drive/textcnn/runbd4.py' --model TextCNNBD --word True\n",
        "predict_all[predict_all==0] = -1\n",
        "np.savetxt(\"/content/drive/MyDrive/textcnn/output/bd4.txt\", predict_all, delimiter=\",\", fmt=\"%d\")"
      ],
      "execution_count": null,
      "outputs": [
        {
          "output_type": "stream",
          "text": [
            "Loading data...\n"
          ],
          "name": "stdout"
        },
        {
          "output_type": "stream",
          "text": [
            "2114it [00:00, 33987.23it/s]\n",
            "528it [00:00, 33867.97it/s]\n",
            "4395it [00:00, 43945.85it/s]"
          ],
          "name": "stderr"
        },
        {
          "output_type": "stream",
          "text": [
            "Vocab size: 635918\n"
          ],
          "name": "stdout"
        },
        {
          "output_type": "stream",
          "text": [
            "9204it [00:00, 42855.23it/s]\n"
          ],
          "name": "stderr"
        },
        {
          "output_type": "stream",
          "text": [
            "Time usage: 0:00:01\n",
            "<bound method Module.parameters of Model(\n",
            "  (embedding): Embedding(635918, 300)\n",
            "  (convs): ModuleList(\n",
            "    (0): Conv2d(1, 256, kernel_size=(2, 300), stride=(1, 1))\n",
            "    (1): Conv2d(1, 256, kernel_size=(3, 300), stride=(1, 1))\n",
            "    (2): Conv2d(1, 256, kernel_size=(4, 300), stride=(1, 1))\n",
            "  )\n",
            "  (dropout): Dropout(p=0.5, inplace=False)\n",
            "  (fc): Linear(in_features=768, out_features=2, bias=True)\n",
            ")>\n",
            "Epoch [1/10]\n",
            "Iter:      0,  Train Loss:   0.7,  Train Acc: 49.22%,  Val Loss:  0.59,  Val Acc: 71.68%,  Time: 0:00:04 *\n",
            "Epoch [2/10]\n",
            "Iter:     20,  Train Loss:  0.35,  Train Acc: 84.38%,  Val Loss:  0.38,  Val Acc: 83.01%,  Time: 0:00:09 *\n",
            "Epoch [3/10]\n",
            "Iter:     40,  Train Loss:  0.36,  Train Acc: 81.25%,  Val Loss:  0.29,  Val Acc: 87.50%,  Time: 0:00:20 *\n",
            "Epoch [4/10]\n",
            "Iter:     60,  Train Loss:  0.21,  Train Acc: 94.53%,  Val Loss:  0.25,  Val Acc: 90.04%,  Time: 0:00:29 *\n",
            "Epoch [5/10]\n",
            "Iter:     80,  Train Loss:  0.19,  Train Acc: 94.53%,  Val Loss:  0.25,  Val Acc: 90.43%,  Time: 0:00:35 *\n",
            "Epoch [6/10]\n",
            "Iter:    100,  Train Loss:  0.16,  Train Acc: 96.09%,  Val Loss:  0.23,  Val Acc: 90.43%,  Time: 0:00:46 *\n",
            "Epoch [7/10]\n",
            "Epoch [8/10]\n",
            "Iter:    120,  Train Loss:   0.1,  Train Acc: 98.44%,  Val Loss:  0.23,  Val Acc: 89.45%,  Time: 0:00:46 \n",
            "Epoch [9/10]\n",
            "Iter:    140,  Train Loss: 0.078,  Train Acc: 100.00%,  Val Loss:  0.28,  Val Acc: 88.48%,  Time: 0:00:46 \n",
            "Epoch [10/10]\n",
            "Iter:    160,  Train Loss: 0.074,  Train Acc: 98.44%,  Val Loss:  0.28,  Val Acc: 88.67%,  Time: 0:00:47 \n",
            "Test Loss:   0.4,  Test Acc: 82.77%\n",
            "Precision, Recall and F1-Score...\n",
            "              precision    recall  f1-score   support\n",
            "\n",
            "    negative     0.7840    0.8209    0.8020      3913\n",
            "    positive     0.8627    0.8327    0.8475      5291\n",
            "\n",
            "    accuracy                         0.8277      9204\n",
            "   macro avg     0.8234    0.8268    0.8247      9204\n",
            "weighted avg     0.8293    0.8277    0.8281      9204\n",
            "\n",
            "Confusion Matrix...\n",
            "[[3212  701]\n",
            " [ 885 4406]]\n",
            "Time usage: 0:00:00\n"
          ],
          "name": "stdout"
        }
      ]
    },
    {
      "cell_type": "code",
      "metadata": {
        "id": "p72N4yhWPt1b",
        "colab": {
          "base_uri": "https://localhost:8080/"
        },
        "outputId": "6ccd72f3-cb67-45e9-84af-989c54aec1cb"
      },
      "source": [
        "%run '/content/drive/My Drive/textcnn/runbd5.py' --model TextCNNBD --word True\n",
        "predict_all[predict_all==0] = -1\n",
        "np.savetxt(\"/content/drive/MyDrive/textcnn/output/bd5.txt\", predict_all, delimiter=\",\", fmt=\"%d\")"
      ],
      "execution_count": null,
      "outputs": [
        {
          "output_type": "stream",
          "text": [
            "Loading data...\n"
          ],
          "name": "stdout"
        },
        {
          "output_type": "stream",
          "text": [
            "2114it [00:00, 37346.46it/s]\n",
            "528it [00:00, 35309.19it/s]\n",
            "3196it [00:00, 31959.65it/s]"
          ],
          "name": "stderr"
        },
        {
          "output_type": "stream",
          "text": [
            "Vocab size: 635918\n"
          ],
          "name": "stdout"
        },
        {
          "output_type": "stream",
          "text": [
            "9204it [00:00, 35814.53it/s]\n"
          ],
          "name": "stderr"
        },
        {
          "output_type": "stream",
          "text": [
            "Time usage: 0:00:01\n",
            "<bound method Module.parameters of Model(\n",
            "  (embedding): Embedding(635918, 300)\n",
            "  (convs): ModuleList(\n",
            "    (0): Conv2d(1, 256, kernel_size=(2, 300), stride=(1, 1))\n",
            "    (1): Conv2d(1, 256, kernel_size=(3, 300), stride=(1, 1))\n",
            "    (2): Conv2d(1, 256, kernel_size=(4, 300), stride=(1, 1))\n",
            "  )\n",
            "  (dropout): Dropout(p=0.5, inplace=False)\n",
            "  (fc): Linear(in_features=768, out_features=2, bias=True)\n",
            ")>\n",
            "Epoch [1/10]\n",
            "Iter:      0,  Train Loss:  0.68,  Train Acc: 66.41%,  Val Loss:  0.59,  Val Acc: 71.68%,  Time: 0:00:04 *\n",
            "Epoch [2/10]\n",
            "Iter:     20,  Train Loss:  0.34,  Train Acc: 86.72%,  Val Loss:  0.38,  Val Acc: 84.96%,  Time: 0:00:08 *\n",
            "Epoch [3/10]\n",
            "Iter:     40,  Train Loss:  0.35,  Train Acc: 82.81%,  Val Loss:  0.29,  Val Acc: 87.50%,  Time: 0:00:13 *\n",
            "Epoch [4/10]\n",
            "Iter:     60,  Train Loss:   0.2,  Train Acc: 95.31%,  Val Loss:  0.25,  Val Acc: 90.43%,  Time: 0:00:23 *\n",
            "Epoch [5/10]\n",
            "Iter:     80,  Train Loss:  0.19,  Train Acc: 95.31%,  Val Loss:  0.25,  Val Acc: 90.23%,  Time: 0:00:33 *\n",
            "Epoch [6/10]\n",
            "Iter:    100,  Train Loss:  0.17,  Train Acc: 95.31%,  Val Loss:  0.23,  Val Acc: 90.43%,  Time: 0:00:42 *\n",
            "Epoch [7/10]\n",
            "Epoch [8/10]\n",
            "Iter:    120,  Train Loss:  0.11,  Train Acc: 96.88%,  Val Loss:  0.23,  Val Acc: 89.45%,  Time: 0:00:56 *\n",
            "Epoch [9/10]\n",
            "Iter:    140,  Train Loss: 0.072,  Train Acc: 100.00%,  Val Loss:  0.27,  Val Acc: 88.48%,  Time: 0:00:56 \n",
            "Epoch [10/10]\n",
            "Iter:    160,  Train Loss: 0.071,  Train Acc: 96.88%,  Val Loss:  0.29,  Val Acc: 88.28%,  Time: 0:00:57 \n",
            "Test Loss:   0.4,  Test Acc: 82.68%\n",
            "Precision, Recall and F1-Score...\n",
            "              precision    recall  f1-score   support\n",
            "\n",
            "    negative     0.8202    0.7590    0.7884      3913\n",
            "    positive     0.8311    0.8770    0.8534      5291\n",
            "\n",
            "    accuracy                         0.8268      9204\n",
            "   macro avg     0.8257    0.8180    0.8209      9204\n",
            "weighted avg     0.8265    0.8268    0.8258      9204\n",
            "\n",
            "Confusion Matrix...\n",
            "[[2970  943]\n",
            " [ 651 4640]]\n",
            "Time usage: 0:00:00\n"
          ],
          "name": "stdout"
        }
      ]
    },
    {
      "cell_type": "code",
      "metadata": {
        "id": "cnGqaSTNP5bR",
        "colab": {
          "base_uri": "https://localhost:8080/"
        },
        "outputId": "00bbff3b-36ae-4b92-9068-5c7d4acb48ac"
      },
      "source": [
        "%run '/content/drive/My Drive/textcnn/runbd6.py' --model TextCNNBD --word True\n",
        "predict_all[predict_all==0] = -1\n",
        "np.savetxt(\"/content/drive/MyDrive/textcnn/output/bd6.txt\", predict_all, delimiter=\",\", fmt=\"%d\")"
      ],
      "execution_count": null,
      "outputs": [
        {
          "output_type": "stream",
          "text": [
            "Loading data...\n"
          ],
          "name": "stdout"
        },
        {
          "output_type": "stream",
          "text": [
            "2114it [00:00, 41743.01it/s]\n",
            "528it [00:00, 32898.95it/s]\n",
            "4353it [00:00, 43525.27it/s]"
          ],
          "name": "stderr"
        },
        {
          "output_type": "stream",
          "text": [
            "Vocab size: 635918\n"
          ],
          "name": "stdout"
        },
        {
          "output_type": "stream",
          "text": [
            "9204it [00:00, 27373.61it/s]\n"
          ],
          "name": "stderr"
        },
        {
          "output_type": "stream",
          "text": [
            "Time usage: 0:00:01\n",
            "<bound method Module.parameters of Model(\n",
            "  (embedding): Embedding(635918, 300)\n",
            "  (convs): ModuleList(\n",
            "    (0): Conv2d(1, 256, kernel_size=(2, 300), stride=(1, 1))\n",
            "    (1): Conv2d(1, 256, kernel_size=(3, 300), stride=(1, 1))\n",
            "    (2): Conv2d(1, 256, kernel_size=(4, 300), stride=(1, 1))\n",
            "  )\n",
            "  (dropout): Dropout(p=0.5, inplace=False)\n",
            "  (fc): Linear(in_features=768, out_features=2, bias=True)\n",
            ")>\n",
            "Epoch [1/10]\n",
            "Iter:      0,  Train Loss:   0.7,  Train Acc: 39.84%,  Val Loss:  0.59,  Val Acc: 71.68%,  Time: 0:00:04 *\n",
            "Epoch [2/10]\n",
            "Iter:     20,  Train Loss:  0.36,  Train Acc: 84.38%,  Val Loss:  0.39,  Val Acc: 82.23%,  Time: 0:00:08 *\n",
            "Epoch [3/10]\n",
            "Iter:     40,  Train Loss:  0.35,  Train Acc: 82.81%,  Val Loss:  0.29,  Val Acc: 87.50%,  Time: 0:00:14 *\n",
            "Epoch [4/10]\n",
            "Iter:     60,  Train Loss:  0.23,  Train Acc: 92.19%,  Val Loss:  0.25,  Val Acc: 89.26%,  Time: 0:00:26 *\n",
            "Epoch [5/10]\n",
            "Iter:     80,  Train Loss:  0.19,  Train Acc: 95.31%,  Val Loss:  0.25,  Val Acc: 90.43%,  Time: 0:00:34 *\n",
            "Epoch [6/10]\n",
            "Iter:    100,  Train Loss:  0.16,  Train Acc: 96.09%,  Val Loss:  0.23,  Val Acc: 90.43%,  Time: 0:00:47 *\n",
            "Epoch [7/10]\n",
            "Epoch [8/10]\n",
            "Iter:    120,  Train Loss:  0.11,  Train Acc: 96.09%,  Val Loss:  0.23,  Val Acc: 90.04%,  Time: 0:00:53 *\n",
            "Epoch [9/10]\n",
            "Iter:    140,  Train Loss: 0.077,  Train Acc: 100.00%,  Val Loss:  0.27,  Val Acc: 88.48%,  Time: 0:00:53 \n",
            "Epoch [10/10]\n",
            "Iter:    160,  Train Loss:  0.08,  Train Acc: 96.09%,  Val Loss:   0.3,  Val Acc: 87.89%,  Time: 0:00:53 \n",
            "Test Loss:   0.4,  Test Acc: 82.84%\n",
            "Precision, Recall and F1-Score...\n",
            "              precision    recall  f1-score   support\n",
            "\n",
            "    negative     0.8154    0.7710    0.7926      3913\n",
            "    positive     0.8372    0.8709    0.8537      5291\n",
            "\n",
            "    accuracy                         0.8284      9204\n",
            "   macro avg     0.8263    0.8210    0.8232      9204\n",
            "weighted avg     0.8279    0.8284    0.8277      9204\n",
            "\n",
            "Confusion Matrix...\n",
            "[[3017  896]\n",
            " [ 683 4608]]\n",
            "Time usage: 0:00:00\n"
          ],
          "name": "stdout"
        }
      ]
    },
    {
      "cell_type": "code",
      "metadata": {
        "id": "NkJOrnwYXB_t",
        "colab": {
          "base_uri": "https://localhost:8080/"
        },
        "outputId": "05c37443-98a4-4653-d592-b5e078f9027e"
      },
      "source": [
        "%run '/content/drive/My Drive/textcnn/runbd7.py' --model TextCNNBD --word True\n",
        "predict_all[predict_all==0] = -1\n",
        "np.savetxt(\"/content/drive/MyDrive/textcnn/output/bd7.txt\", predict_all, delimiter=\",\", fmt=\"%d\")"
      ],
      "execution_count": null,
      "outputs": [
        {
          "output_type": "stream",
          "text": [
            "Loading data...\n"
          ],
          "name": "stdout"
        },
        {
          "output_type": "stream",
          "text": [
            "2114it [00:00, 32190.32it/s]\n",
            "528it [00:00, 31402.86it/s]\n",
            "3947it [00:00, 39466.93it/s]"
          ],
          "name": "stderr"
        },
        {
          "output_type": "stream",
          "text": [
            "Vocab size: 635918\n"
          ],
          "name": "stdout"
        },
        {
          "output_type": "stream",
          "text": [
            "9204it [00:00, 34647.62it/s]\n"
          ],
          "name": "stderr"
        },
        {
          "output_type": "stream",
          "text": [
            "Time usage: 0:00:01\n",
            "<bound method Module.parameters of Model(\n",
            "  (embedding): Embedding(635918, 300)\n",
            "  (convs): ModuleList(\n",
            "    (0): Conv2d(1, 256, kernel_size=(2, 300), stride=(1, 1))\n",
            "    (1): Conv2d(1, 256, kernel_size=(3, 300), stride=(1, 1))\n",
            "    (2): Conv2d(1, 256, kernel_size=(4, 300), stride=(1, 1))\n",
            "  )\n",
            "  (dropout): Dropout(p=0.5, inplace=False)\n",
            "  (fc): Linear(in_features=768, out_features=2, bias=True)\n",
            ")>\n",
            "Epoch [1/10]\n",
            "Iter:      0,  Train Loss:  0.69,  Train Acc: 57.81%,  Val Loss:  0.59,  Val Acc: 71.68%,  Time: 0:00:05 *\n",
            "Epoch [2/10]\n",
            "Iter:     20,  Train Loss:  0.35,  Train Acc: 85.94%,  Val Loss:  0.38,  Val Acc: 83.79%,  Time: 0:00:09 *\n",
            "Epoch [3/10]\n",
            "Iter:     40,  Train Loss:  0.36,  Train Acc: 83.59%,  Val Loss:  0.29,  Val Acc: 87.50%,  Time: 0:00:15 *\n",
            "Epoch [4/10]\n",
            "Iter:     60,  Train Loss:   0.2,  Train Acc: 94.53%,  Val Loss:  0.25,  Val Acc: 90.04%,  Time: 0:00:25 *\n",
            "Epoch [5/10]\n",
            "Iter:     80,  Train Loss:   0.2,  Train Acc: 93.75%,  Val Loss:  0.25,  Val Acc: 90.04%,  Time: 0:00:34 *\n",
            "Epoch [6/10]\n",
            "Iter:    100,  Train Loss:  0.17,  Train Acc: 95.31%,  Val Loss:  0.23,  Val Acc: 90.23%,  Time: 0:00:47 *\n",
            "Epoch [7/10]\n",
            "Epoch [8/10]\n",
            "Iter:    120,  Train Loss:  0.11,  Train Acc: 98.44%,  Val Loss:  0.23,  Val Acc: 90.04%,  Time: 0:00:57 *\n",
            "Epoch [9/10]\n",
            "Iter:    140,  Train Loss: 0.084,  Train Acc: 100.00%,  Val Loss:  0.28,  Val Acc: 88.48%,  Time: 0:00:57 \n",
            "Epoch [10/10]\n",
            "Iter:    160,  Train Loss: 0.084,  Train Acc: 96.88%,  Val Loss:   0.3,  Val Acc: 88.09%,  Time: 0:00:57 \n",
            "Test Loss:   0.4,  Test Acc: 82.86%\n",
            "Precision, Recall and F1-Score...\n",
            "              precision    recall  f1-score   support\n",
            "\n",
            "    negative     0.8201    0.7644    0.7913      3913\n",
            "    positive     0.8341    0.8760    0.8545      5291\n",
            "\n",
            "    accuracy                         0.8286      9204\n",
            "   macro avg     0.8271    0.8202    0.8229      9204\n",
            "weighted avg     0.8281    0.8286    0.8276      9204\n",
            "\n",
            "Confusion Matrix...\n",
            "[[2991  922]\n",
            " [ 656 4635]]\n",
            "Time usage: 0:00:00\n"
          ],
          "name": "stdout"
        }
      ]
    },
    {
      "cell_type": "code",
      "metadata": {
        "id": "xJ_QMLS4XCDY",
        "colab": {
          "base_uri": "https://localhost:8080/"
        },
        "outputId": "f84c38b8-bc66-4ff1-bdd1-a6b29772159a"
      },
      "source": [
        "%run '/content/drive/My Drive/textcnn/runbd8.py' --model TextCNNBD --word True\n",
        "predict_all[predict_all==0] = -1\n",
        "np.savetxt(\"/content/drive/MyDrive/textcnn/output/bd8.txt\", predict_all, delimiter=\",\", fmt=\"%d\")"
      ],
      "execution_count": null,
      "outputs": [
        {
          "output_type": "stream",
          "text": [
            "Loading data...\n"
          ],
          "name": "stdout"
        },
        {
          "output_type": "stream",
          "text": [
            "2114it [00:00, 33411.56it/s]\n",
            "528it [00:00, 37826.54it/s]\n",
            "7833it [00:00, 39625.70it/s]"
          ],
          "name": "stderr"
        },
        {
          "output_type": "stream",
          "text": [
            "Vocab size: 635918\n"
          ],
          "name": "stdout"
        },
        {
          "output_type": "stream",
          "text": [
            "\r9204it [00:00, 39226.19it/s]\n"
          ],
          "name": "stderr"
        },
        {
          "output_type": "stream",
          "text": [
            "Time usage: 0:00:01\n",
            "<bound method Module.parameters of Model(\n",
            "  (embedding): Embedding(635918, 300)\n",
            "  (convs): ModuleList(\n",
            "    (0): Conv2d(1, 256, kernel_size=(2, 300), stride=(1, 1))\n",
            "    (1): Conv2d(1, 256, kernel_size=(3, 300), stride=(1, 1))\n",
            "    (2): Conv2d(1, 256, kernel_size=(4, 300), stride=(1, 1))\n",
            "  )\n",
            "  (dropout): Dropout(p=0.5, inplace=False)\n",
            "  (fc): Linear(in_features=768, out_features=2, bias=True)\n",
            ")>\n",
            "Epoch [1/10]\n",
            "Iter:      0,  Train Loss:  0.71,  Train Acc: 36.72%,  Val Loss:  0.59,  Val Acc: 71.68%,  Time: 0:00:04 *\n",
            "Epoch [2/10]\n",
            "Iter:     20,  Train Loss:  0.36,  Train Acc: 85.16%,  Val Loss:   0.4,  Val Acc: 81.25%,  Time: 0:00:08 *\n",
            "Epoch [3/10]\n",
            "Iter:     40,  Train Loss:  0.37,  Train Acc: 81.25%,  Val Loss:   0.3,  Val Acc: 87.11%,  Time: 0:00:20 *\n",
            "Epoch [4/10]\n",
            "Iter:     60,  Train Loss:  0.22,  Train Acc: 93.75%,  Val Loss:  0.26,  Val Acc: 89.45%,  Time: 0:00:27 *\n",
            "Epoch [5/10]\n",
            "Iter:     80,  Train Loss:  0.19,  Train Acc: 92.97%,  Val Loss:  0.25,  Val Acc: 90.04%,  Time: 0:00:41 *\n",
            "Epoch [6/10]\n",
            "Iter:    100,  Train Loss:  0.18,  Train Acc: 96.09%,  Val Loss:  0.24,  Val Acc: 91.02%,  Time: 0:00:46 *\n",
            "Epoch [7/10]\n",
            "Epoch [8/10]\n",
            "Iter:    120,  Train Loss:  0.11,  Train Acc: 96.88%,  Val Loss:  0.23,  Val Acc: 90.43%,  Time: 0:00:54 *\n",
            "Epoch [9/10]\n",
            "Iter:    140,  Train Loss:  0.09,  Train Acc: 99.22%,  Val Loss:  0.27,  Val Acc: 88.67%,  Time: 0:00:55 \n",
            "Epoch [10/10]\n",
            "Iter:    160,  Train Loss: 0.067,  Train Acc: 99.22%,  Val Loss:  0.29,  Val Acc: 87.89%,  Time: 0:00:55 \n",
            "Test Loss:   0.4,  Test Acc: 82.80%\n",
            "Precision, Recall and F1-Score...\n",
            "              precision    recall  f1-score   support\n",
            "\n",
            "    negative     0.8079    0.7812    0.7943      3913\n",
            "    positive     0.8421    0.8626    0.8522      5291\n",
            "\n",
            "    accuracy                         0.8280      9204\n",
            "   macro avg     0.8250    0.8219    0.8233      9204\n",
            "weighted avg     0.8275    0.8280    0.8276      9204\n",
            "\n",
            "Confusion Matrix...\n",
            "[[3057  856]\n",
            " [ 727 4564]]\n",
            "Time usage: 0:00:00\n"
          ],
          "name": "stdout"
        }
      ]
    },
    {
      "cell_type": "code",
      "metadata": {
        "id": "uW3pJHuQXCGv",
        "colab": {
          "base_uri": "https://localhost:8080/"
        },
        "outputId": "6ac35624-3ba1-4c47-9c89-98a3ab62eabf"
      },
      "source": [
        "%run '/content/drive/My Drive/textcnn/runbd9.py' --model TextCNNBD --word True\n",
        "predict_all[predict_all==0] = -1\n",
        "np.savetxt(\"/content/drive/MyDrive/textcnn/output/bd9.txt\", predict_all, delimiter=\",\", fmt=\"%d\")"
      ],
      "execution_count": null,
      "outputs": [
        {
          "output_type": "stream",
          "text": [
            "Loading data...\n"
          ],
          "name": "stdout"
        },
        {
          "output_type": "stream",
          "text": [
            "2114it [00:00, 31151.11it/s]\n",
            "528it [00:00, 30611.97it/s]\n",
            "3855it [00:00, 38546.45it/s]"
          ],
          "name": "stderr"
        },
        {
          "output_type": "stream",
          "text": [
            "Vocab size: 635918\n"
          ],
          "name": "stdout"
        },
        {
          "output_type": "stream",
          "text": [
            "9204it [00:00, 37824.43it/s]\n"
          ],
          "name": "stderr"
        },
        {
          "output_type": "stream",
          "text": [
            "Time usage: 0:00:01\n",
            "<bound method Module.parameters of Model(\n",
            "  (embedding): Embedding(635918, 300)\n",
            "  (convs): ModuleList(\n",
            "    (0): Conv2d(1, 256, kernel_size=(2, 300), stride=(1, 1))\n",
            "    (1): Conv2d(1, 256, kernel_size=(3, 300), stride=(1, 1))\n",
            "    (2): Conv2d(1, 256, kernel_size=(4, 300), stride=(1, 1))\n",
            "  )\n",
            "  (dropout): Dropout(p=0.5, inplace=False)\n",
            "  (fc): Linear(in_features=768, out_features=2, bias=True)\n",
            ")>\n",
            "Epoch [1/10]\n",
            "Iter:      0,  Train Loss:   0.7,  Train Acc: 47.66%,  Val Loss:  0.59,  Val Acc: 71.68%,  Time: 0:00:05 *\n",
            "Epoch [2/10]\n",
            "Iter:     20,  Train Loss:  0.36,  Train Acc: 85.16%,  Val Loss:  0.38,  Val Acc: 83.20%,  Time: 0:00:08 *\n",
            "Epoch [3/10]\n",
            "Iter:     40,  Train Loss:  0.37,  Train Acc: 82.03%,  Val Loss:  0.29,  Val Acc: 87.50%,  Time: 0:00:16 *\n",
            "Epoch [4/10]\n",
            "Iter:     60,  Train Loss:  0.21,  Train Acc: 93.75%,  Val Loss:  0.25,  Val Acc: 89.84%,  Time: 0:00:25 *\n",
            "Epoch [5/10]\n",
            "Iter:     80,  Train Loss:  0.19,  Train Acc: 96.09%,  Val Loss:  0.25,  Val Acc: 90.04%,  Time: 0:00:37 *\n",
            "Epoch [6/10]\n",
            "Iter:    100,  Train Loss:   0.2,  Train Acc: 93.75%,  Val Loss:  0.24,  Val Acc: 90.04%,  Time: 0:00:47 *\n",
            "Epoch [7/10]\n",
            "Epoch [8/10]\n",
            "Iter:    120,  Train Loss:  0.11,  Train Acc: 96.88%,  Val Loss:  0.23,  Val Acc: 91.02%,  Time: 0:00:53 *\n",
            "Epoch [9/10]\n",
            "Iter:    140,  Train Loss: 0.082,  Train Acc: 100.00%,  Val Loss:  0.27,  Val Acc: 88.09%,  Time: 0:00:54 \n",
            "Epoch [10/10]\n",
            "Iter:    160,  Train Loss: 0.082,  Train Acc: 97.66%,  Val Loss:  0.28,  Val Acc: 88.48%,  Time: 0:00:54 \n",
            "Test Loss:   0.4,  Test Acc: 82.92%\n",
            "Precision, Recall and F1-Score...\n",
            "              precision    recall  f1-score   support\n",
            "\n",
            "    negative     0.8052    0.7892    0.7971      3913\n",
            "    positive     0.8463    0.8588    0.8525      5291\n",
            "\n",
            "    accuracy                         0.8292      9204\n",
            "   macro avg     0.8258    0.8240    0.8248      9204\n",
            "weighted avg     0.8289    0.8292    0.8290      9204\n",
            "\n",
            "Confusion Matrix...\n",
            "[[3088  825]\n",
            " [ 747 4544]]\n",
            "Time usage: 0:00:00\n"
          ],
          "name": "stdout"
        }
      ]
    },
    {
      "cell_type": "code",
      "metadata": {
        "id": "Np8nWtzyXCVN",
        "colab": {
          "base_uri": "https://localhost:8080/"
        },
        "outputId": "be75c620-7c94-4ac4-b78e-19d7a909e38f"
      },
      "source": [
        "%run '/content/drive/My Drive/textcnn/runbd10.py' --model TextCNNBD --word True\n",
        "predict_all[predict_all==0] = -1\n",
        "np.savetxt(\"/content/drive/MyDrive/textcnn/output/bd10.txt\", predict_all, delimiter=\",\", fmt=\"%d\")"
      ],
      "execution_count": null,
      "outputs": [
        {
          "output_type": "stream",
          "text": [
            "Loading data...\n"
          ],
          "name": "stdout"
        },
        {
          "output_type": "stream",
          "text": [
            "2114it [00:00, 31582.85it/s]\n",
            "528it [00:00, 31444.77it/s]\n",
            "6970it [00:00, 23541.50it/s]"
          ],
          "name": "stderr"
        },
        {
          "output_type": "stream",
          "text": [
            "Vocab size: 635918\n"
          ],
          "name": "stdout"
        },
        {
          "output_type": "stream",
          "text": [
            "\r9204it [00:00, 21731.41it/s]\n"
          ],
          "name": "stderr"
        },
        {
          "output_type": "stream",
          "text": [
            "Time usage: 0:00:01\n",
            "<bound method Module.parameters of Model(\n",
            "  (embedding): Embedding(635918, 300)\n",
            "  (convs): ModuleList(\n",
            "    (0): Conv2d(1, 256, kernel_size=(2, 300), stride=(1, 1))\n",
            "    (1): Conv2d(1, 256, kernel_size=(3, 300), stride=(1, 1))\n",
            "    (2): Conv2d(1, 256, kernel_size=(4, 300), stride=(1, 1))\n",
            "  )\n",
            "  (dropout): Dropout(p=0.5, inplace=False)\n",
            "  (fc): Linear(in_features=768, out_features=2, bias=True)\n",
            ")>\n",
            "Epoch [1/10]\n",
            "Iter:      0,  Train Loss:  0.71,  Train Acc: 35.16%,  Val Loss:  0.59,  Val Acc: 71.68%,  Time: 0:00:05 *\n",
            "Epoch [2/10]\n",
            "Iter:     20,  Train Loss:  0.36,  Train Acc: 85.94%,  Val Loss:   0.4,  Val Acc: 80.66%,  Time: 0:00:08 *\n",
            "Epoch [3/10]\n",
            "Iter:     40,  Train Loss:  0.38,  Train Acc: 79.69%,  Val Loss:   0.3,  Val Acc: 86.91%,  Time: 0:00:20 *\n",
            "Epoch [4/10]\n",
            "Iter:     60,  Train Loss:  0.23,  Train Acc: 93.75%,  Val Loss:  0.26,  Val Acc: 89.45%,  Time: 0:00:30 *\n",
            "Epoch [5/10]\n",
            "Iter:     80,  Train Loss:  0.21,  Train Acc: 93.75%,  Val Loss:  0.25,  Val Acc: 90.04%,  Time: 0:00:38 *\n",
            "Epoch [6/10]\n",
            "Iter:    100,  Train Loss:  0.19,  Train Acc: 94.53%,  Val Loss:  0.24,  Val Acc: 89.84%,  Time: 0:00:49 *\n",
            "Epoch [7/10]\n",
            "Epoch [8/10]\n",
            "Iter:    120,  Train Loss:  0.13,  Train Acc: 95.31%,  Val Loss:  0.23,  Val Acc: 90.43%,  Time: 0:00:55 *\n",
            "Epoch [9/10]\n",
            "Iter:    140,  Train Loss: 0.081,  Train Acc: 99.22%,  Val Loss:  0.28,  Val Acc: 88.48%,  Time: 0:00:55 \n",
            "Epoch [10/10]\n",
            "Iter:    160,  Train Loss: 0.089,  Train Acc: 95.31%,  Val Loss:  0.31,  Val Acc: 87.50%,  Time: 0:00:55 \n",
            "Test Loss:   0.4,  Test Acc: 82.90%\n",
            "Precision, Recall and F1-Score...\n",
            "              precision    recall  f1-score   support\n",
            "\n",
            "    negative     0.8004    0.7963    0.7984      3913\n",
            "    positive     0.8499    0.8531    0.8515      5291\n",
            "\n",
            "    accuracy                         0.8290      9204\n",
            "   macro avg     0.8252    0.8247    0.8249      9204\n",
            "weighted avg     0.8289    0.8290    0.8289      9204\n",
            "\n",
            "Confusion Matrix...\n",
            "[[3116  797]\n",
            " [ 777 4514]]\n",
            "Time usage: 0:00:00\n"
          ],
          "name": "stdout"
        }
      ]
    },
    {
      "cell_type": "code",
      "metadata": {
        "id": "qc9WDzB_ZGvQ",
        "colab": {
          "base_uri": "https://localhost:8080/"
        },
        "outputId": "dea6baec-0c4c-4bd5-8c8c-1e1c71df45aa"
      },
      "source": [
        "%run '/content/drive/My Drive/textcnn/runrm1.py' --model TextCNNRM --word True\n",
        "predict_all[predict_all==0] = -1\n",
        "np.savetxt(\"/content/drive/MyDrive/textcnn/output/rm1.txt\", predict_all, delimiter=\",\", fmt=\"%d\")"
      ],
      "execution_count": null,
      "outputs": [
        {
          "output_type": "stream",
          "text": [
            "Loading data...\n"
          ],
          "name": "stdout"
        },
        {
          "output_type": "stream",
          "text": [
            "2114it [00:00, 43706.39it/s]\n",
            "528it [00:00, 38261.13it/s]\n",
            "4675it [00:00, 46742.91it/s]"
          ],
          "name": "stderr"
        },
        {
          "output_type": "stream",
          "text": [
            "Vocab size: 355784\n"
          ],
          "name": "stdout"
        },
        {
          "output_type": "stream",
          "text": [
            "\r9204it [00:00, 46741.74it/s]\n"
          ],
          "name": "stderr"
        },
        {
          "output_type": "stream",
          "text": [
            "Time usage: 0:00:02\n",
            "<bound method Module.parameters of Model(\n",
            "  (embedding): Embedding(355784, 300)\n",
            "  (convs): ModuleList(\n",
            "    (0): Conv2d(1, 256, kernel_size=(2, 300), stride=(1, 1))\n",
            "    (1): Conv2d(1, 256, kernel_size=(3, 300), stride=(1, 1))\n",
            "    (2): Conv2d(1, 256, kernel_size=(4, 300), stride=(1, 1))\n",
            "  )\n",
            "  (dropout): Dropout(p=0.5, inplace=False)\n",
            "  (fc): Linear(in_features=768, out_features=2, bias=True)\n",
            ")>\n",
            "Epoch [1/10]\n",
            "Iter:      0,  Train Loss:   0.7,  Train Acc: 35.94%,  Val Loss:  0.59,  Val Acc: 71.68%,  Time: 0:00:03 *\n",
            "Epoch [2/10]\n",
            "Iter:     20,  Train Loss:  0.34,  Train Acc: 85.16%,  Val Loss:  0.37,  Val Acc: 83.20%,  Time: 0:00:05 *\n",
            "Epoch [3/10]\n",
            "Iter:     40,  Train Loss:  0.35,  Train Acc: 84.38%,  Val Loss:  0.27,  Val Acc: 88.48%,  Time: 0:00:07 *\n",
            "Epoch [4/10]\n",
            "Iter:     60,  Train Loss:  0.22,  Train Acc: 92.97%,  Val Loss:  0.23,  Val Acc: 91.21%,  Time: 0:00:09 *\n",
            "Epoch [5/10]\n",
            "Iter:     80,  Train Loss:  0.17,  Train Acc: 95.31%,  Val Loss:  0.22,  Val Acc: 91.99%,  Time: 0:00:12 *\n",
            "Epoch [6/10]\n",
            "Iter:    100,  Train Loss:  0.16,  Train Acc: 96.09%,  Val Loss:  0.21,  Val Acc: 92.38%,  Time: 0:00:18 *\n",
            "Epoch [7/10]\n",
            "Epoch [8/10]\n",
            "Iter:    120,  Train Loss:  0.11,  Train Acc: 98.44%,  Val Loss:   0.2,  Val Acc: 92.77%,  Time: 0:00:22 *\n",
            "Epoch [9/10]\n",
            "Iter:    140,  Train Loss: 0.081,  Train Acc: 99.22%,  Val Loss:  0.21,  Val Acc: 91.80%,  Time: 0:00:23 \n",
            "Epoch [10/10]\n",
            "Iter:    160,  Train Loss: 0.056,  Train Acc: 100.00%,  Val Loss:  0.26,  Val Acc: 88.87%,  Time: 0:00:23 \n",
            "Test Loss:   0.4,  Test Acc: 82.68%\n",
            "Precision, Recall and F1-Score...\n",
            "              precision    recall  f1-score   support\n",
            "\n",
            "    negative     0.7816    0.8224    0.8015      3913\n",
            "    positive     0.8634    0.8301    0.8464      5291\n",
            "\n",
            "    accuracy                         0.8268      9204\n",
            "   macro avg     0.8225    0.8262    0.8240      9204\n",
            "weighted avg     0.8286    0.8268    0.8273      9204\n",
            "\n",
            "Confusion Matrix...\n",
            "[[3218  695]\n",
            " [ 899 4392]]\n",
            "Time usage: 0:00:00\n"
          ],
          "name": "stdout"
        }
      ]
    },
    {
      "cell_type": "code",
      "metadata": {
        "id": "zp2Mb54XDb7Z",
        "colab": {
          "base_uri": "https://localhost:8080/"
        },
        "outputId": "44406f55-ecb6-4cb0-958e-a5cc7bf2d66b"
      },
      "source": [
        "%run '/content/drive/My Drive/textcnn/runrm2.py' --model TextCNNRM --word True\n",
        "predict_all[predict_all==0] = -1\n",
        "np.savetxt(\"/content/drive/MyDrive/textcnn/output/rm2.txt\", predict_all, delimiter=\",\", fmt=\"%d\")"
      ],
      "execution_count": null,
      "outputs": [
        {
          "output_type": "stream",
          "text": [
            "\r0it [00:00, ?it/s]"
          ],
          "name": "stderr"
        },
        {
          "output_type": "stream",
          "text": [
            "Loading data...\n",
            "Vocab size: 355784\n"
          ],
          "name": "stdout"
        },
        {
          "output_type": "stream",
          "text": [
            "2114it [00:00, 43117.66it/s]\n",
            "528it [00:00, 38407.78it/s]\n",
            "9204it [00:00, 44774.79it/s]\n"
          ],
          "name": "stderr"
        },
        {
          "output_type": "stream",
          "text": [
            "Time usage: 0:00:00\n",
            "<bound method Module.parameters of Model(\n",
            "  (embedding): Embedding(355784, 300)\n",
            "  (convs): ModuleList(\n",
            "    (0): Conv2d(1, 256, kernel_size=(2, 300), stride=(1, 1))\n",
            "    (1): Conv2d(1, 256, kernel_size=(3, 300), stride=(1, 1))\n",
            "    (2): Conv2d(1, 256, kernel_size=(4, 300), stride=(1, 1))\n",
            "  )\n",
            "  (dropout): Dropout(p=0.5, inplace=False)\n",
            "  (fc): Linear(in_features=768, out_features=2, bias=True)\n",
            ")>\n",
            "Epoch [1/10]\n",
            "Iter:      0,  Train Loss:  0.69,  Train Acc: 49.22%,  Val Loss:  0.58,  Val Acc: 71.68%,  Time: 0:00:02 *\n",
            "Epoch [2/10]\n",
            "Iter:     20,  Train Loss:  0.33,  Train Acc: 88.28%,  Val Loss:  0.35,  Val Acc: 84.57%,  Time: 0:00:06 *\n",
            "Epoch [3/10]\n",
            "Iter:     40,  Train Loss:  0.35,  Train Acc: 84.38%,  Val Loss:  0.27,  Val Acc: 88.28%,  Time: 0:00:11 *\n",
            "Epoch [4/10]\n",
            "Iter:     60,  Train Loss:  0.22,  Train Acc: 90.62%,  Val Loss:  0.23,  Val Acc: 91.80%,  Time: 0:00:18 *\n",
            "Epoch [5/10]\n",
            "Iter:     80,  Train Loss:  0.18,  Train Acc: 93.75%,  Val Loss:  0.22,  Val Acc: 91.99%,  Time: 0:00:25 *\n",
            "Epoch [6/10]\n",
            "Iter:    100,  Train Loss:  0.15,  Train Acc: 96.09%,  Val Loss:  0.21,  Val Acc: 92.58%,  Time: 0:00:27 *\n",
            "Epoch [7/10]\n",
            "Epoch [8/10]\n",
            "Iter:    120,  Train Loss: 0.089,  Train Acc: 97.66%,  Val Loss:   0.2,  Val Acc: 92.58%,  Time: 0:00:32 *\n",
            "Epoch [9/10]\n",
            "Iter:    140,  Train Loss:  0.07,  Train Acc: 100.00%,  Val Loss:  0.22,  Val Acc: 91.02%,  Time: 0:00:32 \n",
            "Epoch [10/10]\n",
            "Iter:    160,  Train Loss: 0.058,  Train Acc: 99.22%,  Val Loss:  0.27,  Val Acc: 88.67%,  Time: 0:00:33 \n",
            "Test Loss:   0.4,  Test Acc: 82.70%\n",
            "Precision, Recall and F1-Score...\n",
            "              precision    recall  f1-score   support\n",
            "\n",
            "    negative     0.7966    0.7966    0.7966      3913\n",
            "    positive     0.8496    0.8496    0.8496      5291\n",
            "\n",
            "    accuracy                         0.8270      9204\n",
            "   macro avg     0.8231    0.8231    0.8231      9204\n",
            "weighted avg     0.8270    0.8270    0.8270      9204\n",
            "\n",
            "Confusion Matrix...\n",
            "[[3117  796]\n",
            " [ 796 4495]]\n",
            "Time usage: 0:00:00\n"
          ],
          "name": "stdout"
        }
      ]
    },
    {
      "cell_type": "code",
      "metadata": {
        "id": "q626TDRBDeSv",
        "colab": {
          "base_uri": "https://localhost:8080/"
        },
        "outputId": "ae49ffb3-ef85-4ab0-91cd-b54ce44a17fe"
      },
      "source": [
        "%run '/content/drive/My Drive/textcnn/runrm3.py' --model TextCNNRM --word True\n",
        "predict_all[predict_all==0] = -1\n",
        "np.savetxt(\"/content/drive/MyDrive/textcnn/output/rm3.txt\", predict_all, delimiter=\",\", fmt=\"%d\")"
      ],
      "execution_count": null,
      "outputs": [
        {
          "output_type": "stream",
          "text": [
            "\r0it [00:00, ?it/s]"
          ],
          "name": "stderr"
        },
        {
          "output_type": "stream",
          "text": [
            "Loading data...\n",
            "Vocab size: 355784\n"
          ],
          "name": "stdout"
        },
        {
          "output_type": "stream",
          "text": [
            "2114it [00:00, 15960.76it/s]\n",
            "528it [00:00, 36008.46it/s]\n",
            "9204it [00:00, 44274.88it/s]\n"
          ],
          "name": "stderr"
        },
        {
          "output_type": "stream",
          "text": [
            "Time usage: 0:00:01\n",
            "<bound method Module.parameters of Model(\n",
            "  (embedding): Embedding(355784, 300)\n",
            "  (convs): ModuleList(\n",
            "    (0): Conv2d(1, 256, kernel_size=(2, 300), stride=(1, 1))\n",
            "    (1): Conv2d(1, 256, kernel_size=(3, 300), stride=(1, 1))\n",
            "    (2): Conv2d(1, 256, kernel_size=(4, 300), stride=(1, 1))\n",
            "  )\n",
            "  (dropout): Dropout(p=0.5, inplace=False)\n",
            "  (fc): Linear(in_features=768, out_features=2, bias=True)\n",
            ")>\n",
            "Epoch [1/10]\n",
            "Iter:      0,  Train Loss:  0.69,  Train Acc: 54.69%,  Val Loss:  0.59,  Val Acc: 71.68%,  Time: 0:00:02 *\n",
            "Epoch [2/10]\n",
            "Iter:     20,  Train Loss:  0.34,  Train Acc: 87.50%,  Val Loss:  0.36,  Val Acc: 84.18%,  Time: 0:00:04 *\n",
            "Epoch [3/10]\n",
            "Iter:     40,  Train Loss:  0.36,  Train Acc: 85.16%,  Val Loss:  0.27,  Val Acc: 88.48%,  Time: 0:00:10 *\n",
            "Epoch [4/10]\n",
            "Iter:     60,  Train Loss:  0.22,  Train Acc: 91.41%,  Val Loss:  0.23,  Val Acc: 91.02%,  Time: 0:00:16 *\n",
            "Epoch [5/10]\n",
            "Iter:     80,  Train Loss:  0.18,  Train Acc: 94.53%,  Val Loss:  0.22,  Val Acc: 91.80%,  Time: 0:00:23 *\n",
            "Epoch [6/10]\n",
            "Iter:    100,  Train Loss:  0.17,  Train Acc: 94.53%,  Val Loss:  0.22,  Val Acc: 92.19%,  Time: 0:00:28 *\n",
            "Epoch [7/10]\n",
            "Epoch [8/10]\n",
            "Iter:    120,  Train Loss:   0.1,  Train Acc: 98.44%,  Val Loss:   0.2,  Val Acc: 92.77%,  Time: 0:00:31 *\n",
            "Epoch [9/10]\n",
            "Iter:    140,  Train Loss: 0.075,  Train Acc: 99.22%,  Val Loss:  0.21,  Val Acc: 91.41%,  Time: 0:00:32 \n",
            "Epoch [10/10]\n",
            "Iter:    160,  Train Loss:  0.06,  Train Acc: 99.22%,  Val Loss:  0.26,  Val Acc: 90.04%,  Time: 0:00:32 \n",
            "Test Loss:   0.4,  Test Acc: 82.56%\n",
            "Precision, Recall and F1-Score...\n",
            "              precision    recall  f1-score   support\n",
            "\n",
            "    negative     0.7875    0.8078    0.7975      3913\n",
            "    positive     0.8551    0.8388    0.8469      5291\n",
            "\n",
            "    accuracy                         0.8256      9204\n",
            "   macro avg     0.8213    0.8233    0.8222      9204\n",
            "weighted avg     0.8264    0.8256    0.8259      9204\n",
            "\n",
            "Confusion Matrix...\n",
            "[[3161  752]\n",
            " [ 853 4438]]\n",
            "Time usage: 0:00:00\n"
          ],
          "name": "stdout"
        }
      ]
    },
    {
      "cell_type": "code",
      "metadata": {
        "id": "9BSOcMqjDeVt",
        "colab": {
          "base_uri": "https://localhost:8080/"
        },
        "outputId": "074185a2-6300-4878-b46b-1f1ffeb25c14"
      },
      "source": [
        "%run '/content/drive/My Drive/textcnn/runrm4.py' --model TextCNNRM --word True\n",
        "predict_all[predict_all==0] = -1\n",
        "np.savetxt(\"/content/drive/MyDrive/textcnn/output/rm4.txt\", predict_all, delimiter=\",\", fmt=\"%d\")"
      ],
      "execution_count": null,
      "outputs": [
        {
          "output_type": "stream",
          "text": [
            "\r0it [00:00, ?it/s]"
          ],
          "name": "stderr"
        },
        {
          "output_type": "stream",
          "text": [
            "Loading data...\n",
            "Vocab size: 355784\n"
          ],
          "name": "stdout"
        },
        {
          "output_type": "stream",
          "text": [
            "2114it [00:00, 40512.64it/s]\n",
            "528it [00:00, 28153.99it/s]\n",
            "9204it [00:00, 33608.65it/s]\n"
          ],
          "name": "stderr"
        },
        {
          "output_type": "stream",
          "text": [
            "Time usage: 0:00:01\n",
            "<bound method Module.parameters of Model(\n",
            "  (embedding): Embedding(355784, 300)\n",
            "  (convs): ModuleList(\n",
            "    (0): Conv2d(1, 256, kernel_size=(2, 300), stride=(1, 1))\n",
            "    (1): Conv2d(1, 256, kernel_size=(3, 300), stride=(1, 1))\n",
            "    (2): Conv2d(1, 256, kernel_size=(4, 300), stride=(1, 1))\n",
            "  )\n",
            "  (dropout): Dropout(p=0.5, inplace=False)\n",
            "  (fc): Linear(in_features=768, out_features=2, bias=True)\n",
            ")>\n",
            "Epoch [1/10]\n",
            "Iter:      0,  Train Loss:  0.71,  Train Acc: 39.06%,  Val Loss:  0.59,  Val Acc: 71.68%,  Time: 0:00:02 *\n",
            "Epoch [2/10]\n",
            "Iter:     20,  Train Loss:  0.34,  Train Acc: 85.16%,  Val Loss:  0.36,  Val Acc: 83.01%,  Time: 0:00:06 *\n",
            "Epoch [3/10]\n",
            "Iter:     40,  Train Loss:  0.37,  Train Acc: 82.03%,  Val Loss:  0.27,  Val Acc: 88.09%,  Time: 0:00:08 *\n",
            "Epoch [4/10]\n",
            "Iter:     60,  Train Loss:  0.23,  Train Acc: 92.19%,  Val Loss:  0.23,  Val Acc: 91.60%,  Time: 0:00:13 *\n",
            "Epoch [5/10]\n",
            "Iter:     80,  Train Loss:  0.17,  Train Acc: 95.31%,  Val Loss:  0.22,  Val Acc: 92.58%,  Time: 0:00:19 *\n",
            "Epoch [6/10]\n",
            "Iter:    100,  Train Loss:  0.15,  Train Acc: 96.09%,  Val Loss:  0.21,  Val Acc: 92.38%,  Time: 0:00:24 *\n",
            "Epoch [7/10]\n",
            "Epoch [8/10]\n",
            "Iter:    120,  Train Loss: 0.095,  Train Acc: 99.22%,  Val Loss:   0.2,  Val Acc: 92.97%,  Time: 0:00:28 *\n",
            "Epoch [9/10]\n",
            "Iter:    140,  Train Loss: 0.069,  Train Acc: 99.22%,  Val Loss:  0.22,  Val Acc: 91.41%,  Time: 0:00:29 \n",
            "Epoch [10/10]\n",
            "Iter:    160,  Train Loss: 0.058,  Train Acc: 99.22%,  Val Loss:  0.25,  Val Acc: 89.65%,  Time: 0:00:29 \n",
            "Test Loss:   0.4,  Test Acc: 82.44%\n",
            "Precision, Recall and F1-Score...\n",
            "              precision    recall  f1-score   support\n",
            "\n",
            "    negative     0.7853    0.8078    0.7964      3913\n",
            "    positive     0.8548    0.8367    0.8457      5291\n",
            "\n",
            "    accuracy                         0.8244      9204\n",
            "   macro avg     0.8201    0.8223    0.8210      9204\n",
            "weighted avg     0.8253    0.8244    0.8247      9204\n",
            "\n",
            "Confusion Matrix...\n",
            "[[3161  752]\n",
            " [ 864 4427]]\n",
            "Time usage: 0:00:00\n"
          ],
          "name": "stdout"
        }
      ]
    },
    {
      "cell_type": "code",
      "metadata": {
        "id": "ze5x6Dn1DeYw",
        "colab": {
          "base_uri": "https://localhost:8080/"
        },
        "outputId": "0e1556c0-5fa5-4f1b-e9f1-bb425eaf1b1b"
      },
      "source": [
        "%run '/content/drive/My Drive/textcnn/runrm5.py' --model TextCNNRM --word True\n",
        "predict_all[predict_all==0] = -1\n",
        "np.savetxt(\"/content/drive/MyDrive/textcnn/output/rm5.txt\", predict_all, delimiter=\",\", fmt=\"%d\")"
      ],
      "execution_count": null,
      "outputs": [
        {
          "output_type": "stream",
          "text": [
            "\r0it [00:00, ?it/s]"
          ],
          "name": "stderr"
        },
        {
          "output_type": "stream",
          "text": [
            "Loading data...\n",
            "Vocab size: 355784\n"
          ],
          "name": "stdout"
        },
        {
          "output_type": "stream",
          "text": [
            "2114it [00:00, 39378.76it/s]\n",
            "528it [00:00, 36850.91it/s]\n",
            "9204it [00:00, 37202.22it/s]\n"
          ],
          "name": "stderr"
        },
        {
          "output_type": "stream",
          "text": [
            "Time usage: 0:00:01\n",
            "<bound method Module.parameters of Model(\n",
            "  (embedding): Embedding(355784, 300)\n",
            "  (convs): ModuleList(\n",
            "    (0): Conv2d(1, 256, kernel_size=(2, 300), stride=(1, 1))\n",
            "    (1): Conv2d(1, 256, kernel_size=(3, 300), stride=(1, 1))\n",
            "    (2): Conv2d(1, 256, kernel_size=(4, 300), stride=(1, 1))\n",
            "  )\n",
            "  (dropout): Dropout(p=0.5, inplace=False)\n",
            "  (fc): Linear(in_features=768, out_features=2, bias=True)\n",
            ")>\n",
            "Epoch [1/10]\n",
            "Iter:      0,  Train Loss:  0.68,  Train Acc: 67.19%,  Val Loss:  0.58,  Val Acc: 71.68%,  Time: 0:00:02 *\n",
            "Epoch [2/10]\n",
            "Iter:     20,  Train Loss:  0.33,  Train Acc: 85.16%,  Val Loss:  0.36,  Val Acc: 83.79%,  Time: 0:00:04 *\n",
            "Epoch [3/10]\n",
            "Iter:     40,  Train Loss:  0.36,  Train Acc: 84.38%,  Val Loss:  0.27,  Val Acc: 88.87%,  Time: 0:00:06 *\n",
            "Epoch [4/10]\n",
            "Iter:     60,  Train Loss:  0.21,  Train Acc: 95.31%,  Val Loss:  0.23,  Val Acc: 91.41%,  Time: 0:00:12 *\n",
            "Epoch [5/10]\n",
            "Iter:     80,  Train Loss:  0.18,  Train Acc: 95.31%,  Val Loss:  0.22,  Val Acc: 91.99%,  Time: 0:00:16 *\n",
            "Epoch [6/10]\n",
            "Iter:    100,  Train Loss:  0.16,  Train Acc: 95.31%,  Val Loss:  0.22,  Val Acc: 92.19%,  Time: 0:00:24 *\n",
            "Epoch [7/10]\n",
            "Epoch [8/10]\n",
            "Iter:    120,  Train Loss:   0.1,  Train Acc: 98.44%,  Val Loss:   0.2,  Val Acc: 92.97%,  Time: 0:00:27 *\n",
            "Epoch [9/10]\n",
            "Iter:    140,  Train Loss: 0.073,  Train Acc: 99.22%,  Val Loss:  0.21,  Val Acc: 91.21%,  Time: 0:00:27 \n",
            "Epoch [10/10]\n",
            "Iter:    160,  Train Loss: 0.052,  Train Acc: 99.22%,  Val Loss:  0.26,  Val Acc: 89.45%,  Time: 0:00:27 \n",
            "Test Loss:  0.41,  Test Acc: 82.51%\n",
            "Precision, Recall and F1-Score...\n",
            "              precision    recall  f1-score   support\n",
            "\n",
            "    negative     0.7817    0.8165    0.7987      3913\n",
            "    positive     0.8597    0.8314    0.8453      5291\n",
            "\n",
            "    accuracy                         0.8251      9204\n",
            "   macro avg     0.8207    0.8240    0.8220      9204\n",
            "weighted avg     0.8265    0.8251    0.8255      9204\n",
            "\n",
            "Confusion Matrix...\n",
            "[[3195  718]\n",
            " [ 892 4399]]\n",
            "Time usage: 0:00:00\n"
          ],
          "name": "stdout"
        }
      ]
    },
    {
      "cell_type": "code",
      "metadata": {
        "id": "Mv0l_ThJDebX",
        "colab": {
          "base_uri": "https://localhost:8080/"
        },
        "outputId": "9e1b8f1d-d9f7-4d67-99b0-a4a55293a2f1"
      },
      "source": [
        "%run '/content/drive/My Drive/textcnn/runrm6.py' --model TextCNNRM --word True\n",
        "predict_all[predict_all==0] = -1\n",
        "np.savetxt(\"/content/drive/MyDrive/textcnn/output/rm6.txt\", predict_all, delimiter=\",\", fmt=\"%d\")"
      ],
      "execution_count": null,
      "outputs": [
        {
          "output_type": "stream",
          "text": [
            "\r0it [00:00, ?it/s]"
          ],
          "name": "stderr"
        },
        {
          "output_type": "stream",
          "text": [
            "Loading data...\n",
            "Vocab size: 355784\n"
          ],
          "name": "stdout"
        },
        {
          "output_type": "stream",
          "text": [
            "2114it [00:00, 28166.14it/s]\n",
            "528it [00:00, 26508.73it/s]\n",
            "9204it [00:00, 23384.15it/s]\n"
          ],
          "name": "stderr"
        },
        {
          "output_type": "stream",
          "text": [
            "Time usage: 0:00:01\n",
            "<bound method Module.parameters of Model(\n",
            "  (embedding): Embedding(355784, 300)\n",
            "  (convs): ModuleList(\n",
            "    (0): Conv2d(1, 256, kernel_size=(2, 300), stride=(1, 1))\n",
            "    (1): Conv2d(1, 256, kernel_size=(3, 300), stride=(1, 1))\n",
            "    (2): Conv2d(1, 256, kernel_size=(4, 300), stride=(1, 1))\n",
            "  )\n",
            "  (dropout): Dropout(p=0.5, inplace=False)\n",
            "  (fc): Linear(in_features=768, out_features=2, bias=True)\n",
            ")>\n",
            "Epoch [1/10]\n",
            "Iter:      0,  Train Loss:   0.7,  Train Acc: 44.53%,  Val Loss:  0.58,  Val Acc: 71.68%,  Time: 0:00:02 *\n",
            "Epoch [2/10]\n",
            "Iter:     20,  Train Loss:  0.33,  Train Acc: 86.72%,  Val Loss:  0.36,  Val Acc: 83.98%,  Time: 0:00:04 *\n",
            "Epoch [3/10]\n",
            "Iter:     40,  Train Loss:  0.36,  Train Acc: 85.16%,  Val Loss:  0.27,  Val Acc: 88.48%,  Time: 0:00:06 *\n",
            "Epoch [4/10]\n",
            "Iter:     60,  Train Loss:  0.22,  Train Acc: 92.97%,  Val Loss:  0.23,  Val Acc: 91.41%,  Time: 0:00:09 *\n",
            "Epoch [5/10]\n",
            "Iter:     80,  Train Loss:  0.17,  Train Acc: 96.88%,  Val Loss:  0.22,  Val Acc: 92.38%,  Time: 0:00:17 *\n",
            "Epoch [6/10]\n",
            "Iter:    100,  Train Loss:  0.15,  Train Acc: 96.88%,  Val Loss:  0.21,  Val Acc: 92.38%,  Time: 0:00:20 *\n",
            "Epoch [7/10]\n",
            "Epoch [8/10]\n",
            "Iter:    120,  Train Loss:  0.11,  Train Acc: 99.22%,  Val Loss:   0.2,  Val Acc: 92.97%,  Time: 0:00:26 *\n",
            "Epoch [9/10]\n",
            "Iter:    140,  Train Loss: 0.073,  Train Acc: 99.22%,  Val Loss:  0.21,  Val Acc: 91.41%,  Time: 0:00:26 \n",
            "Epoch [10/10]\n",
            "Iter:    160,  Train Loss: 0.057,  Train Acc: 99.22%,  Val Loss:  0.27,  Val Acc: 89.06%,  Time: 0:00:26 \n",
            "Test Loss:   0.4,  Test Acc: 82.63%\n",
            "Precision, Recall and F1-Score...\n",
            "              precision    recall  f1-score   support\n",
            "\n",
            "    negative     0.7827    0.8186    0.8002      3913\n",
            "    positive     0.8611    0.8320    0.8463      5291\n",
            "\n",
            "    accuracy                         0.8263      9204\n",
            "   macro avg     0.8219    0.8253    0.8233      9204\n",
            "weighted avg     0.8278    0.8263    0.8267      9204\n",
            "\n",
            "Confusion Matrix...\n",
            "[[3203  710]\n",
            " [ 889 4402]]\n",
            "Time usage: 0:00:00\n"
          ],
          "name": "stdout"
        }
      ]
    },
    {
      "cell_type": "code",
      "metadata": {
        "id": "vHy7JfWJDeeN",
        "colab": {
          "base_uri": "https://localhost:8080/"
        },
        "outputId": "d198fbe9-973d-4a62-a1c9-f916fab2e5cc"
      },
      "source": [
        "%run '/content/drive/My Drive/textcnn/runrm7.py' --model TextCNNRM --word True\n",
        "predict_all[predict_all==0] = -1\n",
        "np.savetxt(\"/content/drive/MyDrive/textcnn/output/rm7.txt\", predict_all, delimiter=\",\", fmt=\"%d\")"
      ],
      "execution_count": null,
      "outputs": [
        {
          "output_type": "stream",
          "text": [
            "\r0it [00:00, ?it/s]"
          ],
          "name": "stderr"
        },
        {
          "output_type": "stream",
          "text": [
            "Loading data...\n",
            "Vocab size: 355784\n"
          ],
          "name": "stdout"
        },
        {
          "output_type": "stream",
          "text": [
            "2114it [00:00, 39170.01it/s]\n",
            "528it [00:00, 39960.89it/s]\n",
            "9204it [00:00, 39680.67it/s]\n"
          ],
          "name": "stderr"
        },
        {
          "output_type": "stream",
          "text": [
            "Time usage: 0:00:00\n",
            "<bound method Module.parameters of Model(\n",
            "  (embedding): Embedding(355784, 300)\n",
            "  (convs): ModuleList(\n",
            "    (0): Conv2d(1, 256, kernel_size=(2, 300), stride=(1, 1))\n",
            "    (1): Conv2d(1, 256, kernel_size=(3, 300), stride=(1, 1))\n",
            "    (2): Conv2d(1, 256, kernel_size=(4, 300), stride=(1, 1))\n",
            "  )\n",
            "  (dropout): Dropout(p=0.5, inplace=False)\n",
            "  (fc): Linear(in_features=768, out_features=2, bias=True)\n",
            ")>\n",
            "Epoch [1/10]\n",
            "Iter:      0,  Train Loss:  0.69,  Train Acc: 51.56%,  Val Loss:  0.59,  Val Acc: 71.68%,  Time: 0:00:02 *\n",
            "Epoch [2/10]\n",
            "Iter:     20,  Train Loss:  0.33,  Train Acc: 85.16%,  Val Loss:  0.35,  Val Acc: 84.38%,  Time: 0:00:05 *\n",
            "Epoch [3/10]\n",
            "Iter:     40,  Train Loss:  0.36,  Train Acc: 85.94%,  Val Loss:  0.27,  Val Acc: 88.28%,  Time: 0:00:09 *\n",
            "Epoch [4/10]\n",
            "Iter:     60,  Train Loss:  0.21,  Train Acc: 92.97%,  Val Loss:  0.23,  Val Acc: 91.99%,  Time: 0:00:15 *\n",
            "Epoch [5/10]\n",
            "Iter:     80,  Train Loss:  0.18,  Train Acc: 95.31%,  Val Loss:  0.22,  Val Acc: 92.77%,  Time: 0:00:21 *\n",
            "Epoch [6/10]\n",
            "Iter:    100,  Train Loss:  0.16,  Train Acc: 96.09%,  Val Loss:  0.21,  Val Acc: 92.38%,  Time: 0:00:25 *\n",
            "Epoch [7/10]\n",
            "Epoch [8/10]\n",
            "Iter:    120,  Train Loss: 0.097,  Train Acc: 98.44%,  Val Loss:   0.2,  Val Acc: 92.77%,  Time: 0:00:33 *\n",
            "Epoch [9/10]\n",
            "Iter:    140,  Train Loss: 0.076,  Train Acc: 97.66%,  Val Loss:  0.22,  Val Acc: 91.02%,  Time: 0:00:33 \n",
            "Epoch [10/10]\n",
            "Iter:    160,  Train Loss: 0.064,  Train Acc: 99.22%,  Val Loss:  0.27,  Val Acc: 88.48%,  Time: 0:00:33 \n",
            "Test Loss:   0.4,  Test Acc: 82.63%\n",
            "Precision, Recall and F1-Score...\n",
            "              precision    recall  f1-score   support\n",
            "\n",
            "    negative     0.7974    0.7927    0.7951      3913\n",
            "    positive     0.8474    0.8511    0.8492      5291\n",
            "\n",
            "    accuracy                         0.8263      9204\n",
            "   macro avg     0.8224    0.8219    0.8222      9204\n",
            "weighted avg     0.8261    0.8263    0.8262      9204\n",
            "\n",
            "Confusion Matrix...\n",
            "[[3102  811]\n",
            " [ 788 4503]]\n",
            "Time usage: 0:00:00\n"
          ],
          "name": "stdout"
        }
      ]
    },
    {
      "cell_type": "code",
      "metadata": {
        "id": "mrZ4rCkWDeg5",
        "colab": {
          "base_uri": "https://localhost:8080/"
        },
        "outputId": "9726fa88-6775-44ab-b83e-3137a300df09"
      },
      "source": [
        "%run '/content/drive/My Drive/textcnn/runrm8.py' --model TextCNNRM --word True\n",
        "predict_all[predict_all==0] = -1\n",
        "np.savetxt(\"/content/drive/MyDrive/textcnn/output/rm8.txt\", predict_all, delimiter=\",\", fmt=\"%d\")"
      ],
      "execution_count": null,
      "outputs": [
        {
          "output_type": "stream",
          "text": [
            "\r0it [00:00, ?it/s]"
          ],
          "name": "stderr"
        },
        {
          "output_type": "stream",
          "text": [
            "Loading data...\n",
            "Vocab size: 355784\n"
          ],
          "name": "stdout"
        },
        {
          "output_type": "stream",
          "text": [
            "2114it [00:00, 41248.99it/s]\n",
            "528it [00:00, 38316.08it/s]\n",
            "9204it [00:00, 43723.13it/s]\n"
          ],
          "name": "stderr"
        },
        {
          "output_type": "stream",
          "text": [
            "Time usage: 0:00:00\n",
            "<bound method Module.parameters of Model(\n",
            "  (embedding): Embedding(355784, 300)\n",
            "  (convs): ModuleList(\n",
            "    (0): Conv2d(1, 256, kernel_size=(2, 300), stride=(1, 1))\n",
            "    (1): Conv2d(1, 256, kernel_size=(3, 300), stride=(1, 1))\n",
            "    (2): Conv2d(1, 256, kernel_size=(4, 300), stride=(1, 1))\n",
            "  )\n",
            "  (dropout): Dropout(p=0.5, inplace=False)\n",
            "  (fc): Linear(in_features=768, out_features=2, bias=True)\n",
            ")>\n",
            "Epoch [1/10]\n",
            "Iter:      0,  Train Loss:  0.69,  Train Acc: 53.91%,  Val Loss:  0.58,  Val Acc: 71.68%,  Time: 0:00:02 *\n",
            "Epoch [2/10]\n",
            "Iter:     20,  Train Loss:  0.34,  Train Acc: 84.38%,  Val Loss:  0.36,  Val Acc: 83.20%,  Time: 0:00:07 *\n",
            "Epoch [3/10]\n",
            "Iter:     40,  Train Loss:  0.37,  Train Acc: 82.81%,  Val Loss:  0.27,  Val Acc: 88.28%,  Time: 0:00:09 *\n",
            "Epoch [4/10]\n",
            "Iter:     60,  Train Loss:  0.23,  Train Acc: 89.84%,  Val Loss:  0.23,  Val Acc: 91.60%,  Time: 0:00:15 *\n",
            "Epoch [5/10]\n",
            "Iter:     80,  Train Loss:  0.17,  Train Acc: 94.53%,  Val Loss:  0.22,  Val Acc: 91.80%,  Time: 0:00:20 *\n",
            "Epoch [6/10]\n",
            "Iter:    100,  Train Loss:  0.17,  Train Acc: 95.31%,  Val Loss:  0.22,  Val Acc: 92.38%,  Time: 0:00:21 \n",
            "Epoch [7/10]\n",
            "Epoch [8/10]\n",
            "Iter:    120,  Train Loss:   0.1,  Train Acc: 99.22%,  Val Loss:   0.2,  Val Acc: 92.58%,  Time: 0:00:26 *\n",
            "Epoch [9/10]\n",
            "Iter:    140,  Train Loss: 0.082,  Train Acc: 98.44%,  Val Loss:  0.21,  Val Acc: 91.21%,  Time: 0:00:26 \n",
            "Epoch [10/10]\n",
            "Iter:    160,  Train Loss:  0.05,  Train Acc: 99.22%,  Val Loss:  0.26,  Val Acc: 89.84%,  Time: 0:00:26 \n",
            "Test Loss:   0.4,  Test Acc: 82.68%\n",
            "Precision, Recall and F1-Score...\n",
            "              precision    recall  f1-score   support\n",
            "\n",
            "    negative     0.7844    0.8173    0.8005      3913\n",
            "    positive     0.8605    0.8339    0.8470      5291\n",
            "\n",
            "    accuracy                         0.8268      9204\n",
            "   macro avg     0.8225    0.8256    0.8237      9204\n",
            "weighted avg     0.8282    0.8268    0.8272      9204\n",
            "\n",
            "Confusion Matrix...\n",
            "[[3198  715]\n",
            " [ 879 4412]]\n",
            "Time usage: 0:00:00\n"
          ],
          "name": "stdout"
        }
      ]
    },
    {
      "cell_type": "code",
      "metadata": {
        "id": "vib1HT5FDekc",
        "colab": {
          "base_uri": "https://localhost:8080/"
        },
        "outputId": "5f4a9c84-fd6d-410c-fcf8-365fdd89f044"
      },
      "source": [
        "%run '/content/drive/My Drive/textcnn/runrm9.py' --model TextCNNRM --word True\n",
        "predict_all[predict_all==0] = -1\n",
        "np.savetxt(\"/content/drive/MyDrive/textcnn/output/rm9.txt\", predict_all, delimiter=\",\", fmt=\"%d\")"
      ],
      "execution_count": null,
      "outputs": [
        {
          "output_type": "stream",
          "text": [
            "\r0it [00:00, ?it/s]"
          ],
          "name": "stderr"
        },
        {
          "output_type": "stream",
          "text": [
            "Loading data...\n",
            "Vocab size: 355784\n"
          ],
          "name": "stdout"
        },
        {
          "output_type": "stream",
          "text": [
            "2114it [00:00, 39548.96it/s]\n",
            "528it [00:00, 35269.27it/s]\n",
            "9204it [00:00, 46968.53it/s]\n"
          ],
          "name": "stderr"
        },
        {
          "output_type": "stream",
          "text": [
            "Time usage: 0:00:00\n",
            "<bound method Module.parameters of Model(\n",
            "  (embedding): Embedding(355784, 300)\n",
            "  (convs): ModuleList(\n",
            "    (0): Conv2d(1, 256, kernel_size=(2, 300), stride=(1, 1))\n",
            "    (1): Conv2d(1, 256, kernel_size=(3, 300), stride=(1, 1))\n",
            "    (2): Conv2d(1, 256, kernel_size=(4, 300), stride=(1, 1))\n",
            "  )\n",
            "  (dropout): Dropout(p=0.5, inplace=False)\n",
            "  (fc): Linear(in_features=768, out_features=2, bias=True)\n",
            ")>\n",
            "Epoch [1/10]\n",
            "Iter:      0,  Train Loss:   0.7,  Train Acc: 38.28%,  Val Loss:  0.59,  Val Acc: 71.68%,  Time: 0:00:02 *\n",
            "Epoch [2/10]\n",
            "Iter:     20,  Train Loss:  0.34,  Train Acc: 85.94%,  Val Loss:  0.36,  Val Acc: 84.18%,  Time: 0:00:06 *\n",
            "Epoch [3/10]\n",
            "Iter:     40,  Train Loss:  0.37,  Train Acc: 82.81%,  Val Loss:  0.27,  Val Acc: 88.28%,  Time: 0:00:10 *\n",
            "Epoch [4/10]\n",
            "Iter:     60,  Train Loss:  0.21,  Train Acc: 93.75%,  Val Loss:  0.23,  Val Acc: 91.41%,  Time: 0:00:16 *\n",
            "Epoch [5/10]\n",
            "Iter:     80,  Train Loss:  0.17,  Train Acc: 94.53%,  Val Loss:  0.22,  Val Acc: 91.80%,  Time: 0:00:21 *\n",
            "Epoch [6/10]\n",
            "Iter:    100,  Train Loss:  0.18,  Train Acc: 92.97%,  Val Loss:  0.21,  Val Acc: 92.58%,  Time: 0:00:27 *\n",
            "Epoch [7/10]\n",
            "Epoch [8/10]\n",
            "Iter:    120,  Train Loss:   0.1,  Train Acc: 98.44%,  Val Loss:   0.2,  Val Acc: 92.97%,  Time: 0:00:32 *\n",
            "Epoch [9/10]\n",
            "Iter:    140,  Train Loss: 0.072,  Train Acc: 99.22%,  Val Loss:  0.21,  Val Acc: 91.41%,  Time: 0:00:32 \n",
            "Epoch [10/10]\n",
            "Iter:    160,  Train Loss: 0.064,  Train Acc: 99.22%,  Val Loss:  0.25,  Val Acc: 90.23%,  Time: 0:00:33 \n",
            "Test Loss:  0.41,  Test Acc: 82.54%\n",
            "Precision, Recall and F1-Score...\n",
            "              precision    recall  f1-score   support\n",
            "\n",
            "    negative     0.7814    0.8183    0.7994      3913\n",
            "    positive     0.8608    0.8307    0.8454      5291\n",
            "\n",
            "    accuracy                         0.8254      9204\n",
            "   macro avg     0.8211    0.8245    0.8224      9204\n",
            "weighted avg     0.8270    0.8254    0.8259      9204\n",
            "\n",
            "Confusion Matrix...\n",
            "[[3202  711]\n",
            " [ 896 4395]]\n",
            "Time usage: 0:00:00\n"
          ],
          "name": "stdout"
        }
      ]
    },
    {
      "cell_type": "code",
      "metadata": {
        "id": "dTn6lK4vDerj",
        "colab": {
          "base_uri": "https://localhost:8080/"
        },
        "outputId": "3f09b17c-bc07-4650-b265-d7cb4ecc5c80"
      },
      "source": [
        "%run '/content/drive/My Drive/textcnn/runrm10.py' --model TextCNNRM --word True\n",
        "predict_all[predict_all==0] = -1\n",
        "np.savetxt(\"/content/drive/MyDrive/textcnn/output/rm10.txt\", predict_all, delimiter=\",\", fmt=\"%d\")"
      ],
      "execution_count": null,
      "outputs": [
        {
          "output_type": "stream",
          "text": [
            "\r0it [00:00, ?it/s]"
          ],
          "name": "stderr"
        },
        {
          "output_type": "stream",
          "text": [
            "Loading data...\n",
            "Vocab size: 355784\n"
          ],
          "name": "stdout"
        },
        {
          "output_type": "stream",
          "text": [
            "2114it [00:00, 41278.18it/s]\n",
            "528it [00:00, 39417.48it/s]\n",
            "9204it [00:00, 25504.45it/s]\n"
          ],
          "name": "stderr"
        },
        {
          "output_type": "stream",
          "text": [
            "Time usage: 0:00:01\n",
            "<bound method Module.parameters of Model(\n",
            "  (embedding): Embedding(355784, 300)\n",
            "  (convs): ModuleList(\n",
            "    (0): Conv2d(1, 256, kernel_size=(2, 300), stride=(1, 1))\n",
            "    (1): Conv2d(1, 256, kernel_size=(3, 300), stride=(1, 1))\n",
            "    (2): Conv2d(1, 256, kernel_size=(4, 300), stride=(1, 1))\n",
            "  )\n",
            "  (dropout): Dropout(p=0.5, inplace=False)\n",
            "  (fc): Linear(in_features=768, out_features=2, bias=True)\n",
            ")>\n",
            "Epoch [1/10]\n",
            "Iter:      0,  Train Loss:  0.72,  Train Acc: 35.94%,  Val Loss:  0.59,  Val Acc: 71.68%,  Time: 0:00:02 *\n",
            "Epoch [2/10]\n",
            "Iter:     20,  Train Loss:  0.34,  Train Acc: 85.94%,  Val Loss:  0.37,  Val Acc: 83.40%,  Time: 0:00:05 *\n",
            "Epoch [3/10]\n",
            "Iter:     40,  Train Loss:  0.37,  Train Acc: 85.16%,  Val Loss:  0.27,  Val Acc: 88.09%,  Time: 0:00:10 *\n",
            "Epoch [4/10]\n",
            "Iter:     60,  Train Loss:  0.23,  Train Acc: 88.28%,  Val Loss:  0.23,  Val Acc: 90.43%,  Time: 0:00:14 *\n",
            "Epoch [5/10]\n",
            "Iter:     80,  Train Loss:  0.19,  Train Acc: 94.53%,  Val Loss:  0.22,  Val Acc: 92.19%,  Time: 0:00:19 *\n",
            "Epoch [6/10]\n",
            "Iter:    100,  Train Loss:  0.17,  Train Acc: 93.75%,  Val Loss:  0.22,  Val Acc: 92.19%,  Time: 0:00:24 *\n",
            "Epoch [7/10]\n",
            "Epoch [8/10]\n",
            "Iter:    120,  Train Loss:  0.12,  Train Acc: 97.66%,  Val Loss:  0.21,  Val Acc: 92.38%,  Time: 0:00:30 *\n",
            "Epoch [9/10]\n",
            "Iter:    140,  Train Loss: 0.073,  Train Acc: 99.22%,  Val Loss:   0.2,  Val Acc: 91.02%,  Time: 0:00:36 *\n",
            "Epoch [10/10]\n",
            "Iter:    160,  Train Loss: 0.056,  Train Acc: 99.22%,  Val Loss:  0.24,  Val Acc: 89.84%,  Time: 0:00:36 \n",
            "Test Loss:  0.42,  Test Acc: 82.16%\n",
            "Precision, Recall and F1-Score...\n",
            "              precision    recall  f1-score   support\n",
            "\n",
            "    negative     0.8251    0.7365    0.7783      3913\n",
            "    positive     0.8195    0.8845    0.8508      5291\n",
            "\n",
            "    accuracy                         0.8216      9204\n",
            "   macro avg     0.8223    0.8105    0.8145      9204\n",
            "weighted avg     0.8219    0.8216    0.8199      9204\n",
            "\n",
            "Confusion Matrix...\n",
            "[[2882 1031]\n",
            " [ 611 4680]]\n",
            "Time usage: 0:00:00\n"
          ],
          "name": "stdout"
        }
      ]
    },
    {
      "cell_type": "code",
      "metadata": {
        "id": "vlKoqJyBF_nR"
      },
      "source": [
        ""
      ],
      "execution_count": null,
      "outputs": []
    }
  ]
}