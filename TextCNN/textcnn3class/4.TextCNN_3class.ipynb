{
  "nbformat": 4,
  "nbformat_minor": 0,
  "metadata": {
    "colab": {
      "name": "TextCNN_3class.ipynb",
      "provenance": [],
      "machine_shape": "hm"
    },
    "kernelspec": {
      "name": "python3",
      "display_name": "Python 3"
    },
    "accelerator": "GPU"
  },
  "cells": [
    {
      "cell_type": "code",
      "metadata": {
        "id": "etEPjuCyKYgw",
        "colab": {
          "base_uri": "https://localhost:8080/"
        },
        "outputId": "aa341b38-7909-464f-c1d0-a17c36dd79e1"
      },
      "source": [
        "gpu_info = !nvidia-smi\n",
        "gpu_info = '\\n'.join(gpu_info)\n",
        "if gpu_info.find('failed') >= 0:\n",
        "  print('Select the Runtime > \"Change runtime type\" menu to enable a GPU accelerator, ')\n",
        "  print('and then re-execute this cell.')\n",
        "else:\n",
        "  print(gpu_info)"
      ],
      "execution_count": null,
      "outputs": [
        {
          "output_type": "stream",
          "text": [
            "Wed Jan 20 22:23:14 2021       \n",
            "+-----------------------------------------------------------------------------+\n",
            "| NVIDIA-SMI 460.32.03    Driver Version: 418.67       CUDA Version: 10.1     |\n",
            "|-------------------------------+----------------------+----------------------+\n",
            "| GPU  Name        Persistence-M| Bus-Id        Disp.A | Volatile Uncorr. ECC |\n",
            "| Fan  Temp  Perf  Pwr:Usage/Cap|         Memory-Usage | GPU-Util  Compute M. |\n",
            "|                               |                      |               MIG M. |\n",
            "|===============================+======================+======================|\n",
            "|   0  Tesla P100-PCIE...  Off  | 00000000:00:04.0 Off |                    0 |\n",
            "| N/A   33C    P0    27W / 250W |      0MiB / 16280MiB |      0%      Default |\n",
            "|                               |                      |                 ERR! |\n",
            "+-------------------------------+----------------------+----------------------+\n",
            "                                                                               \n",
            "+-----------------------------------------------------------------------------+\n",
            "| Processes:                                                                  |\n",
            "|  GPU   GI   CI        PID   Type   Process name                  GPU Memory |\n",
            "|        ID   ID                                                   Usage      |\n",
            "|=============================================================================|\n",
            "|  No running processes found                                                 |\n",
            "+-----------------------------------------------------------------------------+\n"
          ],
          "name": "stdout"
        }
      ]
    },
    {
      "cell_type": "code",
      "metadata": {
        "id": "-J7AdwJcKjYW",
        "colab": {
          "base_uri": "https://localhost:8080/"
        },
        "outputId": "4a3c334c-e4a4-4da8-f039-5808699531d5"
      },
      "source": [
        "pip install tensorboardX"
      ],
      "execution_count": null,
      "outputs": [
        {
          "output_type": "stream",
          "text": [
            "Collecting tensorboardX\n",
            "\u001b[?25l  Downloading https://files.pythonhosted.org/packages/af/0c/4f41bcd45db376e6fe5c619c01100e9b7531c55791b7244815bac6eac32c/tensorboardX-2.1-py2.py3-none-any.whl (308kB)\n",
            "\r\u001b[K     |█                               | 10kB 23.4MB/s eta 0:00:01\r\u001b[K     |██▏                             | 20kB 11.0MB/s eta 0:00:01\r\u001b[K     |███▏                            | 30kB 8.5MB/s eta 0:00:01\r\u001b[K     |████▎                           | 40kB 7.5MB/s eta 0:00:01\r\u001b[K     |█████▎                          | 51kB 4.3MB/s eta 0:00:01\r\u001b[K     |██████▍                         | 61kB 4.9MB/s eta 0:00:01\r\u001b[K     |███████▍                        | 71kB 5.0MB/s eta 0:00:01\r\u001b[K     |████████▌                       | 81kB 5.4MB/s eta 0:00:01\r\u001b[K     |█████████▌                      | 92kB 5.8MB/s eta 0:00:01\r\u001b[K     |██████████▋                     | 102kB 5.8MB/s eta 0:00:01\r\u001b[K     |███████████▊                    | 112kB 5.8MB/s eta 0:00:01\r\u001b[K     |████████████▊                   | 122kB 5.8MB/s eta 0:00:01\r\u001b[K     |█████████████▉                  | 133kB 5.8MB/s eta 0:00:01\r\u001b[K     |██████████████▉                 | 143kB 5.8MB/s eta 0:00:01\r\u001b[K     |████████████████                | 153kB 5.8MB/s eta 0:00:01\r\u001b[K     |█████████████████               | 163kB 5.8MB/s eta 0:00:01\r\u001b[K     |██████████████████              | 174kB 5.8MB/s eta 0:00:01\r\u001b[K     |███████████████████             | 184kB 5.8MB/s eta 0:00:01\r\u001b[K     |████████████████████▏           | 194kB 5.8MB/s eta 0:00:01\r\u001b[K     |█████████████████████▎          | 204kB 5.8MB/s eta 0:00:01\r\u001b[K     |██████████████████████▎         | 215kB 5.8MB/s eta 0:00:01\r\u001b[K     |███████████████████████▍        | 225kB 5.8MB/s eta 0:00:01\r\u001b[K     |████████████████████████▍       | 235kB 5.8MB/s eta 0:00:01\r\u001b[K     |█████████████████████████▌      | 245kB 5.8MB/s eta 0:00:01\r\u001b[K     |██████████████████████████▌     | 256kB 5.8MB/s eta 0:00:01\r\u001b[K     |███████████████████████████▋    | 266kB 5.8MB/s eta 0:00:01\r\u001b[K     |████████████████████████████▋   | 276kB 5.8MB/s eta 0:00:01\r\u001b[K     |█████████████████████████████▊  | 286kB 5.8MB/s eta 0:00:01\r\u001b[K     |██████████████████████████████▊ | 296kB 5.8MB/s eta 0:00:01\r\u001b[K     |███████████████████████████████▉| 307kB 5.8MB/s eta 0:00:01\r\u001b[K     |████████████████████████████████| 317kB 5.8MB/s \n",
            "\u001b[?25hRequirement already satisfied: six in /usr/local/lib/python3.6/dist-packages (from tensorboardX) (1.15.0)\n",
            "Requirement already satisfied: protobuf>=3.8.0 in /usr/local/lib/python3.6/dist-packages (from tensorboardX) (3.12.4)\n",
            "Requirement already satisfied: numpy in /usr/local/lib/python3.6/dist-packages (from tensorboardX) (1.19.5)\n",
            "Requirement already satisfied: setuptools in /usr/local/lib/python3.6/dist-packages (from protobuf>=3.8.0->tensorboardX) (51.1.2)\n",
            "Installing collected packages: tensorboardX\n",
            "Successfully installed tensorboardX-2.1\n"
          ],
          "name": "stdout"
        }
      ]
    },
    {
      "cell_type": "code",
      "metadata": {
        "id": "jH8yVPVvKlhC"
      },
      "source": [
        "import sys\n",
        "import numpy as np\n",
        "sys.path.append('/content/drive/My Drive/textcnn3/')"
      ],
      "execution_count": null,
      "outputs": []
    },
    {
      "cell_type": "code",
      "metadata": {
        "id": "iU5fF5LmKpYa",
        "colab": {
          "base_uri": "https://localhost:8080/"
        },
        "outputId": "96fb67d6-ac48-4340-9e22-104c71433143"
      },
      "source": [
        "%run '/content/drive/My Drive/textcnn3/run1.py' --model TextCNN --word True\n",
        "predict_all[predict_all==0] = -1\n",
        "predict_all[predict_all==1] = 0\n",
        "predict_all[predict_all==2] = 1\n",
        "predict_all\n",
        "np.savetxt('/content/drive/MyDrive/textcnn3/output/wk1.txt', predict_all, delimiter=\",\", fmt=\"%d\")"
      ],
      "execution_count": null,
      "outputs": [
        {
          "output_type": "stream",
          "text": [
            "Loading data...\n"
          ],
          "name": "stdout"
        },
        {
          "output_type": "stream",
          "text": [
            "\r0it [00:00, ?it/s]"
          ],
          "name": "stderr"
        },
        {
          "output_type": "stream",
          "text": [
            "Vocab size: 352159\n"
          ],
          "name": "stdout"
        },
        {
          "output_type": "stream",
          "text": [
            "3988it [00:01, 3797.39it/s]\n",
            "996it [00:00, 1195.40it/s]\n",
            "12628it [00:01, 7448.56it/s]\n"
          ],
          "name": "stderr"
        },
        {
          "output_type": "stream",
          "text": [
            "Time usage: 0:00:06\n",
            "<bound method Module.parameters of Model(\n",
            "  (embedding): Embedding(352159, 300)\n",
            "  (convs): ModuleList(\n",
            "    (0): Conv2d(1, 256, kernel_size=(2, 300), stride=(1, 1))\n",
            "    (1): Conv2d(1, 256, kernel_size=(3, 300), stride=(1, 1))\n",
            "    (2): Conv2d(1, 256, kernel_size=(4, 300), stride=(1, 1))\n",
            "  )\n",
            "  (dropout): Dropout(p=0.5, inplace=False)\n",
            "  (fc): Linear(in_features=768, out_features=3, bias=True)\n",
            ")>\n",
            "Epoch [1/15]\n",
            "Iter:      0,  Train Loss:   1.1,  Train Acc: 28.12%,  Val Loss:   1.0,  Val Acc: 54.02%,  Time: 0:00:13 *\n",
            "Epoch [2/15]\n",
            "Iter:     40,  Train Loss:  0.88,  Train Acc: 58.59%,  Val Loss:  0.87,  Val Acc: 57.43%,  Time: 0:00:15 *\n",
            "Epoch [3/15]\n",
            "Iter:     80,  Train Loss:  0.76,  Train Acc: 60.94%,  Val Loss:  0.83,  Val Acc: 58.73%,  Time: 0:00:18 *\n",
            "Epoch [4/15]\n",
            "Iter:    120,  Train Loss:   0.6,  Train Acc: 76.56%,  Val Loss:  0.77,  Val Acc: 65.86%,  Time: 0:00:20 *\n",
            "Epoch [5/15]\n",
            "Epoch [6/15]\n",
            "Iter:    160,  Train Loss:  0.62,  Train Acc: 75.78%,  Val Loss:  0.77,  Val Acc: 62.75%,  Time: 0:00:20 \n",
            "Epoch [7/15]\n",
            "Iter:    200,  Train Loss:  0.54,  Train Acc: 78.91%,  Val Loss:  0.78,  Val Acc: 64.06%,  Time: 0:00:20 \n",
            "Epoch [8/15]\n",
            "Iter:    240,  Train Loss:  0.47,  Train Acc: 83.59%,  Val Loss:  0.77,  Val Acc: 63.96%,  Time: 0:00:23 *\n",
            "Epoch [9/15]\n",
            "Iter:    280,  Train Loss:  0.39,  Train Acc: 89.84%,  Val Loss:  0.75,  Val Acc: 65.36%,  Time: 0:00:27 *\n",
            "Epoch [10/15]\n",
            "Epoch [11/15]\n",
            "Iter:    320,  Train Loss:   0.4,  Train Acc: 85.94%,  Val Loss:  0.78,  Val Acc: 64.36%,  Time: 0:00:28 \n",
            "Epoch [12/15]\n",
            "Iter:    360,  Train Loss:  0.33,  Train Acc: 92.97%,  Val Loss:  0.79,  Val Acc: 64.66%,  Time: 0:00:28 \n",
            "Epoch [13/15]\n",
            "Iter:    400,  Train Loss:  0.29,  Train Acc: 95.31%,  Val Loss:  0.78,  Val Acc: 65.36%,  Time: 0:00:28 \n",
            "Epoch [14/15]\n",
            "Iter:    440,  Train Loss:  0.22,  Train Acc: 97.66%,  Val Loss:  0.76,  Val Acc: 65.76%,  Time: 0:00:29 \n",
            "Epoch [15/15]\n",
            "Test Loss:  0.87,  Test Acc: 60.05%\n",
            "Precision, Recall and F1-Score...\n",
            "              precision    recall  f1-score   support\n",
            "\n",
            "    negative     0.7318    0.5837    0.6494      3913\n",
            "     neutral     0.4226    0.7345    0.5365      3424\n",
            "    positive     0.7829    0.5262    0.6294      5291\n",
            "\n",
            "    accuracy                         0.6005     12628\n",
            "   macro avg     0.6458    0.6148    0.6051     12628\n",
            "weighted avg     0.6694    0.6005    0.6104     12628\n",
            "\n",
            "Confusion Matrix...\n",
            "[[2284 1341  288]\n",
            " [ 425 2515  484]\n",
            " [ 412 2095 2784]]\n",
            "Time usage: 0:00:03\n"
          ],
          "name": "stdout"
        }
      ]
    },
    {
      "cell_type": "code",
      "metadata": {
        "id": "PxS2vDdKLZUj",
        "colab": {
          "base_uri": "https://localhost:8080/"
        },
        "outputId": "be4c9cde-9a13-41ac-af92-92c0491bf923"
      },
      "source": [
        "%run '/content/drive/My Drive/textcnn3/run2.py' --model TextCNN --word True\n",
        "predict_all[predict_all==0] = -1\n",
        "predict_all[predict_all==1] = 0\n",
        "predict_all[predict_all==2] = 1\n",
        "predict_all\n",
        "np.savetxt('/content/drive/MyDrive/textcnn3/output/wk2.txt', predict_all, delimiter=\",\", fmt=\"%d\")"
      ],
      "execution_count": null,
      "outputs": [
        {
          "output_type": "stream",
          "text": [
            "\r0it [00:00, ?it/s]"
          ],
          "name": "stderr"
        },
        {
          "output_type": "stream",
          "text": [
            "Loading data...\n",
            "Vocab size: 352159\n"
          ],
          "name": "stdout"
        },
        {
          "output_type": "stream",
          "text": [
            "3988it [00:00, 43374.24it/s]\n",
            "996it [00:00, 45449.89it/s]\n",
            "12628it [00:00, 44658.37it/s]\n"
          ],
          "name": "stderr"
        },
        {
          "output_type": "stream",
          "text": [
            "Time usage: 0:00:01\n",
            "<bound method Module.parameters of Model(\n",
            "  (embedding): Embedding(352159, 300)\n",
            "  (convs): ModuleList(\n",
            "    (0): Conv2d(1, 256, kernel_size=(2, 300), stride=(1, 1))\n",
            "    (1): Conv2d(1, 256, kernel_size=(3, 300), stride=(1, 1))\n",
            "    (2): Conv2d(1, 256, kernel_size=(4, 300), stride=(1, 1))\n",
            "  )\n",
            "  (dropout): Dropout(p=0.5, inplace=False)\n",
            "  (fc): Linear(in_features=768, out_features=3, bias=True)\n",
            ")>\n",
            "Epoch [1/15]\n",
            "Iter:      0,  Train Loss:   1.1,  Train Acc: 32.03%,  Val Loss:   1.0,  Val Acc: 49.30%,  Time: 0:00:02 *\n",
            "Epoch [2/15]\n",
            "Iter:     40,  Train Loss:  0.85,  Train Acc: 59.38%,  Val Loss:  0.87,  Val Acc: 57.03%,  Time: 0:00:06 *\n",
            "Epoch [3/15]\n",
            "Iter:     80,  Train Loss:  0.75,  Train Acc: 67.19%,  Val Loss:  0.82,  Val Acc: 59.54%,  Time: 0:00:08 *\n",
            "Epoch [4/15]\n",
            "Iter:    120,  Train Loss:  0.63,  Train Acc: 75.00%,  Val Loss:  0.77,  Val Acc: 66.57%,  Time: 0:00:10 *\n",
            "Epoch [5/15]\n",
            "Epoch [6/15]\n",
            "Iter:    160,  Train Loss:  0.62,  Train Acc: 75.00%,  Val Loss:  0.77,  Val Acc: 63.05%,  Time: 0:00:10 \n",
            "Epoch [7/15]\n",
            "Iter:    200,  Train Loss:  0.51,  Train Acc: 85.16%,  Val Loss:  0.77,  Val Acc: 64.56%,  Time: 0:00:11 \n",
            "Epoch [8/15]\n",
            "Iter:    240,  Train Loss:  0.49,  Train Acc: 81.25%,  Val Loss:  0.77,  Val Acc: 63.86%,  Time: 0:00:11 \n",
            "Epoch [9/15]\n",
            "Iter:    280,  Train Loss:  0.38,  Train Acc: 91.41%,  Val Loss:  0.75,  Val Acc: 66.27%,  Time: 0:00:15 *\n",
            "Epoch [10/15]\n",
            "Epoch [11/15]\n",
            "Iter:    320,  Train Loss:   0.4,  Train Acc: 85.16%,  Val Loss:   0.8,  Val Acc: 63.45%,  Time: 0:00:15 \n",
            "Epoch [12/15]\n",
            "Iter:    360,  Train Loss:   0.3,  Train Acc: 90.62%,  Val Loss:   0.8,  Val Acc: 63.65%,  Time: 0:00:15 \n",
            "Epoch [13/15]\n",
            "Iter:    400,  Train Loss:  0.28,  Train Acc: 95.31%,  Val Loss:  0.78,  Val Acc: 64.56%,  Time: 0:00:16 \n",
            "Epoch [14/15]\n",
            "Iter:    440,  Train Loss:  0.21,  Train Acc: 96.88%,  Val Loss:  0.76,  Val Acc: 66.97%,  Time: 0:00:16 \n",
            "Epoch [15/15]\n",
            "Test Loss:  0.87,  Test Acc: 60.14%\n",
            "Precision, Recall and F1-Score...\n",
            "              precision    recall  f1-score   support\n",
            "\n",
            "    negative     0.7230    0.5995    0.6555      3913\n",
            "     neutral     0.4243    0.7281    0.5361      3424\n",
            "    positive     0.7859    0.5209    0.6265      5291\n",
            "\n",
            "    accuracy                         0.6014     12628\n",
            "   macro avg     0.6444    0.6162    0.6060     12628\n",
            "weighted avg     0.6683    0.6014    0.6110     12628\n",
            "\n",
            "Confusion Matrix...\n",
            "[[2346 1287  280]\n",
            " [ 460 2493  471]\n",
            " [ 439 2096 2756]]\n",
            "Time usage: 0:00:00\n"
          ],
          "name": "stdout"
        }
      ]
    },
    {
      "cell_type": "code",
      "metadata": {
        "id": "T6TtDsALMb2z",
        "colab": {
          "base_uri": "https://localhost:8080/"
        },
        "outputId": "d582cba9-9c2e-4a01-93e7-1e0550216199"
      },
      "source": [
        "%run '/content/drive/My Drive/textcnn3/run3.py' --model TextCNN --word True\n",
        "predict_all[predict_all==0] = -1\n",
        "predict_all[predict_all==1] = 0\n",
        "predict_all[predict_all==2] = 1\n",
        "predict_all\n",
        "np.savetxt('/content/drive/MyDrive/textcnn3/output/wk3.txt', predict_all, delimiter=\",\", fmt=\"%d\")"
      ],
      "execution_count": null,
      "outputs": [
        {
          "output_type": "stream",
          "text": [
            "\r0it [00:00, ?it/s]"
          ],
          "name": "stderr"
        },
        {
          "output_type": "stream",
          "text": [
            "Loading data...\n",
            "Vocab size: 352159\n"
          ],
          "name": "stdout"
        },
        {
          "output_type": "stream",
          "text": [
            "3988it [00:00, 41516.84it/s]\n",
            "996it [00:00, 40463.83it/s]\n",
            "12628it [00:00, 43477.88it/s]\n"
          ],
          "name": "stderr"
        },
        {
          "output_type": "stream",
          "text": [
            "Time usage: 0:00:01\n",
            "<bound method Module.parameters of Model(\n",
            "  (embedding): Embedding(352159, 300)\n",
            "  (convs): ModuleList(\n",
            "    (0): Conv2d(1, 256, kernel_size=(2, 300), stride=(1, 1))\n",
            "    (1): Conv2d(1, 256, kernel_size=(3, 300), stride=(1, 1))\n",
            "    (2): Conv2d(1, 256, kernel_size=(4, 300), stride=(1, 1))\n",
            "  )\n",
            "  (dropout): Dropout(p=0.5, inplace=False)\n",
            "  (fc): Linear(in_features=768, out_features=3, bias=True)\n",
            ")>\n",
            "Epoch [1/15]\n",
            "Iter:      0,  Train Loss:   1.1,  Train Acc: 38.28%,  Val Loss:   1.0,  Val Acc: 54.32%,  Time: 0:00:02 *\n",
            "Epoch [2/15]\n",
            "Iter:     40,  Train Loss:  0.87,  Train Acc: 60.16%,  Val Loss:  0.87,  Val Acc: 57.33%,  Time: 0:00:06 *\n",
            "Epoch [3/15]\n",
            "Iter:     80,  Train Loss:  0.77,  Train Acc: 61.72%,  Val Loss:  0.82,  Val Acc: 58.43%,  Time: 0:00:09 *\n",
            "Epoch [4/15]\n",
            "Iter:    120,  Train Loss:  0.62,  Train Acc: 78.12%,  Val Loss:  0.77,  Val Acc: 66.77%,  Time: 0:00:14 *\n",
            "Epoch [5/15]\n",
            "Epoch [6/15]\n",
            "Iter:    160,  Train Loss:  0.64,  Train Acc: 69.53%,  Val Loss:  0.78,  Val Acc: 63.35%,  Time: 0:00:15 \n",
            "Epoch [7/15]\n",
            "Iter:    200,  Train Loss:  0.53,  Train Acc: 85.16%,  Val Loss:  0.77,  Val Acc: 64.56%,  Time: 0:00:15 \n",
            "Epoch [8/15]\n",
            "Iter:    240,  Train Loss:  0.51,  Train Acc: 82.03%,  Val Loss:  0.77,  Val Acc: 64.16%,  Time: 0:00:20 *\n",
            "Epoch [9/15]\n",
            "Iter:    280,  Train Loss:  0.39,  Train Acc: 90.62%,  Val Loss:  0.75,  Val Acc: 65.76%,  Time: 0:00:25 *\n",
            "Epoch [10/15]\n",
            "Epoch [11/15]\n",
            "Iter:    320,  Train Loss:  0.39,  Train Acc: 84.38%,  Val Loss:  0.77,  Val Acc: 64.96%,  Time: 0:00:26 \n",
            "Epoch [12/15]\n",
            "Iter:    360,  Train Loss:  0.31,  Train Acc: 92.97%,  Val Loss:  0.78,  Val Acc: 64.86%,  Time: 0:00:26 \n",
            "Epoch [13/15]\n",
            "Iter:    400,  Train Loss:   0.3,  Train Acc: 96.88%,  Val Loss:  0.78,  Val Acc: 64.96%,  Time: 0:00:26 \n",
            "Epoch [14/15]\n",
            "Iter:    440,  Train Loss:  0.21,  Train Acc: 96.09%,  Val Loss:  0.75,  Val Acc: 67.17%,  Time: 0:00:27 \n",
            "Epoch [15/15]\n",
            "Test Loss:  0.87,  Test Acc: 60.82%\n",
            "Precision, Recall and F1-Score...\n",
            "              precision    recall  f1-score   support\n",
            "\n",
            "    negative     0.7186    0.6195    0.6654      3913\n",
            "     neutral     0.4316    0.7246    0.5410      3424\n",
            "    positive     0.7913    0.5245    0.6308      5291\n",
            "\n",
            "    accuracy                         0.6082     12628\n",
            "   macro avg     0.6472    0.6228    0.6124     12628\n",
            "weighted avg     0.6713    0.6082    0.6172     12628\n",
            "\n",
            "Confusion Matrix...\n",
            "[[2424 1215  274]\n",
            " [ 485 2481  458]\n",
            " [ 464 2052 2775]]\n",
            "Time usage: 0:00:00\n"
          ],
          "name": "stdout"
        }
      ]
    },
    {
      "cell_type": "code",
      "metadata": {
        "id": "34gnliCeMb5q",
        "colab": {
          "base_uri": "https://localhost:8080/"
        },
        "outputId": "f83e121a-bd80-4990-f7cc-e621250c7546"
      },
      "source": [
        "%run '/content/drive/My Drive/textcnn3/run4.py' --model TextCNN --word True\n",
        "predict_all[predict_all==0] = -1\n",
        "predict_all[predict_all==1] = 0\n",
        "predict_all[predict_all==2] = 1\n",
        "predict_all\n",
        "np.savetxt('/content/drive/MyDrive/textcnn3/output/wk4.txt', predict_all, delimiter=\",\", fmt=\"%d\")"
      ],
      "execution_count": null,
      "outputs": [
        {
          "output_type": "stream",
          "text": [
            "\r0it [00:00, ?it/s]"
          ],
          "name": "stderr"
        },
        {
          "output_type": "stream",
          "text": [
            "Loading data...\n",
            "Vocab size: 352159\n"
          ],
          "name": "stdout"
        },
        {
          "output_type": "stream",
          "text": [
            "3988it [00:00, 48381.49it/s]\n",
            "996it [00:00, 48110.45it/s]\n",
            "12628it [00:00, 30032.04it/s]\n"
          ],
          "name": "stderr"
        },
        {
          "output_type": "stream",
          "text": [
            "Time usage: 0:00:01\n",
            "<bound method Module.parameters of Model(\n",
            "  (embedding): Embedding(352159, 300)\n",
            "  (convs): ModuleList(\n",
            "    (0): Conv2d(1, 256, kernel_size=(2, 300), stride=(1, 1))\n",
            "    (1): Conv2d(1, 256, kernel_size=(3, 300), stride=(1, 1))\n",
            "    (2): Conv2d(1, 256, kernel_size=(4, 300), stride=(1, 1))\n",
            "  )\n",
            "  (dropout): Dropout(p=0.5, inplace=False)\n",
            "  (fc): Linear(in_features=768, out_features=3, bias=True)\n",
            ")>\n",
            "Epoch [1/15]\n",
            "Iter:      0,  Train Loss:   1.1,  Train Acc: 25.78%,  Val Loss:   1.0,  Val Acc: 48.29%,  Time: 0:00:02 *\n",
            "Epoch [2/15]\n",
            "Iter:     40,  Train Loss:  0.87,  Train Acc: 61.72%,  Val Loss:  0.87,  Val Acc: 57.83%,  Time: 0:00:04 *\n",
            "Epoch [3/15]\n",
            "Iter:     80,  Train Loss:  0.78,  Train Acc: 64.06%,  Val Loss:  0.82,  Val Acc: 58.84%,  Time: 0:00:06 *\n",
            "Epoch [4/15]\n",
            "Iter:    120,  Train Loss:  0.64,  Train Acc: 78.91%,  Val Loss:  0.78,  Val Acc: 65.86%,  Time: 0:00:11 *\n",
            "Epoch [5/15]\n",
            "Epoch [6/15]\n",
            "Iter:    160,  Train Loss:  0.63,  Train Acc: 71.09%,  Val Loss:  0.79,  Val Acc: 62.35%,  Time: 0:00:11 \n",
            "Epoch [7/15]\n",
            "Iter:    200,  Train Loss:   0.5,  Train Acc: 82.81%,  Val Loss:  0.79,  Val Acc: 64.26%,  Time: 0:00:11 \n",
            "Epoch [8/15]\n",
            "Iter:    240,  Train Loss:  0.47,  Train Acc: 83.59%,  Val Loss:  0.78,  Val Acc: 62.95%,  Time: 0:00:19 *\n",
            "Epoch [9/15]\n",
            "Iter:    280,  Train Loss:  0.37,  Train Acc: 89.84%,  Val Loss:  0.76,  Val Acc: 65.96%,  Time: 0:00:21 *\n",
            "Epoch [10/15]\n",
            "Epoch [11/15]\n",
            "Iter:    320,  Train Loss:  0.37,  Train Acc: 85.94%,  Val Loss:  0.78,  Val Acc: 64.56%,  Time: 0:00:22 \n",
            "Epoch [12/15]\n",
            "Iter:    360,  Train Loss:  0.33,  Train Acc: 92.19%,  Val Loss:  0.78,  Val Acc: 65.96%,  Time: 0:00:22 \n",
            "Epoch [13/15]\n",
            "Iter:    400,  Train Loss:   0.3,  Train Acc: 93.75%,  Val Loss:  0.79,  Val Acc: 64.66%,  Time: 0:00:22 \n",
            "Epoch [14/15]\n",
            "Iter:    440,  Train Loss:  0.22,  Train Acc: 95.31%,  Val Loss:  0.76,  Val Acc: 66.67%,  Time: 0:00:23 \n",
            "Epoch [15/15]\n",
            "Test Loss:  0.86,  Test Acc: 61.20%\n",
            "Precision, Recall and F1-Score...\n",
            "              precision    recall  f1-score   support\n",
            "\n",
            "    negative     0.7134    0.6310    0.6697      3913\n",
            "     neutral     0.4378    0.7155    0.5432      3424\n",
            "    positive     0.7866    0.5309    0.6339      5291\n",
            "\n",
            "    accuracy                         0.6120     12628\n",
            "   macro avg     0.6459    0.6258    0.6156     12628\n",
            "weighted avg     0.6693    0.6120    0.6204     12628\n",
            "\n",
            "Confusion Matrix...\n",
            "[[2469 1157  287]\n",
            " [ 499 2450  475]\n",
            " [ 493 1989 2809]]\n",
            "Time usage: 0:00:00\n"
          ],
          "name": "stdout"
        }
      ]
    },
    {
      "cell_type": "code",
      "metadata": {
        "id": "FaTPzCU_Mb8e",
        "colab": {
          "base_uri": "https://localhost:8080/"
        },
        "outputId": "6050292d-f163-455a-e013-e98b934b83c0"
      },
      "source": [
        "%run '/content/drive/My Drive/textcnn3/run5.py' --model TextCNN --word True\n",
        "predict_all[predict_all==0] = -1\n",
        "predict_all[predict_all==1] = 0\n",
        "predict_all[predict_all==2] = 1\n",
        "predict_all\n",
        "np.savetxt('/content/drive/MyDrive/textcnn3/output/wk5.txt', predict_all, delimiter=\",\", fmt=\"%d\")"
      ],
      "execution_count": null,
      "outputs": [
        {
          "output_type": "stream",
          "text": [
            "\r0it [00:00, ?it/s]"
          ],
          "name": "stderr"
        },
        {
          "output_type": "stream",
          "text": [
            "Loading data...\n",
            "Vocab size: 352159\n"
          ],
          "name": "stdout"
        },
        {
          "output_type": "stream",
          "text": [
            "3988it [00:00, 48592.17it/s]\n",
            "996it [00:00, 42994.15it/s]\n",
            "12628it [00:00, 45610.72it/s]\n"
          ],
          "name": "stderr"
        },
        {
          "output_type": "stream",
          "text": [
            "Time usage: 0:00:01\n",
            "<bound method Module.parameters of Model(\n",
            "  (embedding): Embedding(352159, 300)\n",
            "  (convs): ModuleList(\n",
            "    (0): Conv2d(1, 256, kernel_size=(2, 300), stride=(1, 1))\n",
            "    (1): Conv2d(1, 256, kernel_size=(3, 300), stride=(1, 1))\n",
            "    (2): Conv2d(1, 256, kernel_size=(4, 300), stride=(1, 1))\n",
            "  )\n",
            "  (dropout): Dropout(p=0.5, inplace=False)\n",
            "  (fc): Linear(in_features=768, out_features=3, bias=True)\n",
            ")>\n",
            "Epoch [1/15]\n",
            "Iter:      0,  Train Loss:   1.1,  Train Acc: 37.50%,  Val Loss:   1.0,  Val Acc: 49.10%,  Time: 0:00:02 *\n",
            "Epoch [2/15]\n",
            "Iter:     40,  Train Loss:  0.87,  Train Acc: 57.03%,  Val Loss:  0.88,  Val Acc: 56.73%,  Time: 0:00:04 *\n",
            "Epoch [3/15]\n",
            "Iter:     80,  Train Loss:  0.78,  Train Acc: 62.50%,  Val Loss:  0.82,  Val Acc: 59.14%,  Time: 0:00:10 *\n",
            "Epoch [4/15]\n",
            "Iter:    120,  Train Loss:  0.62,  Train Acc: 78.12%,  Val Loss:  0.77,  Val Acc: 66.27%,  Time: 0:00:15 *\n",
            "Epoch [5/15]\n",
            "Epoch [6/15]\n",
            "Iter:    160,  Train Loss:  0.62,  Train Acc: 74.22%,  Val Loss:  0.78,  Val Acc: 62.55%,  Time: 0:00:15 \n",
            "Epoch [7/15]\n",
            "Iter:    200,  Train Loss:  0.53,  Train Acc: 78.91%,  Val Loss:  0.78,  Val Acc: 65.06%,  Time: 0:00:15 \n",
            "Epoch [8/15]\n",
            "Iter:    240,  Train Loss:   0.5,  Train Acc: 80.47%,  Val Loss:  0.77,  Val Acc: 64.56%,  Time: 0:00:20 *\n",
            "Epoch [9/15]\n",
            "Iter:    280,  Train Loss:  0.38,  Train Acc: 90.62%,  Val Loss:  0.76,  Val Acc: 66.16%,  Time: 0:00:26 *\n",
            "Epoch [10/15]\n",
            "Epoch [11/15]\n",
            "Iter:    320,  Train Loss:  0.41,  Train Acc: 85.94%,  Val Loss:  0.78,  Val Acc: 64.16%,  Time: 0:00:26 \n",
            "Epoch [12/15]\n",
            "Iter:    360,  Train Loss:  0.31,  Train Acc: 93.75%,  Val Loss:  0.79,  Val Acc: 64.46%,  Time: 0:00:27 \n",
            "Epoch [13/15]\n",
            "Iter:    400,  Train Loss:  0.27,  Train Acc: 95.31%,  Val Loss:  0.78,  Val Acc: 65.26%,  Time: 0:00:27 \n",
            "Epoch [14/15]\n",
            "Iter:    440,  Train Loss:  0.23,  Train Acc: 98.44%,  Val Loss:  0.77,  Val Acc: 66.87%,  Time: 0:00:27 \n",
            "Epoch [15/15]\n",
            "Test Loss:  0.85,  Test Acc: 61.10%\n",
            "Precision, Recall and F1-Score...\n",
            "              precision    recall  f1-score   support\n",
            "\n",
            "    negative     0.7171    0.6205    0.6653      3913\n",
            "     neutral     0.4363    0.7082    0.5400      3424\n",
            "    positive     0.7771    0.5411    0.6380      5291\n",
            "\n",
            "    accuracy                         0.6110     12628\n",
            "   macro avg     0.6435    0.6233    0.6144     12628\n",
            "weighted avg     0.6661    0.6110    0.6199     12628\n",
            "\n",
            "Confusion Matrix...\n",
            "[[2428 1174  311]\n",
            " [ 489 2425  510]\n",
            " [ 469 1959 2863]]\n",
            "Time usage: 0:00:00\n"
          ],
          "name": "stdout"
        }
      ]
    },
    {
      "cell_type": "code",
      "metadata": {
        "id": "elYvznR2NM0l",
        "colab": {
          "base_uri": "https://localhost:8080/"
        },
        "outputId": "b10931d1-f2cc-4d9d-f91f-27c9b0558c4f"
      },
      "source": [
        "%run '/content/drive/My Drive/textcnn3/run6.py' --model TextCNN --word True\n",
        "predict_all[predict_all==0] = -1\n",
        "predict_all[predict_all==1] = 0\n",
        "predict_all[predict_all==2] = 1\n",
        "predict_all\n",
        "np.savetxt('/content/drive/MyDrive/textcnn3/output/wk6.txt', predict_all, delimiter=\",\", fmt=\"%d\")"
      ],
      "execution_count": null,
      "outputs": [
        {
          "output_type": "stream",
          "text": [
            "\r0it [00:00, ?it/s]"
          ],
          "name": "stderr"
        },
        {
          "output_type": "stream",
          "text": [
            "Loading data...\n",
            "Vocab size: 352159\n"
          ],
          "name": "stdout"
        },
        {
          "output_type": "stream",
          "text": [
            "3988it [00:00, 47332.78it/s]\n",
            "996it [00:00, 48251.60it/s]\n",
            "12628it [00:00, 50579.39it/s]\n"
          ],
          "name": "stderr"
        },
        {
          "output_type": "stream",
          "text": [
            "Time usage: 0:00:01\n",
            "<bound method Module.parameters of Model(\n",
            "  (embedding): Embedding(352159, 300)\n",
            "  (convs): ModuleList(\n",
            "    (0): Conv2d(1, 256, kernel_size=(2, 300), stride=(1, 1))\n",
            "    (1): Conv2d(1, 256, kernel_size=(3, 300), stride=(1, 1))\n",
            "    (2): Conv2d(1, 256, kernel_size=(4, 300), stride=(1, 1))\n",
            "  )\n",
            "  (dropout): Dropout(p=0.5, inplace=False)\n",
            "  (fc): Linear(in_features=768, out_features=3, bias=True)\n",
            ")>\n",
            "Epoch [1/15]\n",
            "Iter:      0,  Train Loss:   1.1,  Train Acc: 37.50%,  Val Loss:   1.0,  Val Acc: 50.60%,  Time: 0:00:02 *\n",
            "Epoch [2/15]\n",
            "Iter:     40,  Train Loss:  0.85,  Train Acc: 59.38%,  Val Loss:  0.87,  Val Acc: 56.73%,  Time: 0:00:05 *\n",
            "Epoch [3/15]\n",
            "Iter:     80,  Train Loss:  0.78,  Train Acc: 60.94%,  Val Loss:  0.82,  Val Acc: 58.94%,  Time: 0:00:09 *\n",
            "Epoch [4/15]\n",
            "Iter:    120,  Train Loss:   0.6,  Train Acc: 78.12%,  Val Loss:  0.77,  Val Acc: 66.77%,  Time: 0:00:12 *\n",
            "Epoch [5/15]\n",
            "Epoch [6/15]\n",
            "Iter:    160,  Train Loss:  0.63,  Train Acc: 71.88%,  Val Loss:  0.78,  Val Acc: 62.95%,  Time: 0:00:13 \n",
            "Epoch [7/15]\n",
            "Iter:    200,  Train Loss:   0.5,  Train Acc: 86.72%,  Val Loss:  0.77,  Val Acc: 65.16%,  Time: 0:00:13 \n",
            "Epoch [8/15]\n",
            "Iter:    240,  Train Loss:  0.48,  Train Acc: 79.69%,  Val Loss:  0.77,  Val Acc: 64.06%,  Time: 0:00:18 *\n",
            "Epoch [9/15]\n",
            "Iter:    280,  Train Loss:   0.4,  Train Acc: 89.06%,  Val Loss:  0.75,  Val Acc: 66.57%,  Time: 0:00:24 *\n",
            "Epoch [10/15]\n",
            "Epoch [11/15]\n",
            "Iter:    320,  Train Loss:  0.39,  Train Acc: 85.94%,  Val Loss:  0.78,  Val Acc: 63.55%,  Time: 0:00:24 \n",
            "Epoch [12/15]\n",
            "Iter:    360,  Train Loss:  0.32,  Train Acc: 92.97%,  Val Loss:  0.78,  Val Acc: 64.76%,  Time: 0:00:24 \n",
            "Epoch [13/15]\n",
            "Iter:    400,  Train Loss:  0.29,  Train Acc: 93.75%,  Val Loss:  0.77,  Val Acc: 65.56%,  Time: 0:00:25 \n",
            "Epoch [14/15]\n",
            "Iter:    440,  Train Loss:  0.22,  Train Acc: 96.88%,  Val Loss:  0.76,  Val Acc: 67.27%,  Time: 0:00:25 \n",
            "Epoch [15/15]\n",
            "Test Loss:  0.87,  Test Acc: 60.52%\n",
            "Precision, Recall and F1-Score...\n",
            "              precision    recall  f1-score   support\n",
            "\n",
            "    negative     0.7157    0.6182    0.6634      3913\n",
            "     neutral     0.4290    0.7223    0.5383      3424\n",
            "    positive     0.7895    0.5198    0.6269      5291\n",
            "\n",
            "    accuracy                         0.6052     12628\n",
            "   macro avg     0.6447    0.6201    0.6095     12628\n",
            "weighted avg     0.6689    0.6052    0.6141     12628\n",
            "\n",
            "Confusion Matrix...\n",
            "[[2419 1225  269]\n",
            " [ 487 2473  464]\n",
            " [ 474 2067 2750]]\n",
            "Time usage: 0:00:00\n"
          ],
          "name": "stdout"
        }
      ]
    },
    {
      "cell_type": "code",
      "metadata": {
        "id": "_YFwTk1UNM5Z",
        "colab": {
          "base_uri": "https://localhost:8080/"
        },
        "outputId": "8d617716-ab1d-4809-c41a-3980281979a0"
      },
      "source": [
        "%run '/content/drive/My Drive/textcnn3/run7.py' --model TextCNN --word True\n",
        "predict_all[predict_all==0] = -1\n",
        "predict_all[predict_all==1] = 0\n",
        "predict_all[predict_all==2] = 1\n",
        "predict_all\n",
        "np.savetxt('/content/drive/MyDrive/textcnn3/output/wk7.txt', predict_all, delimiter=\",\", fmt=\"%d\")"
      ],
      "execution_count": null,
      "outputs": [
        {
          "output_type": "stream",
          "text": [
            "\r0it [00:00, ?it/s]"
          ],
          "name": "stderr"
        },
        {
          "output_type": "stream",
          "text": [
            "Loading data...\n",
            "Vocab size: 352159\n"
          ],
          "name": "stdout"
        },
        {
          "output_type": "stream",
          "text": [
            "3988it [00:00, 17510.20it/s]\n",
            "996it [00:00, 43653.23it/s]\n",
            "12628it [00:00, 49681.66it/s]\n"
          ],
          "name": "stderr"
        },
        {
          "output_type": "stream",
          "text": [
            "Time usage: 0:00:01\n",
            "<bound method Module.parameters of Model(\n",
            "  (embedding): Embedding(352159, 300)\n",
            "  (convs): ModuleList(\n",
            "    (0): Conv2d(1, 256, kernel_size=(2, 300), stride=(1, 1))\n",
            "    (1): Conv2d(1, 256, kernel_size=(3, 300), stride=(1, 1))\n",
            "    (2): Conv2d(1, 256, kernel_size=(4, 300), stride=(1, 1))\n",
            "  )\n",
            "  (dropout): Dropout(p=0.5, inplace=False)\n",
            "  (fc): Linear(in_features=768, out_features=3, bias=True)\n",
            ")>\n",
            "Epoch [1/15]\n",
            "Iter:      0,  Train Loss:   1.1,  Train Acc: 30.47%,  Val Loss:   1.0,  Val Acc: 49.80%,  Time: 0:00:02 *\n",
            "Epoch [2/15]\n",
            "Iter:     40,  Train Loss:  0.86,  Train Acc: 61.72%,  Val Loss:  0.87,  Val Acc: 57.23%,  Time: 0:00:04 *\n",
            "Epoch [3/15]\n",
            "Iter:     80,  Train Loss:  0.76,  Train Acc: 61.72%,  Val Loss:  0.82,  Val Acc: 59.44%,  Time: 0:00:10 *\n",
            "Epoch [4/15]\n",
            "Iter:    120,  Train Loss:  0.61,  Train Acc: 78.12%,  Val Loss:  0.77,  Val Acc: 66.87%,  Time: 0:00:12 *\n",
            "Epoch [5/15]\n",
            "Epoch [6/15]\n",
            "Iter:    160,  Train Loss:  0.63,  Train Acc: 73.44%,  Val Loss:  0.78,  Val Acc: 62.35%,  Time: 0:00:12 \n",
            "Epoch [7/15]\n",
            "Iter:    200,  Train Loss:  0.51,  Train Acc: 84.38%,  Val Loss:  0.78,  Val Acc: 64.56%,  Time: 0:00:13 \n",
            "Epoch [8/15]\n",
            "Iter:    240,  Train Loss:  0.48,  Train Acc: 80.47%,  Val Loss:  0.77,  Val Acc: 63.86%,  Time: 0:00:13 \n",
            "Epoch [9/15]\n",
            "Iter:    280,  Train Loss:  0.38,  Train Acc: 90.62%,  Val Loss:  0.76,  Val Acc: 65.46%,  Time: 0:00:18 *\n",
            "Epoch [10/15]\n",
            "Epoch [11/15]\n",
            "Iter:    320,  Train Loss:   0.4,  Train Acc: 88.28%,  Val Loss:  0.78,  Val Acc: 64.16%,  Time: 0:00:19 \n",
            "Epoch [12/15]\n",
            "Iter:    360,  Train Loss:  0.32,  Train Acc: 92.19%,  Val Loss:  0.79,  Val Acc: 65.06%,  Time: 0:00:19 \n",
            "Epoch [13/15]\n",
            "Iter:    400,  Train Loss:  0.28,  Train Acc: 96.09%,  Val Loss:  0.78,  Val Acc: 64.76%,  Time: 0:00:19 \n",
            "Epoch [14/15]\n",
            "Iter:    440,  Train Loss:  0.24,  Train Acc: 93.75%,  Val Loss:  0.76,  Val Acc: 66.37%,  Time: 0:00:20 \n",
            "Epoch [15/15]\n",
            "Test Loss:  0.85,  Test Acc: 61.05%\n",
            "Precision, Recall and F1-Score...\n",
            "              precision    recall  f1-score   support\n",
            "\n",
            "    negative     0.7234    0.6095    0.6616      3913\n",
            "     neutral     0.4339    0.7088    0.5383      3424\n",
            "    positive     0.7753    0.5477    0.6419      5291\n",
            "\n",
            "    accuracy                         0.6105     12628\n",
            "   macro avg     0.6442    0.6220    0.6139     12628\n",
            "weighted avg     0.6666    0.6105    0.6199     12628\n",
            "\n",
            "Confusion Matrix...\n",
            "[[2385 1211  317]\n",
            " [ 474 2427  523]\n",
            " [ 438 1955 2898]]\n",
            "Time usage: 0:00:00\n"
          ],
          "name": "stdout"
        }
      ]
    },
    {
      "cell_type": "code",
      "metadata": {
        "id": "KKSVlylHNNBp",
        "colab": {
          "base_uri": "https://localhost:8080/"
        },
        "outputId": "17992cad-04c2-4c44-c381-bf29b550aca5"
      },
      "source": [
        "%run '/content/drive/My Drive/textcnn3/run8.py' --model TextCNN --word True\n",
        "predict_all[predict_all==0] = -1\n",
        "predict_all[predict_all==1] = 0\n",
        "predict_all[predict_all==2] = 1\n",
        "predict_all\n",
        "np.savetxt('/content/drive/MyDrive/textcnn3/output/wk8.txt', predict_all, delimiter=\",\", fmt=\"%d\")"
      ],
      "execution_count": null,
      "outputs": [
        {
          "output_type": "stream",
          "text": [
            "\r0it [00:00, ?it/s]"
          ],
          "name": "stderr"
        },
        {
          "output_type": "stream",
          "text": [
            "Loading data...\n",
            "Vocab size: 352159\n"
          ],
          "name": "stdout"
        },
        {
          "output_type": "stream",
          "text": [
            "3988it [00:00, 48041.19it/s]\n",
            "996it [00:00, 49681.01it/s]\n",
            "12628it [00:00, 48451.85it/s]\n"
          ],
          "name": "stderr"
        },
        {
          "output_type": "stream",
          "text": [
            "Time usage: 0:00:01\n",
            "<bound method Module.parameters of Model(\n",
            "  (embedding): Embedding(352159, 300)\n",
            "  (convs): ModuleList(\n",
            "    (0): Conv2d(1, 256, kernel_size=(2, 300), stride=(1, 1))\n",
            "    (1): Conv2d(1, 256, kernel_size=(3, 300), stride=(1, 1))\n",
            "    (2): Conv2d(1, 256, kernel_size=(4, 300), stride=(1, 1))\n",
            "  )\n",
            "  (dropout): Dropout(p=0.5, inplace=False)\n",
            "  (fc): Linear(in_features=768, out_features=3, bias=True)\n",
            ")>\n",
            "Epoch [1/15]\n",
            "Iter:      0,  Train Loss:   1.1,  Train Acc: 32.03%,  Val Loss:   1.0,  Val Acc: 48.69%,  Time: 0:00:02 *\n",
            "Epoch [2/15]\n",
            "Iter:     40,  Train Loss:  0.86,  Train Acc: 58.59%,  Val Loss:  0.87,  Val Acc: 57.53%,  Time: 0:00:05 *\n",
            "Epoch [3/15]\n",
            "Iter:     80,  Train Loss:  0.77,  Train Acc: 60.94%,  Val Loss:  0.82,  Val Acc: 59.14%,  Time: 0:00:09 *\n",
            "Epoch [4/15]\n",
            "Iter:    120,  Train Loss:  0.61,  Train Acc: 78.12%,  Val Loss:  0.77,  Val Acc: 66.37%,  Time: 0:00:14 *\n",
            "Epoch [5/15]\n",
            "Epoch [6/15]\n",
            "Iter:    160,  Train Loss:  0.61,  Train Acc: 74.22%,  Val Loss:  0.78,  Val Acc: 62.75%,  Time: 0:00:14 \n",
            "Epoch [7/15]\n",
            "Iter:    200,  Train Loss:  0.51,  Train Acc: 78.91%,  Val Loss:  0.78,  Val Acc: 64.96%,  Time: 0:00:15 \n",
            "Epoch [8/15]\n",
            "Iter:    240,  Train Loss:   0.5,  Train Acc: 76.56%,  Val Loss:  0.76,  Val Acc: 64.86%,  Time: 0:00:21 *\n",
            "Epoch [9/15]\n",
            "Iter:    280,  Train Loss:  0.38,  Train Acc: 90.62%,  Val Loss:  0.74,  Val Acc: 66.67%,  Time: 0:00:23 *\n",
            "Epoch [10/15]\n",
            "Epoch [11/15]\n",
            "Iter:    320,  Train Loss:  0.36,  Train Acc: 89.84%,  Val Loss:  0.77,  Val Acc: 64.96%,  Time: 0:00:24 \n",
            "Epoch [12/15]\n",
            "Iter:    360,  Train Loss:  0.33,  Train Acc: 92.97%,  Val Loss:  0.79,  Val Acc: 64.96%,  Time: 0:00:24 \n",
            "Epoch [13/15]\n",
            "Iter:    400,  Train Loss:  0.31,  Train Acc: 92.19%,  Val Loss:  0.78,  Val Acc: 65.16%,  Time: 0:00:24 \n",
            "Epoch [14/15]\n",
            "Iter:    440,  Train Loss:  0.22,  Train Acc: 96.09%,  Val Loss:  0.77,  Val Acc: 66.47%,  Time: 0:00:25 \n",
            "Epoch [15/15]\n",
            "Test Loss:  0.87,  Test Acc: 60.15%\n",
            "Precision, Recall and F1-Score...\n",
            "              precision    recall  f1-score   support\n",
            "\n",
            "    negative     0.7272    0.5939    0.6538      3913\n",
            "     neutral     0.4236    0.7354    0.5376      3424\n",
            "    positive     0.7896    0.5205    0.6274      5291\n",
            "\n",
            "    accuracy                         0.6015     12628\n",
            "   macro avg     0.6468    0.6166    0.6063     12628\n",
            "weighted avg     0.6710    0.6015    0.6112     12628\n",
            "\n",
            "Confusion Matrix...\n",
            "[[2324 1312  277]\n",
            " [ 449 2518  457]\n",
            " [ 423 2114 2754]]\n",
            "Time usage: 0:00:00\n"
          ],
          "name": "stdout"
        }
      ]
    },
    {
      "cell_type": "code",
      "metadata": {
        "id": "-HsN7TGdNNH9",
        "colab": {
          "base_uri": "https://localhost:8080/"
        },
        "outputId": "d72bb15b-b26b-435d-ca86-7f2baacd9eb1"
      },
      "source": [
        "%run '/content/drive/My Drive/textcnn3/run9.py' --model TextCNN --word True\n",
        "predict_all[predict_all==0] = -1\n",
        "predict_all[predict_all==1] = 0\n",
        "predict_all[predict_all==2] = 1\n",
        "predict_all\n",
        "np.savetxt('/content/drive/MyDrive/textcnn3/output/wk9.txt', predict_all, delimiter=\",\", fmt=\"%d\")"
      ],
      "execution_count": null,
      "outputs": [
        {
          "output_type": "stream",
          "text": [
            "\r0it [00:00, ?it/s]"
          ],
          "name": "stderr"
        },
        {
          "output_type": "stream",
          "text": [
            "Loading data...\n",
            "Vocab size: 352159\n"
          ],
          "name": "stdout"
        },
        {
          "output_type": "stream",
          "text": [
            "3988it [00:00, 45467.70it/s]\n",
            "996it [00:00, 44612.63it/s]\n",
            "12628it [00:00, 45924.01it/s]\n"
          ],
          "name": "stderr"
        },
        {
          "output_type": "stream",
          "text": [
            "Time usage: 0:00:01\n",
            "<bound method Module.parameters of Model(\n",
            "  (embedding): Embedding(352159, 300)\n",
            "  (convs): ModuleList(\n",
            "    (0): Conv2d(1, 256, kernel_size=(2, 300), stride=(1, 1))\n",
            "    (1): Conv2d(1, 256, kernel_size=(3, 300), stride=(1, 1))\n",
            "    (2): Conv2d(1, 256, kernel_size=(4, 300), stride=(1, 1))\n",
            "  )\n",
            "  (dropout): Dropout(p=0.5, inplace=False)\n",
            "  (fc): Linear(in_features=768, out_features=3, bias=True)\n",
            ")>\n",
            "Epoch [1/15]\n",
            "Iter:      0,  Train Loss:   1.1,  Train Acc: 29.69%,  Val Loss:   1.0,  Val Acc: 48.29%,  Time: 0:00:02 *\n",
            "Epoch [2/15]\n",
            "Iter:     40,  Train Loss:  0.88,  Train Acc: 59.38%,  Val Loss:  0.87,  Val Acc: 57.13%,  Time: 0:00:06 *\n",
            "Epoch [3/15]\n",
            "Iter:     80,  Train Loss:  0.77,  Train Acc: 61.72%,  Val Loss:  0.82,  Val Acc: 59.04%,  Time: 0:00:11 *\n",
            "Epoch [4/15]\n",
            "Iter:    120,  Train Loss:  0.61,  Train Acc: 82.81%,  Val Loss:  0.77,  Val Acc: 66.06%,  Time: 0:00:14 *\n",
            "Epoch [5/15]\n",
            "Epoch [6/15]\n",
            "Iter:    160,  Train Loss:  0.62,  Train Acc: 71.88%,  Val Loss:  0.77,  Val Acc: 62.95%,  Time: 0:00:14 \n",
            "Epoch [7/15]\n",
            "Iter:    200,  Train Loss:  0.54,  Train Acc: 82.03%,  Val Loss:  0.77,  Val Acc: 64.06%,  Time: 0:00:20 *\n",
            "Epoch [8/15]\n",
            "Iter:    240,  Train Loss:  0.51,  Train Acc: 75.00%,  Val Loss:  0.76,  Val Acc: 64.46%,  Time: 0:00:26 *\n",
            "Epoch [9/15]\n",
            "Iter:    280,  Train Loss:  0.39,  Train Acc: 89.84%,  Val Loss:  0.74,  Val Acc: 66.27%,  Time: 0:00:32 *\n",
            "Epoch [10/15]\n",
            "Epoch [11/15]\n",
            "Iter:    320,  Train Loss:  0.38,  Train Acc: 86.72%,  Val Loss:  0.76,  Val Acc: 65.66%,  Time: 0:00:32 \n",
            "Epoch [12/15]\n",
            "Iter:    360,  Train Loss:  0.33,  Train Acc: 91.41%,  Val Loss:  0.78,  Val Acc: 64.66%,  Time: 0:00:32 \n",
            "Epoch [13/15]\n",
            "Iter:    400,  Train Loss:  0.29,  Train Acc: 93.75%,  Val Loss:  0.78,  Val Acc: 65.16%,  Time: 0:00:33 \n",
            "Epoch [14/15]\n",
            "Iter:    440,  Train Loss:  0.23,  Train Acc: 96.09%,  Val Loss:  0.75,  Val Acc: 67.07%,  Time: 0:00:33 \n",
            "Epoch [15/15]\n",
            "Test Loss:  0.87,  Test Acc: 60.22%\n",
            "Precision, Recall and F1-Score...\n",
            "              precision    recall  f1-score   support\n",
            "\n",
            "    negative     0.7295    0.6011    0.6591      3913\n",
            "     neutral     0.4240    0.7404    0.5392      3424\n",
            "    positive     0.7933    0.5135    0.6235      5291\n",
            "\n",
            "    accuracy                         0.6022     12628\n",
            "   macro avg     0.6489    0.6183    0.6072     12628\n",
            "weighted avg     0.6734    0.6022    0.6117     12628\n",
            "\n",
            "Confusion Matrix...\n",
            "[[2352 1300  261]\n",
            " [ 442 2535  447]\n",
            " [ 430 2144 2717]]\n",
            "Time usage: 0:00:00\n"
          ],
          "name": "stdout"
        }
      ]
    },
    {
      "cell_type": "code",
      "metadata": {
        "id": "peFVG2BMNNNF",
        "colab": {
          "base_uri": "https://localhost:8080/"
        },
        "outputId": "8bda3741-ebef-47c9-a7a4-a49553d720f5"
      },
      "source": [
        "%run '/content/drive/My Drive/textcnn3/run10.py' --model TextCNN --word True\n",
        "predict_all[predict_all==0] = -1\n",
        "predict_all[predict_all==1] = 0\n",
        "predict_all[predict_all==2] = 1\n",
        "predict_all\n",
        "np.savetxt('/content/drive/MyDrive/textcnn3/output/wk10.txt', predict_all, delimiter=\",\", fmt=\"%d\")"
      ],
      "execution_count": null,
      "outputs": [
        {
          "output_type": "stream",
          "text": [
            "\r0it [00:00, ?it/s]"
          ],
          "name": "stderr"
        },
        {
          "output_type": "stream",
          "text": [
            "Loading data...\n",
            "Vocab size: 352159\n"
          ],
          "name": "stdout"
        },
        {
          "output_type": "stream",
          "text": [
            "3988it [00:00, 14973.69it/s]\n",
            "996it [00:00, 47955.81it/s]\n",
            "12628it [00:00, 50069.36it/s]\n"
          ],
          "name": "stderr"
        },
        {
          "output_type": "stream",
          "text": [
            "Time usage: 0:00:01\n",
            "<bound method Module.parameters of Model(\n",
            "  (embedding): Embedding(352159, 300)\n",
            "  (convs): ModuleList(\n",
            "    (0): Conv2d(1, 256, kernel_size=(2, 300), stride=(1, 1))\n",
            "    (1): Conv2d(1, 256, kernel_size=(3, 300), stride=(1, 1))\n",
            "    (2): Conv2d(1, 256, kernel_size=(4, 300), stride=(1, 1))\n",
            "  )\n",
            "  (dropout): Dropout(p=0.5, inplace=False)\n",
            "  (fc): Linear(in_features=768, out_features=3, bias=True)\n",
            ")>\n",
            "Epoch [1/15]\n",
            "Iter:      0,  Train Loss:   1.1,  Train Acc: 21.88%,  Val Loss:   1.0,  Val Acc: 53.51%,  Time: 0:00:02 *\n",
            "Epoch [2/15]\n",
            "Iter:     40,  Train Loss:  0.89,  Train Acc: 54.69%,  Val Loss:  0.87,  Val Acc: 56.93%,  Time: 0:00:05 *\n",
            "Epoch [3/15]\n",
            "Iter:     80,  Train Loss:  0.74,  Train Acc: 64.84%,  Val Loss:  0.82,  Val Acc: 59.34%,  Time: 0:00:08 *\n",
            "Epoch [4/15]\n",
            "Iter:    120,  Train Loss:  0.61,  Train Acc: 78.12%,  Val Loss:  0.77,  Val Acc: 66.27%,  Time: 0:00:15 *\n",
            "Epoch [5/15]\n",
            "Epoch [6/15]\n",
            "Iter:    160,  Train Loss:  0.61,  Train Acc: 72.66%,  Val Loss:  0.77,  Val Acc: 63.15%,  Time: 0:00:16 \n",
            "Epoch [7/15]\n",
            "Iter:    200,  Train Loss:  0.53,  Train Acc: 80.47%,  Val Loss:  0.77,  Val Acc: 64.26%,  Time: 0:00:18 *\n",
            "Epoch [8/15]\n",
            "Iter:    240,  Train Loss:  0.49,  Train Acc: 80.47%,  Val Loss:  0.77,  Val Acc: 63.25%,  Time: 0:00:18 \n",
            "Epoch [9/15]\n",
            "Iter:    280,  Train Loss:  0.39,  Train Acc: 89.84%,  Val Loss:  0.75,  Val Acc: 66.27%,  Time: 0:00:23 *\n",
            "Epoch [10/15]\n",
            "Epoch [11/15]\n",
            "Iter:    320,  Train Loss:  0.42,  Train Acc: 85.94%,  Val Loss:  0.78,  Val Acc: 64.16%,  Time: 0:00:24 \n",
            "Epoch [12/15]\n",
            "Iter:    360,  Train Loss:  0.31,  Train Acc: 93.75%,  Val Loss:  0.79,  Val Acc: 64.16%,  Time: 0:00:24 \n",
            "Epoch [13/15]\n",
            "Iter:    400,  Train Loss:  0.29,  Train Acc: 92.97%,  Val Loss:  0.79,  Val Acc: 64.66%,  Time: 0:00:24 \n",
            "Epoch [14/15]\n",
            "Iter:    440,  Train Loss:  0.24,  Train Acc: 97.66%,  Val Loss:  0.76,  Val Acc: 67.27%,  Time: 0:00:25 \n",
            "Epoch [15/15]\n",
            "Test Loss:  0.86,  Test Acc: 60.54%\n",
            "Precision, Recall and F1-Score...\n",
            "              precision    recall  f1-score   support\n",
            "\n",
            "    negative     0.7262    0.6013    0.6579      3913\n",
            "     neutral     0.4295    0.7316    0.5412      3424\n",
            "    positive     0.7840    0.5267    0.6301      5291\n",
            "\n",
            "    accuracy                         0.6054     12628\n",
            "   macro avg     0.6466    0.6199    0.6097     12628\n",
            "weighted avg     0.6700    0.6054    0.6146     12628\n",
            "\n",
            "Confusion Matrix...\n",
            "[[2353 1259  301]\n",
            " [ 452 2505  467]\n",
            " [ 435 2069 2787]]\n",
            "Time usage: 0:00:00\n"
          ],
          "name": "stdout"
        }
      ]
    },
    {
      "cell_type": "code",
      "metadata": {
        "id": "3FWOUoAcMb_B",
        "colab": {
          "base_uri": "https://localhost:8080/"
        },
        "outputId": "31b5b76b-1012-46d6-eb07-8af0c8fafba7"
      },
      "source": [
        "%run '/content/drive/My Drive/textcnn3/runbd1.py' --model TextCNNBD --word True\n",
        "predict_all[predict_all==0] = -1\n",
        "predict_all[predict_all==1] = 0\n",
        "predict_all[predict_all==2] = 1\n",
        "predict_all\n",
        "np.savetxt('/content/drive/MyDrive/textcnn3/output/bd1.txt', predict_all, delimiter=\",\", fmt=\"%d\")"
      ],
      "execution_count": null,
      "outputs": [
        {
          "output_type": "stream",
          "text": [
            "Loading data...\n"
          ],
          "name": "stdout"
        },
        {
          "output_type": "stream",
          "text": [
            "3988it [00:00, 45603.68it/s]\n",
            "996it [00:00, 45741.51it/s]\n",
            "0it [00:00, ?it/s]"
          ],
          "name": "stderr"
        },
        {
          "output_type": "stream",
          "text": [
            "Vocab size: 635918\n"
          ],
          "name": "stdout"
        },
        {
          "output_type": "stream",
          "text": [
            "12628it [00:00, 38013.24it/s]\n"
          ],
          "name": "stderr"
        },
        {
          "output_type": "stream",
          "text": [
            "Time usage: 0:00:03\n",
            "<bound method Module.parameters of Model(\n",
            "  (embedding): Embedding(635918, 300)\n",
            "  (convs): ModuleList(\n",
            "    (0): Conv2d(1, 256, kernel_size=(2, 300), stride=(1, 1))\n",
            "    (1): Conv2d(1, 256, kernel_size=(3, 300), stride=(1, 1))\n",
            "    (2): Conv2d(1, 256, kernel_size=(4, 300), stride=(1, 1))\n",
            "  )\n",
            "  (dropout): Dropout(p=0.5, inplace=False)\n",
            "  (fc): Linear(in_features=768, out_features=3, bias=True)\n",
            ")>\n",
            "Epoch [1/15]\n",
            "Iter:      0,  Train Loss:   1.1,  Train Acc: 34.38%,  Val Loss:   1.0,  Val Acc: 54.42%,  Time: 0:00:04 *\n",
            "Epoch [2/15]\n",
            "Iter:     40,  Train Loss:  0.85,  Train Acc: 60.94%,  Val Loss:  0.85,  Val Acc: 58.13%,  Time: 0:00:08 *\n",
            "Epoch [3/15]\n",
            "Iter:     80,  Train Loss:  0.73,  Train Acc: 66.41%,  Val Loss:  0.79,  Val Acc: 61.04%,  Time: 0:00:12 *\n",
            "Epoch [4/15]\n",
            "Iter:    120,  Train Loss:  0.57,  Train Acc: 82.81%,  Val Loss:  0.74,  Val Acc: 66.06%,  Time: 0:00:22 *\n",
            "Epoch [5/15]\n",
            "Epoch [6/15]\n",
            "Iter:    160,  Train Loss:  0.57,  Train Acc: 78.12%,  Val Loss:  0.75,  Val Acc: 64.96%,  Time: 0:00:23 \n",
            "Epoch [7/15]\n",
            "Iter:    200,  Train Loss:  0.48,  Train Acc: 82.81%,  Val Loss:  0.75,  Val Acc: 65.66%,  Time: 0:00:23 \n",
            "Epoch [8/15]\n",
            "Iter:    240,  Train Loss:  0.46,  Train Acc: 79.69%,  Val Loss:  0.74,  Val Acc: 65.56%,  Time: 0:00:23 \n",
            "Epoch [9/15]\n",
            "Iter:    280,  Train Loss:  0.37,  Train Acc: 91.41%,  Val Loss:  0.72,  Val Acc: 67.37%,  Time: 0:00:31 *\n",
            "Epoch [10/15]\n",
            "Epoch [11/15]\n",
            "Iter:    320,  Train Loss:  0.37,  Train Acc: 86.72%,  Val Loss:  0.75,  Val Acc: 66.16%,  Time: 0:00:32 \n",
            "Epoch [12/15]\n",
            "Iter:    360,  Train Loss:   0.3,  Train Acc: 94.53%,  Val Loss:  0.75,  Val Acc: 66.37%,  Time: 0:00:32 \n",
            "Epoch [13/15]\n",
            "Iter:    400,  Train Loss:  0.28,  Train Acc: 92.19%,  Val Loss:  0.75,  Val Acc: 66.37%,  Time: 0:00:32 \n",
            "Epoch [14/15]\n",
            "Iter:    440,  Train Loss:  0.22,  Train Acc: 96.88%,  Val Loss:  0.72,  Val Acc: 67.87%,  Time: 0:00:33 \n",
            "Epoch [15/15]\n",
            "Test Loss:  0.85,  Test Acc: 61.84%\n",
            "Precision, Recall and F1-Score...\n",
            "              precision    recall  f1-score   support\n",
            "\n",
            "    negative     0.7548    0.5939    0.6648      3913\n",
            "     neutral     0.4363    0.7345    0.5475      3424\n",
            "    positive     0.7847    0.5613    0.6545      5291\n",
            "\n",
            "    accuracy                         0.6184     12628\n",
            "   macro avg     0.6586    0.6299    0.6222     12628\n",
            "weighted avg     0.6810    0.6184    0.6286     12628\n",
            "\n",
            "Confusion Matrix...\n",
            "[[2324 1320  269]\n",
            " [ 363 2515  546]\n",
            " [ 392 1929 2970]]\n",
            "Time usage: 0:00:00\n"
          ],
          "name": "stdout"
        }
      ]
    },
    {
      "cell_type": "code",
      "metadata": {
        "id": "FONSKoKRMcB9",
        "colab": {
          "base_uri": "https://localhost:8080/"
        },
        "outputId": "da7c5c9c-b931-4d00-9ccd-fb665d5a7701"
      },
      "source": [
        "%run '/content/drive/My Drive/textcnn3/runbd2.py' --model TextCNNBD --word True\n",
        "predict_all[predict_all==0] = -1\n",
        "predict_all[predict_all==1] = 0\n",
        "predict_all[predict_all==2] = 1\n",
        "predict_all\n",
        "np.savetxt('/content/drive/MyDrive/textcnn3/output/bd2.txt', predict_all, delimiter=\",\", fmt=\"%d\")"
      ],
      "execution_count": null,
      "outputs": [
        {
          "output_type": "stream",
          "text": [
            "Loading data...\n"
          ],
          "name": "stdout"
        },
        {
          "output_type": "stream",
          "text": [
            "3988it [00:00, 46077.54it/s]\n",
            "996it [00:00, 33735.71it/s]\n",
            "0it [00:00, ?it/s]"
          ],
          "name": "stderr"
        },
        {
          "output_type": "stream",
          "text": [
            "Vocab size: 635918\n"
          ],
          "name": "stdout"
        },
        {
          "output_type": "stream",
          "text": [
            "12628it [00:00, 45783.64it/s]\n"
          ],
          "name": "stderr"
        },
        {
          "output_type": "stream",
          "text": [
            "Time usage: 0:00:01\n",
            "<bound method Module.parameters of Model(\n",
            "  (embedding): Embedding(635918, 300)\n",
            "  (convs): ModuleList(\n",
            "    (0): Conv2d(1, 256, kernel_size=(2, 300), stride=(1, 1))\n",
            "    (1): Conv2d(1, 256, kernel_size=(3, 300), stride=(1, 1))\n",
            "    (2): Conv2d(1, 256, kernel_size=(4, 300), stride=(1, 1))\n",
            "  )\n",
            "  (dropout): Dropout(p=0.5, inplace=False)\n",
            "  (fc): Linear(in_features=768, out_features=3, bias=True)\n",
            ")>\n",
            "Epoch [1/15]\n",
            "Iter:      0,  Train Loss:   1.1,  Train Acc: 32.81%,  Val Loss:   1.0,  Val Acc: 52.71%,  Time: 0:00:04 *\n",
            "Epoch [2/15]\n",
            "Iter:     40,  Train Loss:  0.83,  Train Acc: 60.94%,  Val Loss:  0.84,  Val Acc: 58.94%,  Time: 0:00:08 *\n",
            "Epoch [3/15]\n",
            "Iter:     80,  Train Loss:  0.72,  Train Acc: 66.41%,  Val Loss:  0.79,  Val Acc: 61.55%,  Time: 0:00:13 *\n",
            "Epoch [4/15]\n",
            "Iter:    120,  Train Loss:   0.6,  Train Acc: 77.34%,  Val Loss:  0.74,  Val Acc: 67.07%,  Time: 0:00:23 *\n",
            "Epoch [5/15]\n",
            "Epoch [6/15]\n",
            "Iter:    160,  Train Loss:  0.59,  Train Acc: 74.22%,  Val Loss:  0.75,  Val Acc: 64.06%,  Time: 0:00:24 \n",
            "Epoch [7/15]\n",
            "Iter:    200,  Train Loss:  0.46,  Train Acc: 84.38%,  Val Loss:  0.74,  Val Acc: 66.37%,  Time: 0:00:24 \n",
            "Epoch [8/15]\n",
            "Iter:    240,  Train Loss:  0.47,  Train Acc: 81.25%,  Val Loss:  0.75,  Val Acc: 65.76%,  Time: 0:00:24 \n",
            "Epoch [9/15]\n",
            "Iter:    280,  Train Loss:  0.37,  Train Acc: 90.62%,  Val Loss:  0.72,  Val Acc: 66.67%,  Time: 0:00:35 *\n",
            "Epoch [10/15]\n",
            "Epoch [11/15]\n",
            "Iter:    320,  Train Loss:  0.38,  Train Acc: 87.50%,  Val Loss:  0.77,  Val Acc: 65.36%,  Time: 0:00:35 \n",
            "Epoch [12/15]\n",
            "Iter:    360,  Train Loss:  0.29,  Train Acc: 93.75%,  Val Loss:  0.77,  Val Acc: 66.16%,  Time: 0:00:36 \n",
            "Epoch [13/15]\n",
            "Iter:    400,  Train Loss:  0.28,  Train Acc: 93.75%,  Val Loss:  0.76,  Val Acc: 65.96%,  Time: 0:00:36 \n",
            "Epoch [14/15]\n",
            "Iter:    440,  Train Loss:  0.23,  Train Acc: 94.53%,  Val Loss:  0.73,  Val Acc: 67.67%,  Time: 0:00:36 \n",
            "Epoch [15/15]\n",
            "Test Loss:  0.85,  Test Acc: 61.54%\n",
            "Precision, Recall and F1-Score...\n",
            "              precision    recall  f1-score   support\n",
            "\n",
            "    negative     0.7548    0.5768    0.6539      3913\n",
            "     neutral     0.4335    0.7363    0.5457      3424\n",
            "    positive     0.7829    0.5657    0.6568      5291\n",
            "\n",
            "    accuracy                         0.6154     12628\n",
            "   macro avg     0.6571    0.6262    0.6188     12628\n",
            "weighted avg     0.6795    0.6154    0.6258     12628\n",
            "\n",
            "Confusion Matrix...\n",
            "[[2257 1374  282]\n",
            " [ 355 2521  548]\n",
            " [ 378 1920 2993]]\n",
            "Time usage: 0:00:00\n"
          ],
          "name": "stdout"
        }
      ]
    },
    {
      "cell_type": "code",
      "metadata": {
        "id": "XKCNBHqxMcH_",
        "colab": {
          "base_uri": "https://localhost:8080/"
        },
        "outputId": "ab270507-4f4c-4b47-fc75-940eb1dba429"
      },
      "source": [
        "%run '/content/drive/My Drive/textcnn3/runbd3.py' --model TextCNNBD --word True\n",
        "predict_all[predict_all==0] = -1\n",
        "predict_all[predict_all==1] = 0\n",
        "predict_all[predict_all==2] = 1\n",
        "predict_all\n",
        "np.savetxt('/content/drive/MyDrive/textcnn3/output/bd3.txt', predict_all, delimiter=\",\", fmt=\"%d\")"
      ],
      "execution_count": null,
      "outputs": [
        {
          "output_type": "stream",
          "text": [
            "Loading data...\n"
          ],
          "name": "stdout"
        },
        {
          "output_type": "stream",
          "text": [
            "3988it [00:00, 46061.93it/s]\n",
            "996it [00:00, 45271.10it/s]\n",
            "0it [00:00, ?it/s]"
          ],
          "name": "stderr"
        },
        {
          "output_type": "stream",
          "text": [
            "Vocab size: 635918\n"
          ],
          "name": "stdout"
        },
        {
          "output_type": "stream",
          "text": [
            "12628it [00:00, 42901.46it/s]\n"
          ],
          "name": "stderr"
        },
        {
          "output_type": "stream",
          "text": [
            "Time usage: 0:00:01\n",
            "<bound method Module.parameters of Model(\n",
            "  (embedding): Embedding(635918, 300)\n",
            "  (convs): ModuleList(\n",
            "    (0): Conv2d(1, 256, kernel_size=(2, 300), stride=(1, 1))\n",
            "    (1): Conv2d(1, 256, kernel_size=(3, 300), stride=(1, 1))\n",
            "    (2): Conv2d(1, 256, kernel_size=(4, 300), stride=(1, 1))\n",
            "  )\n",
            "  (dropout): Dropout(p=0.5, inplace=False)\n",
            "  (fc): Linear(in_features=768, out_features=3, bias=True)\n",
            ")>\n",
            "Epoch [1/15]\n",
            "Iter:      0,  Train Loss:   1.1,  Train Acc: 37.50%,  Val Loss:   1.0,  Val Acc: 54.12%,  Time: 0:00:04 *\n",
            "Epoch [2/15]\n",
            "Iter:     40,  Train Loss:  0.84,  Train Acc: 64.84%,  Val Loss:  0.84,  Val Acc: 59.04%,  Time: 0:00:08 *\n",
            "Epoch [3/15]\n",
            "Iter:     80,  Train Loss:  0.73,  Train Acc: 64.84%,  Val Loss:  0.79,  Val Acc: 61.75%,  Time: 0:00:16 *\n",
            "Epoch [4/15]\n",
            "Iter:    120,  Train Loss:  0.58,  Train Acc: 78.12%,  Val Loss:  0.74,  Val Acc: 66.57%,  Time: 0:00:26 *\n",
            "Epoch [5/15]\n",
            "Epoch [6/15]\n",
            "Iter:    160,  Train Loss:  0.59,  Train Acc: 76.56%,  Val Loss:  0.76,  Val Acc: 63.96%,  Time: 0:00:26 \n",
            "Epoch [7/15]\n",
            "Iter:    200,  Train Loss:  0.47,  Train Acc: 86.72%,  Val Loss:  0.74,  Val Acc: 66.16%,  Time: 0:00:27 \n",
            "Epoch [8/15]\n",
            "Iter:    240,  Train Loss:   0.5,  Train Acc: 78.91%,  Val Loss:  0.75,  Val Acc: 64.96%,  Time: 0:00:27 \n",
            "Epoch [9/15]\n",
            "Iter:    280,  Train Loss:  0.39,  Train Acc: 89.84%,  Val Loss:  0.72,  Val Acc: 67.27%,  Time: 0:00:36 *\n",
            "Epoch [10/15]\n",
            "Epoch [11/15]\n",
            "Iter:    320,  Train Loss:  0.36,  Train Acc: 88.28%,  Val Loss:  0.75,  Val Acc: 65.96%,  Time: 0:00:36 \n",
            "Epoch [12/15]\n",
            "Iter:    360,  Train Loss:  0.29,  Train Acc: 94.53%,  Val Loss:  0.76,  Val Acc: 65.86%,  Time: 0:00:37 \n",
            "Epoch [13/15]\n",
            "Iter:    400,  Train Loss:   0.3,  Train Acc: 91.41%,  Val Loss:  0.76,  Val Acc: 66.47%,  Time: 0:00:37 \n",
            "Epoch [14/15]\n",
            "Iter:    440,  Train Loss:   0.2,  Train Acc: 95.31%,  Val Loss:  0.73,  Val Acc: 67.47%,  Time: 0:00:38 \n",
            "Epoch [15/15]\n",
            "Test Loss:  0.85,  Test Acc: 61.32%\n",
            "Precision, Recall and F1-Score...\n",
            "              precision    recall  f1-score   support\n",
            "\n",
            "    negative     0.7597    0.5727    0.6531      3913\n",
            "     neutral     0.4316    0.7374    0.5445      3424\n",
            "    positive     0.7780    0.5628    0.6531      5291\n",
            "\n",
            "    accuracy                         0.6132     12628\n",
            "   macro avg     0.6564    0.6243    0.6169     12628\n",
            "weighted avg     0.6784    0.6132    0.6237     12628\n",
            "\n",
            "Confusion Matrix...\n",
            "[[2241 1376  296]\n",
            " [ 345 2525  554]\n",
            " [ 364 1949 2978]]\n",
            "Time usage: 0:00:00\n"
          ],
          "name": "stdout"
        }
      ]
    },
    {
      "cell_type": "code",
      "metadata": {
        "id": "VAh-WSbqMcMW",
        "colab": {
          "base_uri": "https://localhost:8080/"
        },
        "outputId": "900d8069-71e8-4783-ed19-670bba552de4"
      },
      "source": [
        "%run '/content/drive/My Drive/textcnn3/runbd4.py' --model TextCNNBD --word True\n",
        "predict_all[predict_all==0] = -1\n",
        "predict_all[predict_all==1] = 0\n",
        "predict_all[predict_all==2] = 1\n",
        "predict_all\n",
        "np.savetxt('/content/drive/MyDrive/textcnn3/output/bd4.txt', predict_all, delimiter=\",\", fmt=\"%d\")"
      ],
      "execution_count": null,
      "outputs": [
        {
          "output_type": "stream",
          "text": [
            "Loading data...\n"
          ],
          "name": "stdout"
        },
        {
          "output_type": "stream",
          "text": [
            "3988it [00:00, 37791.39it/s]\n",
            "996it [00:00, 46227.94it/s]\n",
            "0it [00:00, ?it/s]"
          ],
          "name": "stderr"
        },
        {
          "output_type": "stream",
          "text": [
            "Vocab size: 635918\n"
          ],
          "name": "stdout"
        },
        {
          "output_type": "stream",
          "text": [
            "12628it [00:00, 31493.03it/s]\n"
          ],
          "name": "stderr"
        },
        {
          "output_type": "stream",
          "text": [
            "Time usage: 0:00:01\n",
            "<bound method Module.parameters of Model(\n",
            "  (embedding): Embedding(635918, 300)\n",
            "  (convs): ModuleList(\n",
            "    (0): Conv2d(1, 256, kernel_size=(2, 300), stride=(1, 1))\n",
            "    (1): Conv2d(1, 256, kernel_size=(3, 300), stride=(1, 1))\n",
            "    (2): Conv2d(1, 256, kernel_size=(4, 300), stride=(1, 1))\n",
            "  )\n",
            "  (dropout): Dropout(p=0.5, inplace=False)\n",
            "  (fc): Linear(in_features=768, out_features=3, bias=True)\n",
            ")>\n",
            "Epoch [1/15]\n",
            "Iter:      0,  Train Loss:   1.1,  Train Acc: 34.38%,  Val Loss:   1.0,  Val Acc: 48.09%,  Time: 0:00:04 *\n",
            "Epoch [2/15]\n",
            "Iter:     40,  Train Loss:  0.84,  Train Acc: 65.62%,  Val Loss:  0.84,  Val Acc: 60.24%,  Time: 0:00:09 *\n",
            "Epoch [3/15]\n",
            "Iter:     80,  Train Loss:  0.76,  Train Acc: 63.28%,  Val Loss:  0.79,  Val Acc: 61.85%,  Time: 0:00:19 *\n",
            "Epoch [4/15]\n",
            "Iter:    120,  Train Loss:  0.61,  Train Acc: 79.69%,  Val Loss:  0.75,  Val Acc: 67.37%,  Time: 0:00:32 *\n",
            "Epoch [5/15]\n",
            "Epoch [6/15]\n",
            "Iter:    160,  Train Loss:   0.6,  Train Acc: 74.22%,  Val Loss:  0.76,  Val Acc: 63.45%,  Time: 0:00:32 \n",
            "Epoch [7/15]\n",
            "Iter:    200,  Train Loss:  0.47,  Train Acc: 88.28%,  Val Loss:  0.76,  Val Acc: 64.46%,  Time: 0:00:33 \n",
            "Epoch [8/15]\n",
            "Iter:    240,  Train Loss:  0.47,  Train Acc: 78.91%,  Val Loss:  0.76,  Val Acc: 64.66%,  Time: 0:00:33 \n",
            "Epoch [9/15]\n",
            "Iter:    280,  Train Loss:  0.35,  Train Acc: 90.62%,  Val Loss:  0.72,  Val Acc: 67.37%,  Time: 0:00:38 *\n",
            "Epoch [10/15]\n",
            "Epoch [11/15]\n",
            "Iter:    320,  Train Loss:  0.34,  Train Acc: 88.28%,  Val Loss:  0.74,  Val Acc: 66.37%,  Time: 0:00:38 \n",
            "Epoch [12/15]\n",
            "Iter:    360,  Train Loss:  0.29,  Train Acc: 93.75%,  Val Loss:  0.74,  Val Acc: 66.47%,  Time: 0:00:38 \n",
            "Epoch [13/15]\n",
            "Iter:    400,  Train Loss:  0.29,  Train Acc: 92.97%,  Val Loss:  0.75,  Val Acc: 66.97%,  Time: 0:00:39 \n",
            "Epoch [14/15]\n",
            "Iter:    440,  Train Loss:  0.21,  Train Acc: 95.31%,  Val Loss:  0.72,  Val Acc: 67.77%,  Time: 0:00:52 *\n",
            "Epoch [15/15]\n",
            "Test Loss:  0.95,  Test Acc: 59.72%\n",
            "Precision, Recall and F1-Score...\n",
            "              precision    recall  f1-score   support\n",
            "\n",
            "    negative     0.7693    0.5489    0.6407      3913\n",
            "     neutral     0.4151    0.7900    0.5443      3424\n",
            "    positive     0.8099    0.5082    0.6245      5291\n",
            "\n",
            "    accuracy                         0.5972     12628\n",
            "   macro avg     0.6648    0.6157    0.6032     12628\n",
            "weighted avg     0.6903    0.5972    0.6078     12628\n",
            "\n",
            "Confusion Matrix...\n",
            "[[2148 1550  215]\n",
            " [ 303 2705  416]\n",
            " [ 341 2261 2689]]\n",
            "Time usage: 0:00:00\n"
          ],
          "name": "stdout"
        }
      ]
    },
    {
      "cell_type": "code",
      "metadata": {
        "id": "z1mG9IuiMcQQ",
        "colab": {
          "base_uri": "https://localhost:8080/"
        },
        "outputId": "494068b4-53ce-480b-a506-9df58105fba8"
      },
      "source": [
        "%run '/content/drive/My Drive/textcnn3/runbd5.py' --model TextCNNBD --word True\n",
        "predict_all[predict_all==0] = -1\n",
        "predict_all[predict_all==1] = 0\n",
        "predict_all[predict_all==2] = 1\n",
        "predict_all\n",
        "np.savetxt('/content/drive/MyDrive/textcnn3/output/bd5.txt', predict_all, delimiter=\",\", fmt=\"%d\")"
      ],
      "execution_count": null,
      "outputs": [
        {
          "output_type": "stream",
          "text": [
            "Loading data...\n"
          ],
          "name": "stdout"
        },
        {
          "output_type": "stream",
          "text": [
            "3988it [00:00, 46093.92it/s]\n",
            "996it [00:00, 46922.16it/s]\n",
            "0it [00:00, ?it/s]"
          ],
          "name": "stderr"
        },
        {
          "output_type": "stream",
          "text": [
            "Vocab size: 635918\n"
          ],
          "name": "stdout"
        },
        {
          "output_type": "stream",
          "text": [
            "12628it [00:00, 45779.52it/s]\n"
          ],
          "name": "stderr"
        },
        {
          "output_type": "stream",
          "text": [
            "Time usage: 0:00:01\n",
            "<bound method Module.parameters of Model(\n",
            "  (embedding): Embedding(635918, 300)\n",
            "  (convs): ModuleList(\n",
            "    (0): Conv2d(1, 256, kernel_size=(2, 300), stride=(1, 1))\n",
            "    (1): Conv2d(1, 256, kernel_size=(3, 300), stride=(1, 1))\n",
            "    (2): Conv2d(1, 256, kernel_size=(4, 300), stride=(1, 1))\n",
            "  )\n",
            "  (dropout): Dropout(p=0.5, inplace=False)\n",
            "  (fc): Linear(in_features=768, out_features=3, bias=True)\n",
            ")>\n",
            "Epoch [1/15]\n",
            "Iter:      0,  Train Loss:   1.1,  Train Acc: 36.72%,  Val Loss:   1.0,  Val Acc: 48.49%,  Time: 0:00:03 *\n",
            "Epoch [2/15]\n",
            "Iter:     40,  Train Loss:  0.86,  Train Acc: 55.47%,  Val Loss:  0.85,  Val Acc: 59.44%,  Time: 0:00:11 *\n",
            "Epoch [3/15]\n",
            "Iter:     80,  Train Loss:  0.75,  Train Acc: 64.84%,  Val Loss:  0.79,  Val Acc: 61.14%,  Time: 0:00:15 *\n",
            "Epoch [4/15]\n",
            "Iter:    120,  Train Loss:  0.59,  Train Acc: 82.81%,  Val Loss:  0.74,  Val Acc: 66.97%,  Time: 0:00:26 *\n",
            "Epoch [5/15]\n",
            "Epoch [6/15]\n",
            "Iter:    160,  Train Loss:  0.59,  Train Acc: 78.12%,  Val Loss:  0.75,  Val Acc: 63.76%,  Time: 0:00:26 \n",
            "Epoch [7/15]\n",
            "Iter:    200,  Train Loss:  0.49,  Train Acc: 80.47%,  Val Loss:  0.74,  Val Acc: 66.06%,  Time: 0:00:26 \n",
            "Epoch [8/15]\n",
            "Iter:    240,  Train Loss:  0.51,  Train Acc: 81.25%,  Val Loss:  0.75,  Val Acc: 65.46%,  Time: 0:00:27 \n",
            "Epoch [9/15]\n",
            "Iter:    280,  Train Loss:  0.37,  Train Acc: 92.97%,  Val Loss:  0.72,  Val Acc: 66.77%,  Time: 0:00:34 *\n",
            "Epoch [10/15]\n",
            "Epoch [11/15]\n",
            "Iter:    320,  Train Loss:  0.39,  Train Acc: 85.94%,  Val Loss:  0.75,  Val Acc: 66.27%,  Time: 0:00:35 \n",
            "Epoch [12/15]\n",
            "Iter:    360,  Train Loss:  0.28,  Train Acc: 95.31%,  Val Loss:  0.75,  Val Acc: 66.06%,  Time: 0:00:35 \n",
            "Epoch [13/15]\n",
            "Iter:    400,  Train Loss:  0.28,  Train Acc: 95.31%,  Val Loss:  0.75,  Val Acc: 66.57%,  Time: 0:00:35 \n",
            "Epoch [14/15]\n",
            "Iter:    440,  Train Loss:  0.23,  Train Acc: 94.53%,  Val Loss:  0.73,  Val Acc: 67.27%,  Time: 0:00:36 \n",
            "Epoch [15/15]\n",
            "Test Loss:  0.83,  Test Acc: 62.34%\n",
            "Precision, Recall and F1-Score...\n",
            "              precision    recall  f1-score   support\n",
            "\n",
            "    negative     0.7503    0.5921    0.6619      3913\n",
            "     neutral     0.4443    0.7182    0.5489      3424\n",
            "    positive     0.7730    0.5851    0.6661      5291\n",
            "\n",
            "    accuracy                         0.6234     12628\n",
            "   macro avg     0.6559    0.6318    0.6256     12628\n",
            "weighted avg     0.6769    0.6234    0.6330     12628\n",
            "\n",
            "Confusion Matrix...\n",
            "[[2317 1278  318]\n",
            " [ 374 2459  591]\n",
            " [ 397 1798 3096]]\n",
            "Time usage: 0:00:00\n"
          ],
          "name": "stdout"
        }
      ]
    },
    {
      "cell_type": "code",
      "metadata": {
        "id": "XkiINwnpMcVI",
        "colab": {
          "base_uri": "https://localhost:8080/"
        },
        "outputId": "f0842ae4-5968-4ce8-a9d9-faeb7c10ef68"
      },
      "source": [
        "%run '/content/drive/My Drive/textcnn3/runbd6.py' --model TextCNNBD --word True\n",
        "predict_all[predict_all==0] = -1\n",
        "predict_all[predict_all==1] = 0\n",
        "predict_all[predict_all==2] = 1\n",
        "predict_all\n",
        "np.savetxt('/content/drive/MyDrive/textcnn3/output/bd6.txt', predict_all, delimiter=\",\", fmt=\"%d\")"
      ],
      "execution_count": null,
      "outputs": [
        {
          "output_type": "stream",
          "text": [
            "Loading data...\n"
          ],
          "name": "stdout"
        },
        {
          "output_type": "stream",
          "text": [
            "3988it [00:00, 40083.50it/s]\n",
            "996it [00:00, 39673.75it/s]\n",
            "0it [00:00, ?it/s]"
          ],
          "name": "stderr"
        },
        {
          "output_type": "stream",
          "text": [
            "Vocab size: 635918\n"
          ],
          "name": "stdout"
        },
        {
          "output_type": "stream",
          "text": [
            "12628it [00:00, 27008.45it/s]\n"
          ],
          "name": "stderr"
        },
        {
          "output_type": "stream",
          "text": [
            "Time usage: 0:00:01\n",
            "<bound method Module.parameters of Model(\n",
            "  (embedding): Embedding(635918, 300)\n",
            "  (convs): ModuleList(\n",
            "    (0): Conv2d(1, 256, kernel_size=(2, 300), stride=(1, 1))\n",
            "    (1): Conv2d(1, 256, kernel_size=(3, 300), stride=(1, 1))\n",
            "    (2): Conv2d(1, 256, kernel_size=(4, 300), stride=(1, 1))\n",
            "  )\n",
            "  (dropout): Dropout(p=0.5, inplace=False)\n",
            "  (fc): Linear(in_features=768, out_features=3, bias=True)\n",
            ")>\n",
            "Epoch [1/15]\n",
            "Iter:      0,  Train Loss:   1.1,  Train Acc: 32.81%,  Val Loss:   1.0,  Val Acc: 51.51%,  Time: 0:00:04 *\n",
            "Epoch [2/15]\n",
            "Iter:     40,  Train Loss:  0.84,  Train Acc: 63.28%,  Val Loss:  0.84,  Val Acc: 59.64%,  Time: 0:00:08 *\n",
            "Epoch [3/15]\n",
            "Iter:     80,  Train Loss:  0.75,  Train Acc: 64.06%,  Val Loss:  0.79,  Val Acc: 61.55%,  Time: 0:00:19 *\n",
            "Epoch [4/15]\n",
            "Iter:    120,  Train Loss:  0.56,  Train Acc: 82.03%,  Val Loss:  0.74,  Val Acc: 66.06%,  Time: 0:00:27 *\n",
            "Epoch [5/15]\n",
            "Epoch [6/15]\n",
            "Iter:    160,  Train Loss:  0.59,  Train Acc: 76.56%,  Val Loss:  0.76,  Val Acc: 63.65%,  Time: 0:00:27 \n",
            "Epoch [7/15]\n",
            "Iter:    200,  Train Loss:  0.45,  Train Acc: 88.28%,  Val Loss:  0.75,  Val Acc: 66.27%,  Time: 0:00:27 \n",
            "Epoch [8/15]\n",
            "Iter:    240,  Train Loss:  0.47,  Train Acc: 82.03%,  Val Loss:  0.75,  Val Acc: 64.96%,  Time: 0:00:28 \n",
            "Epoch [9/15]\n",
            "Iter:    280,  Train Loss:  0.36,  Train Acc: 92.97%,  Val Loss:  0.72,  Val Acc: 67.37%,  Time: 0:00:36 *\n",
            "Epoch [10/15]\n",
            "Epoch [11/15]\n",
            "Iter:    320,  Train Loss:  0.36,  Train Acc: 89.06%,  Val Loss:  0.75,  Val Acc: 66.27%,  Time: 0:00:37 \n",
            "Epoch [12/15]\n",
            "Iter:    360,  Train Loss:   0.3,  Train Acc: 94.53%,  Val Loss:  0.75,  Val Acc: 65.46%,  Time: 0:00:37 \n",
            "Epoch [13/15]\n",
            "Iter:    400,  Train Loss:  0.29,  Train Acc: 92.97%,  Val Loss:  0.75,  Val Acc: 66.87%,  Time: 0:00:37 \n",
            "Epoch [14/15]\n",
            "Iter:    440,  Train Loss:  0.22,  Train Acc: 97.66%,  Val Loss:  0.73,  Val Acc: 67.17%,  Time: 0:00:38 \n",
            "Epoch [15/15]\n",
            "Test Loss:  0.85,  Test Acc: 61.89%\n",
            "Precision, Recall and F1-Score...\n",
            "              precision    recall  f1-score   support\n",
            "\n",
            "    negative     0.7522    0.5896    0.6610      3913\n",
            "     neutral     0.4379    0.7366    0.5493      3424\n",
            "    positive     0.7854    0.5644    0.6568      5291\n",
            "\n",
            "    accuracy                         0.6189     12628\n",
            "   macro avg     0.6585    0.6302    0.6224     12628\n",
            "weighted avg     0.6809    0.6189    0.6289     12628\n",
            "\n",
            "Confusion Matrix...\n",
            "[[2307 1327  279]\n",
            " [ 365 2522  537]\n",
            " [ 395 1910 2986]]\n",
            "Time usage: 0:00:00\n"
          ],
          "name": "stdout"
        }
      ]
    },
    {
      "cell_type": "code",
      "metadata": {
        "id": "XQ17Tz1xMcZ9",
        "colab": {
          "base_uri": "https://localhost:8080/"
        },
        "outputId": "d5dcb004-7bc2-4817-860b-85437ef4efca"
      },
      "source": [
        "%run '/content/drive/My Drive/textcnn3/runbd7.py' --model TextCNNBD --word True\n",
        "predict_all[predict_all==0] = -1\n",
        "predict_all[predict_all==1] = 0\n",
        "predict_all[predict_all==2] = 1\n",
        "predict_all\n",
        "np.savetxt('/content/drive/MyDrive/textcnn3/output/bd7.txt', predict_all, delimiter=\",\", fmt=\"%d\")"
      ],
      "execution_count": null,
      "outputs": [
        {
          "output_type": "stream",
          "text": [
            "Loading data...\n"
          ],
          "name": "stdout"
        },
        {
          "output_type": "stream",
          "text": [
            "3988it [00:00, 46516.42it/s]\n",
            "996it [00:00, 46956.44it/s]\n",
            "0it [00:00, ?it/s]"
          ],
          "name": "stderr"
        },
        {
          "output_type": "stream",
          "text": [
            "Vocab size: 635918\n"
          ],
          "name": "stdout"
        },
        {
          "output_type": "stream",
          "text": [
            "12628it [00:00, 44622.51it/s]\n"
          ],
          "name": "stderr"
        },
        {
          "output_type": "stream",
          "text": [
            "Time usage: 0:00:01\n",
            "<bound method Module.parameters of Model(\n",
            "  (embedding): Embedding(635918, 300)\n",
            "  (convs): ModuleList(\n",
            "    (0): Conv2d(1, 256, kernel_size=(2, 300), stride=(1, 1))\n",
            "    (1): Conv2d(1, 256, kernel_size=(3, 300), stride=(1, 1))\n",
            "    (2): Conv2d(1, 256, kernel_size=(4, 300), stride=(1, 1))\n",
            "  )\n",
            "  (dropout): Dropout(p=0.5, inplace=False)\n",
            "  (fc): Linear(in_features=768, out_features=3, bias=True)\n",
            ")>\n",
            "Epoch [1/15]\n",
            "Iter:      0,  Train Loss:   1.1,  Train Acc: 35.94%,  Val Loss:   1.0,  Val Acc: 49.90%,  Time: 0:00:03 *\n",
            "Epoch [2/15]\n",
            "Iter:     40,  Train Loss:  0.84,  Train Acc: 63.28%,  Val Loss:  0.84,  Val Acc: 59.24%,  Time: 0:00:08 *\n",
            "Epoch [3/15]\n",
            "Iter:     80,  Train Loss:  0.73,  Train Acc: 64.84%,  Val Loss:   0.8,  Val Acc: 61.04%,  Time: 0:00:14 *\n",
            "Epoch [4/15]\n",
            "Iter:    120,  Train Loss:  0.58,  Train Acc: 79.69%,  Val Loss:  0.74,  Val Acc: 66.97%,  Time: 0:00:23 *\n",
            "Epoch [5/15]\n",
            "Epoch [6/15]\n",
            "Iter:    160,  Train Loss:  0.61,  Train Acc: 71.88%,  Val Loss:  0.75,  Val Acc: 63.76%,  Time: 0:00:24 \n",
            "Epoch [7/15]\n",
            "Iter:    200,  Train Loss:  0.47,  Train Acc: 85.16%,  Val Loss:  0.75,  Val Acc: 65.56%,  Time: 0:00:24 \n",
            "Epoch [8/15]\n",
            "Iter:    240,  Train Loss:  0.49,  Train Acc: 78.12%,  Val Loss:  0.75,  Val Acc: 65.46%,  Time: 0:00:24 \n",
            "Epoch [9/15]\n",
            "Iter:    280,  Train Loss:  0.37,  Train Acc: 90.62%,  Val Loss:  0.72,  Val Acc: 67.77%,  Time: 0:00:33 *\n",
            "Epoch [10/15]\n",
            "Epoch [11/15]\n",
            "Iter:    320,  Train Loss:  0.37,  Train Acc: 86.72%,  Val Loss:  0.75,  Val Acc: 65.86%,  Time: 0:00:33 \n",
            "Epoch [12/15]\n",
            "Iter:    360,  Train Loss:  0.29,  Train Acc: 94.53%,  Val Loss:  0.75,  Val Acc: 66.27%,  Time: 0:00:34 \n",
            "Epoch [13/15]\n",
            "Iter:    400,  Train Loss:  0.29,  Train Acc: 94.53%,  Val Loss:  0.76,  Val Acc: 66.47%,  Time: 0:00:34 \n",
            "Epoch [14/15]\n",
            "Iter:    440,  Train Loss:  0.23,  Train Acc: 93.75%,  Val Loss:  0.73,  Val Acc: 68.47%,  Time: 0:00:34 \n",
            "Epoch [15/15]\n",
            "Test Loss:  0.85,  Test Acc: 61.57%\n",
            "Precision, Recall and F1-Score...\n",
            "              precision    recall  f1-score   support\n",
            "\n",
            "    negative     0.7585    0.5650    0.6476      3913\n",
            "     neutral     0.4339    0.7290    0.5440      3424\n",
            "    positive     0.7747    0.5799    0.6633      5291\n",
            "\n",
            "    accuracy                         0.6157     12628\n",
            "   macro avg     0.6557    0.6246    0.6183     12628\n",
            "weighted avg     0.6773    0.6157    0.6261     12628\n",
            "\n",
            "Confusion Matrix...\n",
            "[[2211 1396  306]\n",
            " [ 342 2496  586]\n",
            " [ 362 1861 3068]]\n",
            "Time usage: 0:00:00\n"
          ],
          "name": "stdout"
        }
      ]
    },
    {
      "cell_type": "code",
      "metadata": {
        "id": "-XGtEWu0RmID",
        "colab": {
          "base_uri": "https://localhost:8080/"
        },
        "outputId": "fb6955fd-1650-4087-e526-7bc81b67957b"
      },
      "source": [
        "%run '/content/drive/My Drive/textcnn3/runbd8.py' --model TextCNNBD --word True\n",
        "predict_all[predict_all==0] = -1\n",
        "predict_all[predict_all==1] = 0\n",
        "predict_all[predict_all==2] = 1\n",
        "predict_all\n",
        "np.savetxt('/content/drive/MyDrive/textcnn3/output/bd8.txt', predict_all, delimiter=\",\", fmt=\"%d\")"
      ],
      "execution_count": null,
      "outputs": [
        {
          "output_type": "stream",
          "text": [
            "Loading data...\n"
          ],
          "name": "stdout"
        },
        {
          "output_type": "stream",
          "text": [
            "3988it [00:00, 39655.11it/s]\n",
            "996it [00:00, 35818.94it/s]\n",
            "0it [00:00, ?it/s]"
          ],
          "name": "stderr"
        },
        {
          "output_type": "stream",
          "text": [
            "Vocab size: 635918\n"
          ],
          "name": "stdout"
        },
        {
          "output_type": "stream",
          "text": [
            "12628it [00:00, 43665.63it/s]\n"
          ],
          "name": "stderr"
        },
        {
          "output_type": "stream",
          "text": [
            "Time usage: 0:00:01\n",
            "<bound method Module.parameters of Model(\n",
            "  (embedding): Embedding(635918, 300)\n",
            "  (convs): ModuleList(\n",
            "    (0): Conv2d(1, 256, kernel_size=(2, 300), stride=(1, 1))\n",
            "    (1): Conv2d(1, 256, kernel_size=(3, 300), stride=(1, 1))\n",
            "    (2): Conv2d(1, 256, kernel_size=(4, 300), stride=(1, 1))\n",
            "  )\n",
            "  (dropout): Dropout(p=0.5, inplace=False)\n",
            "  (fc): Linear(in_features=768, out_features=3, bias=True)\n",
            ")>\n",
            "Epoch [1/15]\n",
            "Iter:      0,  Train Loss:   1.1,  Train Acc: 26.56%,  Val Loss:   1.0,  Val Acc: 49.10%,  Time: 0:00:04 *\n",
            "Epoch [2/15]\n",
            "Iter:     40,  Train Loss:  0.84,  Train Acc: 60.16%,  Val Loss:  0.85,  Val Acc: 59.04%,  Time: 0:00:08 *\n",
            "Epoch [3/15]\n",
            "Iter:     80,  Train Loss:  0.74,  Train Acc: 65.62%,  Val Loss:   0.8,  Val Acc: 60.74%,  Time: 0:00:20 *\n",
            "Epoch [4/15]\n",
            "Iter:    120,  Train Loss:  0.58,  Train Acc: 81.25%,  Val Loss:  0.74,  Val Acc: 66.37%,  Time: 0:00:25 *\n",
            "Epoch [5/15]\n",
            "Epoch [6/15]\n",
            "Iter:    160,  Train Loss:  0.58,  Train Acc: 78.91%,  Val Loss:  0.75,  Val Acc: 64.26%,  Time: 0:00:26 \n",
            "Epoch [7/15]\n",
            "Iter:    200,  Train Loss:  0.45,  Train Acc: 84.38%,  Val Loss:  0.75,  Val Acc: 65.66%,  Time: 0:00:26 \n",
            "Epoch [8/15]\n",
            "Iter:    240,  Train Loss:   0.5,  Train Acc: 79.69%,  Val Loss:  0.74,  Val Acc: 65.86%,  Time: 0:00:35 *\n",
            "Epoch [9/15]\n",
            "Iter:    280,  Train Loss:  0.36,  Train Acc: 91.41%,  Val Loss:  0.71,  Val Acc: 67.77%,  Time: 0:00:47 *\n",
            "Epoch [10/15]\n",
            "Epoch [11/15]\n",
            "Iter:    320,  Train Loss:  0.33,  Train Acc: 88.28%,  Val Loss:  0.73,  Val Acc: 67.37%,  Time: 0:00:47 \n",
            "Epoch [12/15]\n",
            "Iter:    360,  Train Loss:  0.29,  Train Acc: 93.75%,  Val Loss:  0.75,  Val Acc: 65.56%,  Time: 0:00:48 \n",
            "Epoch [13/15]\n",
            "Iter:    400,  Train Loss:  0.32,  Train Acc: 89.84%,  Val Loss:  0.76,  Val Acc: 67.37%,  Time: 0:00:48 \n",
            "Epoch [14/15]\n",
            "Iter:    440,  Train Loss:  0.22,  Train Acc: 94.53%,  Val Loss:  0.73,  Val Acc: 67.87%,  Time: 0:00:48 \n",
            "Epoch [15/15]\n",
            "Test Loss:  0.86,  Test Acc: 60.67%\n",
            "Precision, Recall and F1-Score...\n",
            "              precision    recall  f1-score   support\n",
            "\n",
            "    negative     0.7623    0.5525    0.6407      3913\n",
            "     neutral     0.4244    0.7611    0.5450      3424\n",
            "    positive     0.7922    0.5468    0.6470      5291\n",
            "\n",
            "    accuracy                         0.6067     12628\n",
            "   macro avg     0.6596    0.6201    0.6109     12628\n",
            "weighted avg     0.6832    0.6067    0.6174     12628\n",
            "\n",
            "Confusion Matrix...\n",
            "[[2162 1490  261]\n",
            " [ 320 2606  498]\n",
            " [ 354 2044 2893]]\n",
            "Time usage: 0:00:00\n"
          ],
          "name": "stdout"
        }
      ]
    },
    {
      "cell_type": "code",
      "metadata": {
        "id": "m6QFrJGPR0mw",
        "colab": {
          "base_uri": "https://localhost:8080/"
        },
        "outputId": "de9a359d-4353-4382-891f-f51fd72d6bc9"
      },
      "source": [
        "%run '/content/drive/My Drive/textcnn3/runbd9.py' --model TextCNNBD --word True\n",
        "predict_all[predict_all==0] = -1\n",
        "predict_all[predict_all==1] = 0\n",
        "predict_all[predict_all==2] = 1\n",
        "predict_all\n",
        "np.savetxt('/content/drive/MyDrive/textcnn3/output/bd9.txt', predict_all, delimiter=\",\", fmt=\"%d\")"
      ],
      "execution_count": null,
      "outputs": [
        {
          "output_type": "stream",
          "text": [
            "Loading data...\n"
          ],
          "name": "stdout"
        },
        {
          "output_type": "stream",
          "text": [
            "3988it [00:00, 42000.44it/s]\n",
            "996it [00:00, 37703.31it/s]\n",
            "0it [00:00, ?it/s]"
          ],
          "name": "stderr"
        },
        {
          "output_type": "stream",
          "text": [
            "Vocab size: 635918\n"
          ],
          "name": "stdout"
        },
        {
          "output_type": "stream",
          "text": [
            "12628it [00:00, 25387.59it/s]\n"
          ],
          "name": "stderr"
        },
        {
          "output_type": "stream",
          "text": [
            "Time usage: 0:00:01\n",
            "<bound method Module.parameters of Model(\n",
            "  (embedding): Embedding(635918, 300)\n",
            "  (convs): ModuleList(\n",
            "    (0): Conv2d(1, 256, kernel_size=(2, 300), stride=(1, 1))\n",
            "    (1): Conv2d(1, 256, kernel_size=(3, 300), stride=(1, 1))\n",
            "    (2): Conv2d(1, 256, kernel_size=(4, 300), stride=(1, 1))\n",
            "  )\n",
            "  (dropout): Dropout(p=0.5, inplace=False)\n",
            "  (fc): Linear(in_features=768, out_features=3, bias=True)\n",
            ")>\n",
            "Epoch [1/15]\n",
            "Iter:      0,  Train Loss:   1.1,  Train Acc: 33.59%,  Val Loss:   1.0,  Val Acc: 48.59%,  Time: 0:00:04 *\n",
            "Epoch [2/15]\n",
            "Iter:     40,  Train Loss:  0.85,  Train Acc: 62.50%,  Val Loss:  0.85,  Val Acc: 59.34%,  Time: 0:00:07 *\n",
            "Epoch [3/15]\n",
            "Iter:     80,  Train Loss:  0.74,  Train Acc: 64.84%,  Val Loss:   0.8,  Val Acc: 60.54%,  Time: 0:00:16 *\n",
            "Epoch [4/15]\n",
            "Iter:    120,  Train Loss:  0.57,  Train Acc: 83.59%,  Val Loss:  0.75,  Val Acc: 67.57%,  Time: 0:00:25 *\n",
            "Epoch [5/15]\n",
            "Epoch [6/15]\n",
            "Iter:    160,  Train Loss:  0.59,  Train Acc: 75.78%,  Val Loss:  0.75,  Val Acc: 64.06%,  Time: 0:00:26 \n",
            "Epoch [7/15]\n",
            "Iter:    200,  Train Loss:  0.49,  Train Acc: 85.16%,  Val Loss:  0.75,  Val Acc: 64.96%,  Time: 0:00:26 \n",
            "Epoch [8/15]\n",
            "Iter:    240,  Train Loss:   0.5,  Train Acc: 78.12%,  Val Loss:  0.74,  Val Acc: 66.37%,  Time: 0:00:39 *\n",
            "Epoch [9/15]\n",
            "Iter:    280,  Train Loss:  0.37,  Train Acc: 90.62%,  Val Loss:  0.71,  Val Acc: 68.37%,  Time: 0:00:45 *\n",
            "Epoch [10/15]\n",
            "Epoch [11/15]\n",
            "Iter:    320,  Train Loss:  0.35,  Train Acc: 89.84%,  Val Loss:  0.74,  Val Acc: 66.37%,  Time: 0:00:46 \n",
            "Epoch [12/15]\n",
            "Iter:    360,  Train Loss:  0.28,  Train Acc: 92.19%,  Val Loss:  0.75,  Val Acc: 66.47%,  Time: 0:00:46 \n",
            "Epoch [13/15]\n",
            "Iter:    400,  Train Loss:  0.31,  Train Acc: 89.84%,  Val Loss:  0.76,  Val Acc: 66.57%,  Time: 0:00:46 \n",
            "Epoch [14/15]\n",
            "Iter:    440,  Train Loss:  0.24,  Train Acc: 96.09%,  Val Loss:  0.73,  Val Acc: 67.77%,  Time: 0:00:47 \n",
            "Epoch [15/15]\n",
            "Test Loss:  0.87,  Test Acc: 60.51%\n",
            "Precision, Recall and F1-Score...\n",
            "              precision    recall  f1-score   support\n",
            "\n",
            "    negative     0.7619    0.5546    0.6419      3913\n",
            "     neutral     0.4223    0.7553    0.5417      3424\n",
            "    positive     0.7891    0.5453    0.6449      5291\n",
            "\n",
            "    accuracy                         0.6051     12628\n",
            "   macro avg     0.6578    0.6184    0.6095     12628\n",
            "weighted avg     0.6812    0.6051    0.6160     12628\n",
            "\n",
            "Confusion Matrix...\n",
            "[[2170 1478  265]\n",
            " [ 332 2586  506]\n",
            " [ 346 2060 2885]]\n",
            "Time usage: 0:00:00\n"
          ],
          "name": "stdout"
        }
      ]
    },
    {
      "cell_type": "code",
      "metadata": {
        "id": "xbYAvyhHR02-",
        "colab": {
          "base_uri": "https://localhost:8080/"
        },
        "outputId": "651adfcf-6eb1-4753-a5e4-b27a42f685fa"
      },
      "source": [
        "%run '/content/drive/My Drive/textcnn3/runbd10.py' --model TextCNNBD --word True\n",
        "predict_all[predict_all==0] = -1\n",
        "predict_all[predict_all==1] = 0\n",
        "predict_all[predict_all==2] = 1\n",
        "predict_all\n",
        "np.savetxt('/content/drive/MyDrive/textcnn3/output/bd10.txt', predict_all, delimiter=\",\", fmt=\"%d\")"
      ],
      "execution_count": null,
      "outputs": [
        {
          "output_type": "stream",
          "text": [
            "Loading data...\n"
          ],
          "name": "stdout"
        },
        {
          "output_type": "stream",
          "text": [
            "3988it [00:00, 38155.00it/s]\n",
            "996it [00:00, 41620.44it/s]\n",
            "0it [00:00, ?it/s]"
          ],
          "name": "stderr"
        },
        {
          "output_type": "stream",
          "text": [
            "Vocab size: 635918\n"
          ],
          "name": "stdout"
        },
        {
          "output_type": "stream",
          "text": [
            "12628it [00:00, 43755.49it/s]\n"
          ],
          "name": "stderr"
        },
        {
          "output_type": "stream",
          "text": [
            "Time usage: 0:00:01\n",
            "<bound method Module.parameters of Model(\n",
            "  (embedding): Embedding(635918, 300)\n",
            "  (convs): ModuleList(\n",
            "    (0): Conv2d(1, 256, kernel_size=(2, 300), stride=(1, 1))\n",
            "    (1): Conv2d(1, 256, kernel_size=(3, 300), stride=(1, 1))\n",
            "    (2): Conv2d(1, 256, kernel_size=(4, 300), stride=(1, 1))\n",
            "  )\n",
            "  (dropout): Dropout(p=0.5, inplace=False)\n",
            "  (fc): Linear(in_features=768, out_features=3, bias=True)\n",
            ")>\n",
            "Epoch [1/15]\n",
            "Iter:      0,  Train Loss:   1.1,  Train Acc: 22.66%,  Val Loss:   1.0,  Val Acc: 53.92%,  Time: 0:00:05 *\n",
            "Epoch [2/15]\n",
            "Iter:     40,  Train Loss:  0.88,  Train Acc: 55.47%,  Val Loss:  0.85,  Val Acc: 58.23%,  Time: 0:00:10 *\n",
            "Epoch [3/15]\n",
            "Iter:     80,  Train Loss:  0.71,  Train Acc: 68.75%,  Val Loss:  0.79,  Val Acc: 61.14%,  Time: 0:00:17 *\n",
            "Epoch [4/15]\n",
            "Iter:    120,  Train Loss:  0.58,  Train Acc: 82.03%,  Val Loss:  0.74,  Val Acc: 66.87%,  Time: 0:00:26 *\n",
            "Epoch [5/15]\n",
            "Epoch [6/15]\n",
            "Iter:    160,  Train Loss:  0.57,  Train Acc: 77.34%,  Val Loss:  0.75,  Val Acc: 64.56%,  Time: 0:00:26 \n",
            "Epoch [7/15]\n",
            "Iter:    200,  Train Loss:  0.48,  Train Acc: 82.81%,  Val Loss:  0.74,  Val Acc: 66.16%,  Time: 0:00:35 *\n",
            "Epoch [8/15]\n",
            "Iter:    240,  Train Loss:  0.48,  Train Acc: 81.25%,  Val Loss:  0.74,  Val Acc: 65.46%,  Time: 0:00:35 \n",
            "Epoch [9/15]\n",
            "Iter:    280,  Train Loss:  0.38,  Train Acc: 88.28%,  Val Loss:  0.72,  Val Acc: 67.27%,  Time: 0:00:49 *\n",
            "Epoch [10/15]\n",
            "Epoch [11/15]\n",
            "Iter:    320,  Train Loss:   0.4,  Train Acc: 85.94%,  Val Loss:  0.75,  Val Acc: 65.86%,  Time: 0:00:49 \n",
            "Epoch [12/15]\n",
            "Iter:    360,  Train Loss:  0.29,  Train Acc: 96.09%,  Val Loss:  0.77,  Val Acc: 65.96%,  Time: 0:00:49 \n",
            "Epoch [13/15]\n",
            "Iter:    400,  Train Loss:   0.3,  Train Acc: 90.62%,  Val Loss:  0.78,  Val Acc: 65.26%,  Time: 0:00:50 \n",
            "Epoch [14/15]\n",
            "Iter:    440,  Train Loss:  0.24,  Train Acc: 94.53%,  Val Loss:  0.72,  Val Acc: 67.87%,  Time: 0:00:50 \n",
            "Epoch [15/15]\n",
            "Test Loss:  0.86,  Test Acc: 61.24%\n",
            "Precision, Recall and F1-Score...\n",
            "              precision    recall  f1-score   support\n",
            "\n",
            "    negative     0.7654    0.5638    0.6493      3913\n",
            "     neutral     0.4312    0.7485    0.5472      3424\n",
            "    positive     0.7799    0.5604    0.6522      5291\n",
            "\n",
            "    accuracy                         0.6124     12628\n",
            "   macro avg     0.6588    0.6242    0.6162     12628\n",
            "weighted avg     0.6808    0.6124    0.6228     12628\n",
            "\n",
            "Confusion Matrix...\n",
            "[[2206 1409  298]\n",
            " [ 322 2563  539]\n",
            " [ 354 1972 2965]]\n",
            "Time usage: 0:00:00\n"
          ],
          "name": "stdout"
        }
      ]
    },
    {
      "cell_type": "code",
      "metadata": {
        "id": "xma5tXwYTsZZ",
        "colab": {
          "base_uri": "https://localhost:8080/"
        },
        "outputId": "0373e0a3-63b4-4082-98f2-fbfdd3ef5538"
      },
      "source": [
        "%run '/content/drive/My Drive/textcnn3/runrm1.py' --model TextCNNRM --word True\n",
        "predict_all[predict_all==0] = -1\n",
        "predict_all[predict_all==1] = 0\n",
        "predict_all[predict_all==2] = 1\n",
        "predict_all\n",
        "np.savetxt('/content/drive/MyDrive/textcnn3/output/rm1.txt', predict_all, delimiter=\",\", fmt=\"%d\")"
      ],
      "execution_count": null,
      "outputs": [
        {
          "output_type": "stream",
          "text": [
            "Loading data...\n"
          ],
          "name": "stdout"
        },
        {
          "output_type": "stream",
          "text": [
            "3988it [00:00, 50051.27it/s]\n",
            "996it [00:00, 41538.91it/s]\n",
            "0it [00:00, ?it/s]"
          ],
          "name": "stderr"
        },
        {
          "output_type": "stream",
          "text": [
            "Vocab size: 355784\n"
          ],
          "name": "stdout"
        },
        {
          "output_type": "stream",
          "text": [
            "12628it [00:00, 38286.90it/s]\n"
          ],
          "name": "stderr"
        },
        {
          "output_type": "stream",
          "text": [
            "Time usage: 0:00:02\n",
            "<bound method Module.parameters of Model(\n",
            "  (embedding): Embedding(355784, 300)\n",
            "  (convs): ModuleList(\n",
            "    (0): Conv2d(1, 256, kernel_size=(2, 300), stride=(1, 1))\n",
            "    (1): Conv2d(1, 256, kernel_size=(3, 300), stride=(1, 1))\n",
            "    (2): Conv2d(1, 256, kernel_size=(4, 300), stride=(1, 1))\n",
            "  )\n",
            "  (dropout): Dropout(p=0.5, inplace=False)\n",
            "  (fc): Linear(in_features=768, out_features=3, bias=True)\n",
            ")>\n",
            "Epoch [1/15]\n",
            "Iter:      0,  Train Loss:   1.1,  Train Acc: 27.34%,  Val Loss:   1.0,  Val Acc: 52.31%,  Time: 0:00:02 *\n",
            "Epoch [2/15]\n",
            "Iter:     40,  Train Loss:  0.82,  Train Acc: 64.06%,  Val Loss:  0.83,  Val Acc: 60.14%,  Time: 0:00:05 *\n",
            "Epoch [3/15]\n",
            "Iter:     80,  Train Loss:  0.72,  Train Acc: 65.62%,  Val Loss:  0.76,  Val Acc: 62.35%,  Time: 0:00:07 *\n",
            "Epoch [4/15]\n",
            "Iter:    120,  Train Loss:  0.59,  Train Acc: 78.91%,  Val Loss:  0.72,  Val Acc: 66.97%,  Time: 0:00:09 *\n",
            "Epoch [5/15]\n",
            "Epoch [6/15]\n",
            "Iter:    160,  Train Loss:  0.53,  Train Acc: 79.69%,  Val Loss:  0.72,  Val Acc: 67.07%,  Time: 0:00:11 *\n",
            "Epoch [7/15]\n",
            "Iter:    200,  Train Loss:  0.47,  Train Acc: 81.25%,  Val Loss:  0.72,  Val Acc: 66.97%,  Time: 0:00:11 \n",
            "Epoch [8/15]\n",
            "Iter:    240,  Train Loss:  0.44,  Train Acc: 82.81%,  Val Loss:  0.71,  Val Acc: 66.77%,  Time: 0:00:17 *\n",
            "Epoch [9/15]\n",
            "Iter:    280,  Train Loss:  0.38,  Train Acc: 88.28%,  Val Loss:   0.7,  Val Acc: 68.67%,  Time: 0:00:20 *\n",
            "Epoch [10/15]\n",
            "Epoch [11/15]\n",
            "Iter:    320,  Train Loss:  0.33,  Train Acc: 89.84%,  Val Loss:  0.72,  Val Acc: 67.07%,  Time: 0:00:21 \n",
            "Epoch [12/15]\n",
            "Iter:    360,  Train Loss:  0.28,  Train Acc: 93.75%,  Val Loss:  0.73,  Val Acc: 68.07%,  Time: 0:00:21 \n",
            "Epoch [13/15]\n",
            "Iter:    400,  Train Loss:  0.27,  Train Acc: 93.75%,  Val Loss:  0.72,  Val Acc: 68.17%,  Time: 0:00:21 \n",
            "Epoch [14/15]\n",
            "Iter:    440,  Train Loss:  0.21,  Train Acc: 97.66%,  Val Loss:  0.71,  Val Acc: 67.97%,  Time: 0:00:22 \n",
            "Epoch [15/15]\n",
            "Test Loss:   0.9,  Test Acc: 58.58%\n",
            "Precision, Recall and F1-Score...\n",
            "              precision    recall  f1-score   support\n",
            "\n",
            "    negative     0.7562    0.5627    0.6453      3913\n",
            "     neutral     0.4011    0.7228    0.5159      3424\n",
            "    positive     0.7671    0.5141    0.6156      5291\n",
            "\n",
            "    accuracy                         0.5858     12628\n",
            "   macro avg     0.6415    0.5999    0.5923     12628\n",
            "weighted avg     0.6645    0.5858    0.5978     12628\n",
            "\n",
            "Confusion Matrix...\n",
            "[[2202 1476  235]\n",
            " [ 358 2475  591]\n",
            " [ 352 2219 2720]]\n",
            "Time usage: 0:00:00\n"
          ],
          "name": "stdout"
        }
      ]
    },
    {
      "cell_type": "code",
      "metadata": {
        "id": "7t9aoRV6ZoUs",
        "colab": {
          "base_uri": "https://localhost:8080/"
        },
        "outputId": "4d0f4d45-4973-46d5-8a52-e2bce28a2364"
      },
      "source": [
        "%run '/content/drive/My Drive/textcnn3/runrm2.py' --model TextCNNRM --word True\n",
        "predict_all[predict_all==0] = -1\n",
        "predict_all[predict_all==1] = 0\n",
        "predict_all[predict_all==2] = 1\n",
        "predict_all\n",
        "np.savetxt('/content/drive/MyDrive/textcnn3/output/rm2.txt', predict_all, delimiter=\",\", fmt=\"%d\")"
      ],
      "execution_count": null,
      "outputs": [
        {
          "output_type": "stream",
          "text": [
            "\r0it [00:00, ?it/s]"
          ],
          "name": "stderr"
        },
        {
          "output_type": "stream",
          "text": [
            "Loading data...\n",
            "Vocab size: 355784\n"
          ],
          "name": "stdout"
        },
        {
          "output_type": "stream",
          "text": [
            "3988it [00:00, 48854.59it/s]\n",
            "996it [00:00, 43646.39it/s]\n",
            "12628it [00:00, 49710.67it/s]\n"
          ],
          "name": "stderr"
        },
        {
          "output_type": "stream",
          "text": [
            "Time usage: 0:00:01\n",
            "<bound method Module.parameters of Model(\n",
            "  (embedding): Embedding(355784, 300)\n",
            "  (convs): ModuleList(\n",
            "    (0): Conv2d(1, 256, kernel_size=(2, 300), stride=(1, 1))\n",
            "    (1): Conv2d(1, 256, kernel_size=(3, 300), stride=(1, 1))\n",
            "    (2): Conv2d(1, 256, kernel_size=(4, 300), stride=(1, 1))\n",
            "  )\n",
            "  (dropout): Dropout(p=0.5, inplace=False)\n",
            "  (fc): Linear(in_features=768, out_features=3, bias=True)\n",
            ")>\n",
            "Epoch [1/15]\n",
            "Iter:      0,  Train Loss:   1.1,  Train Acc: 30.47%,  Val Loss:   1.0,  Val Acc: 50.80%,  Time: 0:00:02 *\n",
            "Epoch [2/15]\n",
            "Iter:     40,  Train Loss:   0.8,  Train Acc: 64.06%,  Val Loss:  0.83,  Val Acc: 59.34%,  Time: 0:00:04 *\n",
            "Epoch [3/15]\n",
            "Iter:     80,  Train Loss:  0.71,  Train Acc: 66.41%,  Val Loss:  0.76,  Val Acc: 62.65%,  Time: 0:00:08 *\n",
            "Epoch [4/15]\n",
            "Iter:    120,  Train Loss:  0.61,  Train Acc: 76.56%,  Val Loss:  0.72,  Val Acc: 66.97%,  Time: 0:00:14 *\n",
            "Epoch [5/15]\n",
            "Epoch [6/15]\n",
            "Iter:    160,  Train Loss:  0.54,  Train Acc: 78.91%,  Val Loss:  0.72,  Val Acc: 65.86%,  Time: 0:00:14 \n",
            "Epoch [7/15]\n",
            "Iter:    200,  Train Loss:  0.47,  Train Acc: 83.59%,  Val Loss:  0.71,  Val Acc: 67.27%,  Time: 0:00:19 *\n",
            "Epoch [8/15]\n",
            "Iter:    240,  Train Loss:  0.46,  Train Acc: 80.47%,  Val Loss:  0.71,  Val Acc: 66.67%,  Time: 0:00:25 *\n",
            "Epoch [9/15]\n",
            "Iter:    280,  Train Loss:  0.39,  Train Acc: 85.94%,  Val Loss:   0.7,  Val Acc: 68.78%,  Time: 0:00:29 *\n",
            "Epoch [10/15]\n",
            "Epoch [11/15]\n",
            "Iter:    320,  Train Loss:  0.34,  Train Acc: 88.28%,  Val Loss:  0.73,  Val Acc: 66.27%,  Time: 0:00:30 \n",
            "Epoch [12/15]\n",
            "Iter:    360,  Train Loss:  0.27,  Train Acc: 95.31%,  Val Loss:  0.74,  Val Acc: 67.27%,  Time: 0:00:30 \n",
            "Epoch [13/15]\n",
            "Iter:    400,  Train Loss:  0.26,  Train Acc: 92.97%,  Val Loss:  0.72,  Val Acc: 67.57%,  Time: 0:00:30 \n",
            "Epoch [14/15]\n",
            "Iter:    440,  Train Loss:   0.2,  Train Acc: 97.66%,  Val Loss:  0.71,  Val Acc: 68.07%,  Time: 0:00:31 \n",
            "Epoch [15/15]\n",
            "Test Loss:  0.91,  Test Acc: 58.51%\n",
            "Precision, Recall and F1-Score...\n",
            "              precision    recall  f1-score   support\n",
            "\n",
            "    negative     0.7616    0.5510    0.6394      3913\n",
            "     neutral     0.3999    0.7366    0.5184      3424\n",
            "    positive     0.7766    0.5124    0.6174      5291\n",
            "\n",
            "    accuracy                         0.5851     12628\n",
            "   macro avg     0.6460    0.6000    0.5917     12628\n",
            "weighted avg     0.6698    0.5851    0.5974     12628\n",
            "\n",
            "Confusion Matrix...\n",
            "[[2156 1543  214]\n",
            " [ 336 2522  566]\n",
            " [ 339 2241 2711]]\n",
            "Time usage: 0:00:00\n"
          ],
          "name": "stdout"
        }
      ]
    },
    {
      "cell_type": "code",
      "metadata": {
        "id": "7VMftDaaZy_z",
        "colab": {
          "base_uri": "https://localhost:8080/"
        },
        "outputId": "47f3104e-d0cd-4ff0-b70e-93f6e579a332"
      },
      "source": [
        "%run '/content/drive/My Drive/textcnn3/runrm3.py' --model TextCNNRM --word True\n",
        "predict_all[predict_all==0] = -1\n",
        "predict_all[predict_all==1] = 0\n",
        "predict_all[predict_all==2] = 1\n",
        "predict_all\n",
        "np.savetxt('/content/drive/MyDrive/textcnn3/output/rm3.txt', predict_all, delimiter=\",\", fmt=\"%d\")"
      ],
      "execution_count": null,
      "outputs": [
        {
          "output_type": "stream",
          "text": [
            "\r0it [00:00, ?it/s]"
          ],
          "name": "stderr"
        },
        {
          "output_type": "stream",
          "text": [
            "Loading data...\n",
            "Vocab size: 355784\n"
          ],
          "name": "stdout"
        },
        {
          "output_type": "stream",
          "text": [
            "3988it [00:00, 47041.53it/s]\n",
            "996it [00:00, 46808.60it/s]\n",
            "12628it [00:00, 50021.08it/s]\n"
          ],
          "name": "stderr"
        },
        {
          "output_type": "stream",
          "text": [
            "Time usage: 0:00:01\n",
            "<bound method Module.parameters of Model(\n",
            "  (embedding): Embedding(355784, 300)\n",
            "  (convs): ModuleList(\n",
            "    (0): Conv2d(1, 256, kernel_size=(2, 300), stride=(1, 1))\n",
            "    (1): Conv2d(1, 256, kernel_size=(3, 300), stride=(1, 1))\n",
            "    (2): Conv2d(1, 256, kernel_size=(4, 300), stride=(1, 1))\n",
            "  )\n",
            "  (dropout): Dropout(p=0.5, inplace=False)\n",
            "  (fc): Linear(in_features=768, out_features=3, bias=True)\n",
            ")>\n",
            "Epoch [1/15]\n",
            "Iter:      0,  Train Loss:   1.1,  Train Acc: 37.50%,  Val Loss:   1.0,  Val Acc: 53.82%,  Time: 0:00:02 *\n",
            "Epoch [2/15]\n",
            "Iter:     40,  Train Loss:  0.81,  Train Acc: 64.06%,  Val Loss:  0.83,  Val Acc: 59.64%,  Time: 0:00:04 *\n",
            "Epoch [3/15]\n",
            "Iter:     80,  Train Loss:  0.73,  Train Acc: 65.62%,  Val Loss:  0.76,  Val Acc: 62.35%,  Time: 0:00:09 *\n",
            "Epoch [4/15]\n",
            "Iter:    120,  Train Loss:   0.6,  Train Acc: 75.78%,  Val Loss:  0.72,  Val Acc: 66.77%,  Time: 0:00:14 *\n",
            "Epoch [5/15]\n",
            "Epoch [6/15]\n",
            "Iter:    160,  Train Loss:  0.54,  Train Acc: 75.00%,  Val Loss:  0.72,  Val Acc: 66.37%,  Time: 0:00:15 \n",
            "Epoch [7/15]\n",
            "Iter:    200,  Train Loss:  0.47,  Train Acc: 83.59%,  Val Loss:  0.71,  Val Acc: 67.47%,  Time: 0:00:20 *\n",
            "Epoch [8/15]\n",
            "Iter:    240,  Train Loss:  0.47,  Train Acc: 85.16%,  Val Loss:  0.71,  Val Acc: 67.47%,  Time: 0:00:24 *\n",
            "Epoch [9/15]\n",
            "Iter:    280,  Train Loss:  0.38,  Train Acc: 89.84%,  Val Loss:   0.7,  Val Acc: 67.87%,  Time: 0:00:30 *\n",
            "Epoch [10/15]\n",
            "Epoch [11/15]\n",
            "Iter:    320,  Train Loss:  0.31,  Train Acc: 92.97%,  Val Loss:  0.72,  Val Acc: 66.87%,  Time: 0:00:31 \n",
            "Epoch [12/15]\n",
            "Iter:    360,  Train Loss:  0.26,  Train Acc: 92.19%,  Val Loss:  0.73,  Val Acc: 67.97%,  Time: 0:00:31 \n",
            "Epoch [13/15]\n",
            "Iter:    400,  Train Loss:  0.28,  Train Acc: 92.97%,  Val Loss:  0.72,  Val Acc: 67.47%,  Time: 0:00:31 \n",
            "Epoch [14/15]\n",
            "Iter:    440,  Train Loss:   0.2,  Train Acc: 96.09%,  Val Loss:  0.71,  Val Acc: 68.78%,  Time: 0:00:32 \n",
            "Epoch [15/15]\n",
            "Test Loss:   0.9,  Test Acc: 58.52%\n",
            "Precision, Recall and F1-Score...\n",
            "              precision    recall  f1-score   support\n",
            "\n",
            "    negative     0.7538    0.5594    0.6422      3913\n",
            "     neutral     0.3994    0.7214    0.5142      3424\n",
            "    positive     0.7715    0.5162    0.6185      5291\n",
            "\n",
            "    accuracy                         0.5852     12628\n",
            "   macro avg     0.6416    0.5990    0.5916     12628\n",
            "weighted avg     0.6651    0.5852    0.5976     12628\n",
            "\n",
            "Confusion Matrix...\n",
            "[[2189 1498  226]\n",
            " [ 371 2470  583]\n",
            " [ 344 2216 2731]]\n",
            "Time usage: 0:00:00\n"
          ],
          "name": "stdout"
        }
      ]
    },
    {
      "cell_type": "code",
      "metadata": {
        "id": "QyKZGCA_ZzCm",
        "colab": {
          "base_uri": "https://localhost:8080/"
        },
        "outputId": "efcb40a7-f749-40e1-bf6f-b2dd64a510c8"
      },
      "source": [
        "%run '/content/drive/My Drive/textcnn3/runrm4.py' --model TextCNNRM --word True\n",
        "predict_all[predict_all==0] = -1\n",
        "predict_all[predict_all==1] = 0\n",
        "predict_all[predict_all==2] = 1\n",
        "predict_all\n",
        "np.savetxt('/content/drive/MyDrive/textcnn3/output/rm4.txt', predict_all, delimiter=\",\", fmt=\"%d\")"
      ],
      "execution_count": null,
      "outputs": [
        {
          "output_type": "stream",
          "text": [
            "\r0it [00:00, ?it/s]"
          ],
          "name": "stderr"
        },
        {
          "output_type": "stream",
          "text": [
            "Loading data...\n",
            "Vocab size: 355784\n"
          ],
          "name": "stdout"
        },
        {
          "output_type": "stream",
          "text": [
            "3988it [00:00, 47989.09it/s]\n",
            "996it [00:00, 46262.76it/s]\n",
            "12628it [00:00, 34591.50it/s]\n"
          ],
          "name": "stderr"
        },
        {
          "output_type": "stream",
          "text": [
            "Time usage: 0:00:01\n",
            "<bound method Module.parameters of Model(\n",
            "  (embedding): Embedding(355784, 300)\n",
            "  (convs): ModuleList(\n",
            "    (0): Conv2d(1, 256, kernel_size=(2, 300), stride=(1, 1))\n",
            "    (1): Conv2d(1, 256, kernel_size=(3, 300), stride=(1, 1))\n",
            "    (2): Conv2d(1, 256, kernel_size=(4, 300), stride=(1, 1))\n",
            "  )\n",
            "  (dropout): Dropout(p=0.5, inplace=False)\n",
            "  (fc): Linear(in_features=768, out_features=3, bias=True)\n",
            ")>\n",
            "Epoch [1/15]\n",
            "Iter:      0,  Train Loss:   1.1,  Train Acc: 29.69%,  Val Loss:   1.0,  Val Acc: 49.50%,  Time: 0:00:02 *\n",
            "Epoch [2/15]\n",
            "Iter:     40,  Train Loss:  0.82,  Train Acc: 64.06%,  Val Loss:  0.83,  Val Acc: 60.64%,  Time: 0:00:04 *\n",
            "Epoch [3/15]\n",
            "Iter:     80,  Train Loss:  0.75,  Train Acc: 64.84%,  Val Loss:  0.76,  Val Acc: 62.95%,  Time: 0:00:09 *\n",
            "Epoch [4/15]\n",
            "Iter:    120,  Train Loss:  0.62,  Train Acc: 77.34%,  Val Loss:  0.73,  Val Acc: 67.37%,  Time: 0:00:13 *\n",
            "Epoch [5/15]\n",
            "Epoch [6/15]\n",
            "Iter:    160,  Train Loss:  0.55,  Train Acc: 77.34%,  Val Loss:  0.72,  Val Acc: 66.06%,  Time: 0:00:22 *\n",
            "Epoch [7/15]\n",
            "Iter:    200,  Train Loss:  0.46,  Train Acc: 83.59%,  Val Loss:  0.72,  Val Acc: 65.96%,  Time: 0:00:25 *\n",
            "Epoch [8/15]\n",
            "Iter:    240,  Train Loss:  0.45,  Train Acc: 80.47%,  Val Loss:  0.71,  Val Acc: 67.17%,  Time: 0:00:31 *\n",
            "Epoch [9/15]\n",
            "Iter:    280,  Train Loss:  0.36,  Train Acc: 91.41%,  Val Loss:   0.7,  Val Acc: 68.17%,  Time: 0:00:36 *\n",
            "Epoch [10/15]\n",
            "Epoch [11/15]\n",
            "Iter:    320,  Train Loss:  0.29,  Train Acc: 91.41%,  Val Loss:  0.72,  Val Acc: 67.67%,  Time: 0:00:36 \n",
            "Epoch [12/15]\n",
            "Iter:    360,  Train Loss:  0.27,  Train Acc: 92.97%,  Val Loss:  0.72,  Val Acc: 67.87%,  Time: 0:00:36 \n",
            "Epoch [13/15]\n",
            "Iter:    400,  Train Loss:  0.27,  Train Acc: 93.75%,  Val Loss:  0.72,  Val Acc: 67.47%,  Time: 0:00:37 \n",
            "Epoch [14/15]\n",
            "Iter:    440,  Train Loss:   0.2,  Train Acc: 97.66%,  Val Loss:  0.71,  Val Acc: 68.98%,  Time: 0:00:37 \n",
            "Epoch [15/15]\n",
            "Test Loss:  0.89,  Test Acc: 59.04%\n",
            "Precision, Recall and F1-Score...\n",
            "              precision    recall  f1-score   support\n",
            "\n",
            "    negative     0.7498    0.5829    0.6559      3913\n",
            "     neutral     0.4062    0.7249    0.5207      3424\n",
            "    positive     0.7745    0.5088    0.6141      5291\n",
            "\n",
            "    accuracy                         0.5904     12628\n",
            "   macro avg     0.6435    0.6055    0.5969     12628\n",
            "weighted avg     0.6670    0.5904    0.6017     12628\n",
            "\n",
            "Confusion Matrix...\n",
            "[[2281 1404  228]\n",
            " [ 386 2482  556]\n",
            " [ 375 2224 2692]]\n",
            "Time usage: 0:00:00\n"
          ],
          "name": "stdout"
        }
      ]
    },
    {
      "cell_type": "code",
      "metadata": {
        "id": "myFHp4iEZzFR",
        "colab": {
          "base_uri": "https://localhost:8080/"
        },
        "outputId": "b47dbdac-cb3e-4cf7-e54d-d39e8460227d"
      },
      "source": [
        "%run '/content/drive/My Drive/textcnn3/runrm5.py' --model TextCNNRM --word True\n",
        "predict_all[predict_all==0] = -1\n",
        "predict_all[predict_all==1] = 0\n",
        "predict_all[predict_all==2] = 1\n",
        "predict_all\n",
        "np.savetxt('/content/drive/MyDrive/textcnn3/output/rm5.txt', predict_all, delimiter=\",\", fmt=\"%d\")"
      ],
      "execution_count": null,
      "outputs": [
        {
          "output_type": "stream",
          "text": [
            "\r0it [00:00, ?it/s]"
          ],
          "name": "stderr"
        },
        {
          "output_type": "stream",
          "text": [
            "Loading data...\n",
            "Vocab size: 355784\n"
          ],
          "name": "stdout"
        },
        {
          "output_type": "stream",
          "text": [
            "3988it [00:00, 45305.02it/s]\n",
            "996it [00:00, 44943.32it/s]\n",
            "12628it [00:00, 47197.69it/s]\n"
          ],
          "name": "stderr"
        },
        {
          "output_type": "stream",
          "text": [
            "Time usage: 0:00:01\n",
            "<bound method Module.parameters of Model(\n",
            "  (embedding): Embedding(355784, 300)\n",
            "  (convs): ModuleList(\n",
            "    (0): Conv2d(1, 256, kernel_size=(2, 300), stride=(1, 1))\n",
            "    (1): Conv2d(1, 256, kernel_size=(3, 300), stride=(1, 1))\n",
            "    (2): Conv2d(1, 256, kernel_size=(4, 300), stride=(1, 1))\n",
            "  )\n",
            "  (dropout): Dropout(p=0.5, inplace=False)\n",
            "  (fc): Linear(in_features=768, out_features=3, bias=True)\n",
            ")>\n",
            "Epoch [1/15]\n",
            "Iter:      0,  Train Loss:   1.1,  Train Acc: 37.50%,  Val Loss:   1.0,  Val Acc: 48.69%,  Time: 0:00:02 *\n",
            "Epoch [2/15]\n",
            "Iter:     40,  Train Loss:  0.82,  Train Acc: 63.28%,  Val Loss:  0.83,  Val Acc: 60.14%,  Time: 0:00:05 *\n",
            "Epoch [3/15]\n",
            "Iter:     80,  Train Loss:  0.75,  Train Acc: 64.06%,  Val Loss:  0.77,  Val Acc: 62.65%,  Time: 0:00:07 *\n",
            "Epoch [4/15]\n",
            "Iter:    120,  Train Loss:  0.61,  Train Acc: 78.12%,  Val Loss:  0.72,  Val Acc: 66.87%,  Time: 0:00:09 *\n",
            "Epoch [5/15]\n",
            "Epoch [6/15]\n",
            "Iter:    160,  Train Loss:  0.55,  Train Acc: 76.56%,  Val Loss:  0.72,  Val Acc: 65.86%,  Time: 0:00:17 *\n",
            "Epoch [7/15]\n",
            "Iter:    200,  Train Loss:  0.49,  Train Acc: 84.38%,  Val Loss:  0.72,  Val Acc: 66.47%,  Time: 0:00:26 *\n",
            "Epoch [8/15]\n",
            "Iter:    240,  Train Loss:  0.48,  Train Acc: 82.03%,  Val Loss:  0.71,  Val Acc: 67.07%,  Time: 0:00:28 *\n",
            "Epoch [9/15]\n",
            "Iter:    280,  Train Loss:  0.37,  Train Acc: 90.62%,  Val Loss:  0.71,  Val Acc: 67.07%,  Time: 0:00:30 *\n",
            "Epoch [10/15]\n",
            "Epoch [11/15]\n",
            "Iter:    320,  Train Loss:  0.34,  Train Acc: 89.06%,  Val Loss:  0.72,  Val Acc: 67.27%,  Time: 0:00:31 \n",
            "Epoch [12/15]\n",
            "Iter:    360,  Train Loss:  0.27,  Train Acc: 92.97%,  Val Loss:  0.73,  Val Acc: 67.07%,  Time: 0:00:31 \n",
            "Epoch [13/15]\n",
            "Iter:    400,  Train Loss:  0.27,  Train Acc: 91.41%,  Val Loss:  0.72,  Val Acc: 67.97%,  Time: 0:00:31 \n",
            "Epoch [14/15]\n",
            "Iter:    440,  Train Loss:  0.22,  Train Acc: 95.31%,  Val Loss:  0.72,  Val Acc: 67.87%,  Time: 0:00:32 \n",
            "Epoch [15/15]\n",
            "Test Loss:  0.88,  Test Acc: 59.48%\n",
            "Precision, Recall and F1-Score...\n",
            "              precision    recall  f1-score   support\n",
            "\n",
            "    negative     0.7480    0.5788    0.6526      3913\n",
            "     neutral     0.4100    0.7079    0.5193      3424\n",
            "    positive     0.7652    0.5334    0.6286      5291\n",
            "\n",
            "    accuracy                         0.5948     12628\n",
            "   macro avg     0.6411    0.6067    0.6002     12628\n",
            "weighted avg     0.6636    0.5948    0.6064     12628\n",
            "\n",
            "Confusion Matrix...\n",
            "[[2265 1394  254]\n",
            " [ 388 2424  612]\n",
            " [ 375 2094 2822]]\n",
            "Time usage: 0:00:00\n"
          ],
          "name": "stdout"
        }
      ]
    },
    {
      "cell_type": "code",
      "metadata": {
        "id": "ime-edpIZzIA",
        "colab": {
          "base_uri": "https://localhost:8080/"
        },
        "outputId": "3c879a2c-9841-42ac-fbb5-544a89756a40"
      },
      "source": [
        "%run '/content/drive/My Drive/textcnn3/runrm6.py' --model TextCNNRM --word True\n",
        "predict_all[predict_all==0] = -1\n",
        "predict_all[predict_all==1] = 0\n",
        "predict_all[predict_all==2] = 1\n",
        "predict_all\n",
        "np.savetxt('/content/drive/MyDrive/textcnn3/output/rm6.txt', predict_all, delimiter=\",\", fmt=\"%d\")"
      ],
      "execution_count": null,
      "outputs": [
        {
          "output_type": "stream",
          "text": [
            "\r0it [00:00, ?it/s]"
          ],
          "name": "stderr"
        },
        {
          "output_type": "stream",
          "text": [
            "Loading data...\n",
            "Vocab size: 355784\n"
          ],
          "name": "stdout"
        },
        {
          "output_type": "stream",
          "text": [
            "3988it [00:00, 44519.55it/s]\n",
            "996it [00:00, 36809.00it/s]\n",
            "12628it [00:00, 28855.48it/s]\n"
          ],
          "name": "stderr"
        },
        {
          "output_type": "stream",
          "text": [
            "Time usage: 0:00:01\n",
            "<bound method Module.parameters of Model(\n",
            "  (embedding): Embedding(355784, 300)\n",
            "  (convs): ModuleList(\n",
            "    (0): Conv2d(1, 256, kernel_size=(2, 300), stride=(1, 1))\n",
            "    (1): Conv2d(1, 256, kernel_size=(3, 300), stride=(1, 1))\n",
            "    (2): Conv2d(1, 256, kernel_size=(4, 300), stride=(1, 1))\n",
            "  )\n",
            "  (dropout): Dropout(p=0.5, inplace=False)\n",
            "  (fc): Linear(in_features=768, out_features=3, bias=True)\n",
            ")>\n",
            "Epoch [1/15]\n",
            "Iter:      0,  Train Loss:   1.1,  Train Acc: 35.94%,  Val Loss:   1.0,  Val Acc: 50.50%,  Time: 0:00:02 *\n",
            "Epoch [2/15]\n",
            "Iter:     40,  Train Loss:  0.81,  Train Acc: 62.50%,  Val Loss:  0.82,  Val Acc: 61.35%,  Time: 0:00:04 *\n",
            "Epoch [3/15]\n",
            "Iter:     80,  Train Loss:  0.73,  Train Acc: 64.06%,  Val Loss:  0.76,  Val Acc: 62.35%,  Time: 0:00:07 *\n",
            "Epoch [4/15]\n",
            "Iter:    120,  Train Loss:  0.58,  Train Acc: 77.34%,  Val Loss:  0.72,  Val Acc: 66.87%,  Time: 0:00:11 *\n",
            "Epoch [5/15]\n",
            "Epoch [6/15]\n",
            "Iter:    160,  Train Loss:  0.55,  Train Acc: 77.34%,  Val Loss:  0.72,  Val Acc: 66.57%,  Time: 0:00:11 \n",
            "Epoch [7/15]\n",
            "Iter:    200,  Train Loss:  0.45,  Train Acc: 84.38%,  Val Loss:  0.72,  Val Acc: 66.37%,  Time: 0:00:18 *\n",
            "Epoch [8/15]\n",
            "Iter:    240,  Train Loss:  0.45,  Train Acc: 79.69%,  Val Loss:  0.71,  Val Acc: 67.37%,  Time: 0:00:22 *\n",
            "Epoch [9/15]\n",
            "Iter:    280,  Train Loss:  0.39,  Train Acc: 90.62%,  Val Loss:   0.7,  Val Acc: 67.87%,  Time: 0:00:28 *\n",
            "Epoch [10/15]\n",
            "Epoch [11/15]\n",
            "Iter:    320,  Train Loss:   0.3,  Train Acc: 92.97%,  Val Loss:  0.72,  Val Acc: 67.17%,  Time: 0:00:29 \n",
            "Epoch [12/15]\n",
            "Iter:    360,  Train Loss:  0.27,  Train Acc: 94.53%,  Val Loss:  0.73,  Val Acc: 66.47%,  Time: 0:00:29 \n",
            "Epoch [13/15]\n",
            "Iter:    400,  Train Loss:  0.28,  Train Acc: 94.53%,  Val Loss:  0.71,  Val Acc: 67.67%,  Time: 0:00:29 \n",
            "Epoch [14/15]\n",
            "Iter:    440,  Train Loss:  0.21,  Train Acc: 96.88%,  Val Loss:  0.71,  Val Acc: 68.37%,  Time: 0:00:30 \n",
            "Epoch [15/15]\n",
            "Test Loss:   0.9,  Test Acc: 58.55%\n",
            "Precision, Recall and F1-Score...\n",
            "              precision    recall  f1-score   support\n",
            "\n",
            "    negative     0.7530    0.5702    0.6489      3913\n",
            "     neutral     0.4005    0.7290    0.5170      3424\n",
            "    positive     0.7769    0.5041    0.6114      5291\n",
            "\n",
            "    accuracy                         0.5855     12628\n",
            "   macro avg     0.6434    0.6011    0.5924     12628\n",
            "weighted avg     0.6674    0.5855    0.5974     12628\n",
            "\n",
            "Confusion Matrix...\n",
            "[[2231 1471  211]\n",
            " [ 373 2496  555]\n",
            " [ 359 2265 2667]]\n",
            "Time usage: 0:00:00\n"
          ],
          "name": "stdout"
        }
      ]
    },
    {
      "cell_type": "code",
      "metadata": {
        "id": "kK9geFlKZ42D",
        "colab": {
          "base_uri": "https://localhost:8080/"
        },
        "outputId": "763fc525-9250-4da0-93f6-afbfb687efc5"
      },
      "source": [
        "%run '/content/drive/My Drive/textcnn3/runrm7.py' --model TextCNNRM --word True\n",
        "predict_all[predict_all==0] = -1\n",
        "predict_all[predict_all==1] = 0\n",
        "predict_all[predict_all==2] = 1\n",
        "predict_all\n",
        "np.savetxt('/content/drive/MyDrive/textcnn3/output/rm7.txt', predict_all, delimiter=\",\", fmt=\"%d\")"
      ],
      "execution_count": null,
      "outputs": [
        {
          "output_type": "stream",
          "text": [
            "\r0it [00:00, ?it/s]"
          ],
          "name": "stderr"
        },
        {
          "output_type": "stream",
          "text": [
            "Loading data...\n",
            "Vocab size: 355784\n"
          ],
          "name": "stdout"
        },
        {
          "output_type": "stream",
          "text": [
            "3988it [00:00, 44976.47it/s]\n",
            "996it [00:00, 47384.13it/s]\n",
            "12628it [00:00, 48774.03it/s]\n"
          ],
          "name": "stderr"
        },
        {
          "output_type": "stream",
          "text": [
            "Time usage: 0:00:01\n",
            "<bound method Module.parameters of Model(\n",
            "  (embedding): Embedding(355784, 300)\n",
            "  (convs): ModuleList(\n",
            "    (0): Conv2d(1, 256, kernel_size=(2, 300), stride=(1, 1))\n",
            "    (1): Conv2d(1, 256, kernel_size=(3, 300), stride=(1, 1))\n",
            "    (2): Conv2d(1, 256, kernel_size=(4, 300), stride=(1, 1))\n",
            "  )\n",
            "  (dropout): Dropout(p=0.5, inplace=False)\n",
            "  (fc): Linear(in_features=768, out_features=3, bias=True)\n",
            ")>\n",
            "Epoch [1/15]\n",
            "Iter:      0,  Train Loss:   1.1,  Train Acc: 30.47%,  Val Loss:   1.0,  Val Acc: 50.30%,  Time: 0:00:03 *\n",
            "Epoch [2/15]\n",
            "Iter:     40,  Train Loss:  0.82,  Train Acc: 64.84%,  Val Loss:  0.83,  Val Acc: 59.64%,  Time: 0:00:07 *\n",
            "Epoch [3/15]\n",
            "Iter:     80,  Train Loss:  0.72,  Train Acc: 64.84%,  Val Loss:  0.77,  Val Acc: 63.25%,  Time: 0:00:10 *\n",
            "Epoch [4/15]\n",
            "Iter:    120,  Train Loss:  0.59,  Train Acc: 78.12%,  Val Loss:  0.73,  Val Acc: 67.37%,  Time: 0:00:15 *\n",
            "Epoch [5/15]\n",
            "Epoch [6/15]\n",
            "Iter:    160,  Train Loss:  0.55,  Train Acc: 78.12%,  Val Loss:  0.72,  Val Acc: 66.57%,  Time: 0:00:21 *\n",
            "Epoch [7/15]\n",
            "Iter:    200,  Train Loss:  0.46,  Train Acc: 80.47%,  Val Loss:  0.72,  Val Acc: 65.56%,  Time: 0:00:21 \n",
            "Epoch [8/15]\n",
            "Iter:    240,  Train Loss:  0.47,  Train Acc: 85.16%,  Val Loss:  0.71,  Val Acc: 66.77%,  Time: 0:00:26 *\n",
            "Epoch [9/15]\n",
            "Iter:    280,  Train Loss:  0.38,  Train Acc: 89.06%,  Val Loss:  0.71,  Val Acc: 66.97%,  Time: 0:00:31 *\n",
            "Epoch [10/15]\n",
            "Epoch [11/15]\n",
            "Iter:    320,  Train Loss:  0.31,  Train Acc: 91.41%,  Val Loss:  0.72,  Val Acc: 67.47%,  Time: 0:00:32 \n",
            "Epoch [12/15]\n",
            "Iter:    360,  Train Loss:  0.27,  Train Acc: 94.53%,  Val Loss:  0.74,  Val Acc: 66.77%,  Time: 0:00:32 \n",
            "Epoch [13/15]\n",
            "Iter:    400,  Train Loss:  0.25,  Train Acc: 92.97%,  Val Loss:  0.72,  Val Acc: 67.97%,  Time: 0:00:32 \n",
            "Epoch [14/15]\n",
            "Iter:    440,  Train Loss:  0.22,  Train Acc: 96.09%,  Val Loss:  0.72,  Val Acc: 67.87%,  Time: 0:00:33 \n",
            "Epoch [15/15]\n",
            "Test Loss:   0.9,  Test Acc: 58.69%\n",
            "Precision, Recall and F1-Score...\n",
            "              precision    recall  f1-score   support\n",
            "\n",
            "    negative     0.7572    0.5507    0.6377      3913\n",
            "     neutral     0.4021    0.7272    0.5179      3424\n",
            "    positive     0.7708    0.5230    0.6231      5291\n",
            "\n",
            "    accuracy                         0.5869     12628\n",
            "   macro avg     0.6434    0.6003    0.5929     12628\n",
            "weighted avg     0.6666    0.5869    0.5991     12628\n",
            "\n",
            "Confusion Matrix...\n",
            "[[2155 1525  233]\n",
            " [ 344 2490  590]\n",
            " [ 347 2177 2767]]\n",
            "Time usage: 0:00:00\n"
          ],
          "name": "stdout"
        }
      ]
    },
    {
      "cell_type": "code",
      "metadata": {
        "id": "EFREtTwJb4SI",
        "colab": {
          "base_uri": "https://localhost:8080/"
        },
        "outputId": "5d230a7d-f151-479d-c2d3-098c20e4db35"
      },
      "source": [
        "%run '/content/drive/My Drive/textcnn3/runrm8.py' --model TextCNNRM --word True\n",
        "predict_all[predict_all==0] = -1\n",
        "predict_all[predict_all==1] = 0\n",
        "predict_all[predict_all==2] = 1\n",
        "predict_all\n",
        "np.savetxt('/content/drive/MyDrive/textcnn3/output/rm8.txt', predict_all, delimiter=\",\", fmt=\"%d\")"
      ],
      "execution_count": null,
      "outputs": [
        {
          "output_type": "stream",
          "text": [
            "\r0it [00:00, ?it/s]"
          ],
          "name": "stderr"
        },
        {
          "output_type": "stream",
          "text": [
            "Loading data...\n",
            "Vocab size: 355784\n"
          ],
          "name": "stdout"
        },
        {
          "output_type": "stream",
          "text": [
            "3988it [00:00, 46091.13it/s]\n",
            "996it [00:00, 42983.09it/s]\n",
            "12628it [00:00, 42874.93it/s]\n"
          ],
          "name": "stderr"
        },
        {
          "output_type": "stream",
          "text": [
            "Time usage: 0:00:01\n",
            "<bound method Module.parameters of Model(\n",
            "  (embedding): Embedding(355784, 300)\n",
            "  (convs): ModuleList(\n",
            "    (0): Conv2d(1, 256, kernel_size=(2, 300), stride=(1, 1))\n",
            "    (1): Conv2d(1, 256, kernel_size=(3, 300), stride=(1, 1))\n",
            "    (2): Conv2d(1, 256, kernel_size=(4, 300), stride=(1, 1))\n",
            "  )\n",
            "  (dropout): Dropout(p=0.5, inplace=False)\n",
            "  (fc): Linear(in_features=768, out_features=3, bias=True)\n",
            ")>\n",
            "Epoch [1/15]\n",
            "Iter:      0,  Train Loss:   1.1,  Train Acc: 38.28%,  Val Loss:   1.0,  Val Acc: 47.79%,  Time: 0:00:02 *\n",
            "Epoch [2/15]\n",
            "Iter:     40,  Train Loss:   0.8,  Train Acc: 63.28%,  Val Loss:  0.83,  Val Acc: 60.44%,  Time: 0:00:05 *\n",
            "Epoch [3/15]\n",
            "Iter:     80,  Train Loss:  0.73,  Train Acc: 64.06%,  Val Loss:  0.77,  Val Acc: 62.55%,  Time: 0:00:08 *\n",
            "Epoch [4/15]\n",
            "Iter:    120,  Train Loss:  0.59,  Train Acc: 78.91%,  Val Loss:  0.72,  Val Acc: 66.27%,  Time: 0:00:10 *\n",
            "Epoch [5/15]\n",
            "Epoch [6/15]\n",
            "Iter:    160,  Train Loss:  0.54,  Train Acc: 78.91%,  Val Loss:  0.72,  Val Acc: 65.96%,  Time: 0:00:11 \n",
            "Epoch [7/15]\n",
            "Iter:    200,  Train Loss:  0.44,  Train Acc: 85.94%,  Val Loss:  0.72,  Val Acc: 66.06%,  Time: 0:00:17 *\n",
            "Epoch [8/15]\n",
            "Iter:    240,  Train Loss:  0.48,  Train Acc: 78.91%,  Val Loss:  0.71,  Val Acc: 67.27%,  Time: 0:00:21 *\n",
            "Epoch [9/15]\n",
            "Iter:    280,  Train Loss:  0.36,  Train Acc: 91.41%,  Val Loss:   0.7,  Val Acc: 67.67%,  Time: 0:00:28 *\n",
            "Epoch [10/15]\n",
            "Epoch [11/15]\n",
            "Iter:    320,  Train Loss:  0.29,  Train Acc: 92.19%,  Val Loss:  0.71,  Val Acc: 66.97%,  Time: 0:00:28 \n",
            "Epoch [12/15]\n",
            "Iter:    360,  Train Loss:  0.27,  Train Acc: 92.97%,  Val Loss:  0.73,  Val Acc: 66.57%,  Time: 0:00:29 \n",
            "Epoch [13/15]\n",
            "Iter:    400,  Train Loss:  0.29,  Train Acc: 89.06%,  Val Loss:  0.72,  Val Acc: 67.87%,  Time: 0:00:29 \n",
            "Epoch [14/15]\n",
            "Iter:    440,  Train Loss:  0.21,  Train Acc: 96.09%,  Val Loss:  0.72,  Val Acc: 67.87%,  Time: 0:00:30 \n",
            "Epoch [15/15]\n",
            "Test Loss:  0.92,  Test Acc: 57.75%\n",
            "Precision, Recall and F1-Score...\n",
            "              precision    recall  f1-score   support\n",
            "\n",
            "    negative     0.7664    0.5390    0.6329      3913\n",
            "     neutral     0.3937    0.7509    0.5166      3424\n",
            "    positive     0.7809    0.4939    0.6051      5291\n",
            "\n",
            "    accuracy                         0.5775     12628\n",
            "   macro avg     0.6470    0.5946    0.5848     12628\n",
            "weighted avg     0.6714    0.5775    0.5897     12628\n",
            "\n",
            "Confusion Matrix...\n",
            "[[2109 1606  198]\n",
            " [ 318 2571  535]\n",
            " [ 325 2353 2613]]\n",
            "Time usage: 0:00:00\n"
          ],
          "name": "stdout"
        }
      ]
    },
    {
      "cell_type": "code",
      "metadata": {
        "id": "SGjQJNQeb4U9",
        "colab": {
          "base_uri": "https://localhost:8080/"
        },
        "outputId": "35d84d79-a17d-4625-ccb2-d56d567e2770"
      },
      "source": [
        "%run '/content/drive/My Drive/textcnn3/runrm9.py' --model TextCNNRM --word True\n",
        "predict_all[predict_all==0] = -1\n",
        "predict_all[predict_all==1] = 0\n",
        "predict_all[predict_all==2] = 1\n",
        "predict_all\n",
        "np.savetxt('/content/drive/MyDrive/textcnn3/output/rm9.txt', predict_all, delimiter=\",\", fmt=\"%d\")"
      ],
      "execution_count": null,
      "outputs": [
        {
          "output_type": "stream",
          "text": [
            "\r0it [00:00, ?it/s]"
          ],
          "name": "stderr"
        },
        {
          "output_type": "stream",
          "text": [
            "Loading data...\n",
            "Vocab size: 355784\n"
          ],
          "name": "stdout"
        },
        {
          "output_type": "stream",
          "text": [
            "3988it [00:00, 45043.57it/s]\n",
            "996it [00:00, 46627.83it/s]\n",
            "12628it [00:00, 28319.25it/s]\n"
          ],
          "name": "stderr"
        },
        {
          "output_type": "stream",
          "text": [
            "Time usage: 0:00:01\n",
            "<bound method Module.parameters of Model(\n",
            "  (embedding): Embedding(355784, 300)\n",
            "  (convs): ModuleList(\n",
            "    (0): Conv2d(1, 256, kernel_size=(2, 300), stride=(1, 1))\n",
            "    (1): Conv2d(1, 256, kernel_size=(3, 300), stride=(1, 1))\n",
            "    (2): Conv2d(1, 256, kernel_size=(4, 300), stride=(1, 1))\n",
            "  )\n",
            "  (dropout): Dropout(p=0.5, inplace=False)\n",
            "  (fc): Linear(in_features=768, out_features=3, bias=True)\n",
            ")>\n",
            "Epoch [1/15]\n",
            "Iter:      0,  Train Loss:   1.1,  Train Acc: 25.78%,  Val Loss:   1.0,  Val Acc: 48.80%,  Time: 0:00:02 *\n",
            "Epoch [2/15]\n",
            "Iter:     40,  Train Loss:  0.83,  Train Acc: 65.62%,  Val Loss:  0.83,  Val Acc: 60.44%,  Time: 0:00:05 *\n",
            "Epoch [3/15]\n",
            "Iter:     80,  Train Loss:  0.74,  Train Acc: 61.72%,  Val Loss:  0.77,  Val Acc: 62.45%,  Time: 0:00:07 *\n",
            "Epoch [4/15]\n",
            "Iter:    120,  Train Loss:  0.59,  Train Acc: 79.69%,  Val Loss:  0.73,  Val Acc: 67.87%,  Time: 0:00:13 *\n",
            "Epoch [5/15]\n",
            "Epoch [6/15]\n",
            "Iter:    160,  Train Loss:  0.55,  Train Acc: 76.56%,  Val Loss:  0.72,  Val Acc: 66.27%,  Time: 0:00:18 *\n",
            "Epoch [7/15]\n",
            "Iter:    200,  Train Loss:  0.47,  Train Acc: 83.59%,  Val Loss:  0.72,  Val Acc: 66.77%,  Time: 0:00:24 *\n",
            "Epoch [8/15]\n",
            "Iter:    240,  Train Loss:  0.47,  Train Acc: 81.25%,  Val Loss:  0.71,  Val Acc: 67.27%,  Time: 0:00:30 *\n",
            "Epoch [9/15]\n",
            "Iter:    280,  Train Loss:  0.38,  Train Acc: 89.84%,  Val Loss:   0.7,  Val Acc: 67.97%,  Time: 0:00:33 *\n",
            "Epoch [10/15]\n",
            "Epoch [11/15]\n",
            "Iter:    320,  Train Loss:  0.29,  Train Acc: 91.41%,  Val Loss:  0.71,  Val Acc: 66.97%,  Time: 0:00:34 \n",
            "Epoch [12/15]\n",
            "Iter:    360,  Train Loss:  0.27,  Train Acc: 92.97%,  Val Loss:  0.73,  Val Acc: 67.67%,  Time: 0:00:34 \n",
            "Epoch [13/15]\n",
            "Iter:    400,  Train Loss:  0.26,  Train Acc: 93.75%,  Val Loss:  0.72,  Val Acc: 66.87%,  Time: 0:00:34 \n",
            "Epoch [14/15]\n",
            "Iter:    440,  Train Loss:  0.22,  Train Acc: 96.88%,  Val Loss:  0.72,  Val Acc: 68.27%,  Time: 0:00:35 \n",
            "Epoch [15/15]\n",
            "Test Loss:  0.92,  Test Acc: 57.82%\n",
            "Precision, Recall and F1-Score...\n",
            "              precision    recall  f1-score   support\n",
            "\n",
            "    negative     0.7671    0.5344    0.6299      3913\n",
            "     neutral     0.3935    0.7497    0.5161      3424\n",
            "    positive     0.7827    0.4997    0.6100      5291\n",
            "\n",
            "    accuracy                         0.5782     12628\n",
            "   macro avg     0.6477    0.5946    0.5853     12628\n",
            "weighted avg     0.6723    0.5782    0.5907     12628\n",
            "\n",
            "Confusion Matrix...\n",
            "[[2091 1626  196]\n",
            " [ 319 2567  538]\n",
            " [ 316 2331 2644]]\n",
            "Time usage: 0:00:00\n"
          ],
          "name": "stdout"
        }
      ]
    },
    {
      "cell_type": "code",
      "metadata": {
        "id": "gEbQgR-bb4XR",
        "colab": {
          "base_uri": "https://localhost:8080/"
        },
        "outputId": "c0d33637-bd43-49ce-a039-35531a1e38c5"
      },
      "source": [
        "%run '/content/drive/My Drive/textcnn3/runrm10.py' --model TextCNNRM --word True\n",
        "predict_all[predict_all==0] = -1\n",
        "predict_all[predict_all==1] = 0\n",
        "predict_all[predict_all==2] = 1\n",
        "predict_all\n",
        "np.savetxt('/content/drive/MyDrive/textcnn3/output/rm10.txt', predict_all, delimiter=\",\", fmt=\"%d\")"
      ],
      "execution_count": null,
      "outputs": [
        {
          "output_type": "stream",
          "text": [
            "\r0it [00:00, ?it/s]"
          ],
          "name": "stderr"
        },
        {
          "output_type": "stream",
          "text": [
            "Loading data...\n",
            "Vocab size: 355784\n"
          ],
          "name": "stdout"
        },
        {
          "output_type": "stream",
          "text": [
            "3988it [00:00, 43566.06it/s]\n",
            "996it [00:00, 44997.54it/s]\n",
            "12628it [00:00, 49654.65it/s]\n"
          ],
          "name": "stderr"
        },
        {
          "output_type": "stream",
          "text": [
            "Time usage: 0:00:01\n",
            "<bound method Module.parameters of Model(\n",
            "  (embedding): Embedding(355784, 300)\n",
            "  (convs): ModuleList(\n",
            "    (0): Conv2d(1, 256, kernel_size=(2, 300), stride=(1, 1))\n",
            "    (1): Conv2d(1, 256, kernel_size=(3, 300), stride=(1, 1))\n",
            "    (2): Conv2d(1, 256, kernel_size=(4, 300), stride=(1, 1))\n",
            "  )\n",
            "  (dropout): Dropout(p=0.5, inplace=False)\n",
            "  (fc): Linear(in_features=768, out_features=3, bias=True)\n",
            ")>\n",
            "Epoch [1/15]\n",
            "Iter:      0,  Train Loss:   1.1,  Train Acc: 22.66%,  Val Loss:   1.0,  Val Acc: 54.72%,  Time: 0:00:02 *\n",
            "Epoch [2/15]\n",
            "Iter:     40,  Train Loss:  0.84,  Train Acc: 59.38%,  Val Loss:  0.83,  Val Acc: 60.34%,  Time: 0:00:05 *\n",
            "Epoch [3/15]\n",
            "Iter:     80,  Train Loss:   0.7,  Train Acc: 65.62%,  Val Loss:  0.76,  Val Acc: 63.35%,  Time: 0:00:08 *\n",
            "Epoch [4/15]\n",
            "Iter:    120,  Train Loss:  0.59,  Train Acc: 78.91%,  Val Loss:  0.72,  Val Acc: 66.77%,  Time: 0:00:14 *\n",
            "Epoch [5/15]\n",
            "Epoch [6/15]\n",
            "Iter:    160,  Train Loss:  0.53,  Train Acc: 79.69%,  Val Loss:  0.72,  Val Acc: 67.07%,  Time: 0:00:18 *\n",
            "Epoch [7/15]\n",
            "Iter:    200,  Train Loss:  0.48,  Train Acc: 82.03%,  Val Loss:  0.71,  Val Acc: 67.47%,  Time: 0:00:25 *\n",
            "Epoch [8/15]\n",
            "Iter:    240,  Train Loss:  0.46,  Train Acc: 82.81%,  Val Loss:  0.71,  Val Acc: 66.97%,  Time: 0:00:28 *\n",
            "Epoch [9/15]\n",
            "Iter:    280,  Train Loss:  0.38,  Train Acc: 86.72%,  Val Loss:   0.7,  Val Acc: 66.97%,  Time: 0:00:36 *\n",
            "Epoch [10/15]\n",
            "Epoch [11/15]\n",
            "Iter:    320,  Train Loss:  0.35,  Train Acc: 88.28%,  Val Loss:  0.72,  Val Acc: 67.17%,  Time: 0:00:36 \n",
            "Epoch [12/15]\n",
            "Iter:    360,  Train Loss:  0.26,  Train Acc: 93.75%,  Val Loss:  0.74,  Val Acc: 67.07%,  Time: 0:00:37 \n",
            "Epoch [13/15]\n",
            "Iter:    400,  Train Loss:  0.27,  Train Acc: 89.84%,  Val Loss:  0.73,  Val Acc: 67.07%,  Time: 0:00:37 \n",
            "Epoch [14/15]\n",
            "Iter:    440,  Train Loss:  0.22,  Train Acc: 96.09%,  Val Loss:  0.71,  Val Acc: 68.17%,  Time: 0:00:37 \n",
            "Epoch [15/15]\n",
            "Test Loss:  0.91,  Test Acc: 58.37%\n",
            "Precision, Recall and F1-Score...\n",
            "              precision    recall  f1-score   support\n",
            "\n",
            "    negative     0.7650    0.5423    0.6347      3913\n",
            "     neutral     0.3999    0.7401    0.5192      3424\n",
            "    positive     0.7720    0.5131    0.6165      5291\n",
            "\n",
            "    accuracy                         0.5837     12628\n",
            "   macro avg     0.6456    0.5985    0.5901     12628\n",
            "weighted avg     0.6689    0.5837    0.5957     12628\n",
            "\n",
            "Confusion Matrix...\n",
            "[[2122 1559  232]\n",
            " [ 320 2534  570]\n",
            " [ 332 2244 2715]]\n",
            "Time usage: 0:00:00\n"
          ],
          "name": "stdout"
        }
      ]
    },
    {
      "cell_type": "code",
      "metadata": {
        "id": "I2NDIOjGcP2g"
      },
      "source": [
        ""
      ],
      "execution_count": null,
      "outputs": []
    }
  ]
}