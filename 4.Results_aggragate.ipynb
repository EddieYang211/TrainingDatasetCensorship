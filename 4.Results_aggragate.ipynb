{
 "cells": [
  {
   "cell_type": "code",
   "execution_count": 1,
   "metadata": {},
   "outputs": [],
   "source": [
    "import re\n",
    "import os\n",
    "import pandas as pd\n",
    "import numpy as np\n",
    "import sys\n",
    "import jieba\n",
    "from sklearn import metrics\n",
    "from sklearn import preprocessing"
   ]
  },
  {
   "cell_type": "code",
   "execution_count": 2,
   "metadata": {},
   "outputs": [
    {
     "name": "stdout",
     "output_type": "stream",
     "text": [
      "3.8.2 (v3.8.2:7b3ab5921f, Feb 24 2020, 17:52:18) \n",
      "[Clang 6.0 (clang-600.0.57)]\n"
     ]
    }
   ],
   "source": [
    "print(sys.version)"
   ]
  },
  {
   "cell_type": "code",
   "execution_count": 3,
   "metadata": {},
   "outputs": [],
   "source": [
    "os.chdir(r'/Replication_TrainingDatasetCensorship/') # set working directory"
   ]
  },
  {
   "cell_type": "code",
   "execution_count": 4,
   "metadata": {},
   "outputs": [
    {
     "name": "stderr",
     "output_type": "stream",
     "text": [
      "Building prefix dict from the default dictionary ...\n",
      "Loading model from cache /var/folders/8g/74cy_pd90b94x2b6lxyf92v40000gn/T/jieba.cache\n",
      "Loading model cost 0.709 seconds.\n",
      "Prefix dict has been built successfully.\n"
     ]
    }
   ],
   "source": [
    "jieba.load_userdict(\"auxiliary/Dict.txt\")"
   ]
  },
  {
   "cell_type": "code",
   "execution_count": 5,
   "metadata": {},
   "outputs": [],
   "source": [
    "words =[#start of freedom\n",
    "    \"自由\", \"言论自由\", \"集会自由\", \"新闻自由\", \"结社自由\", \"自由权\", \"民主自由\", \"自由言论\", \"创作自由\", \n",
    "    \"婚姻自主\", \"自由民主\", \"自由市场\", \"自决\", \"自决权\", \"生而自由\", \"自由自在\", \"自由选择\", \"自由思想\", \n",
    "    \"公民自由\", \"自由竞争\", \"宗教自由\", \"自由价格\", \n",
    "    # democracy\n",
    "    \"民主\", \"自由民主\", \"民主自由\", \"民主制度\", \"民主化\", \"社会民主主义\", \"民主运动\", \"民主主义\", \"民主改革\", \n",
    "    \"民主制\", \"民主选举\", \"民主权力\", \"多党制\", \"民主法制\", \"民主权利\" ,\n",
    "    # election\n",
    "    \"选举\", \"直接选举\", \"议会选举\", \"间接选举\", \"直选\", \"换届选举\", \"民选\", \"投票选举\", \"全民公决\", \"总统大选\", \n",
    "    \"大选\", \"普选\", \"全民投票\", \"民主选举\",\n",
    "    # collective action\n",
    "    \"抗议\", \"示威\", \"示威游行\", \"示威抗议\", \"游行示威\", \"静坐示威\", \"绝食抗议\", \"请愿\", \"示威运动\", \"游行\", \n",
    "    \"罢教\", \"静坐\", \"集会游行\", \"罢课\", \"签名运动\", \n",
    "    # negative figures\n",
    "    \"林彪\", \"王洪文\", \"张春桥\", \"江青\", \"姚文元\", \"刘晓波\", \"丹增嘉措\", \"李洪志\", \"陈水扁\", \"黎智英\", \"艾未未\", \n",
    "    \"李登辉\", \"李柱铭\", \"何俊仁\", \"陈方安生\", \"达赖\", \"魏京生\",\n",
    "    # social control\n",
    "    \"维稳\", \"处突\", \"社会治安\", \"反恐怖\", \"公安工作\", \"预防犯罪\", \"收容审查\", \"治安工作\", \"大排查\", \"扫黄打非\", \n",
    "    \"接访\", \"反邪教\",\n",
    "    # surveillance\n",
    "    \"监控\", \"监测\", \"监视\", \"管控\", \"监看\", \"监视系统\", \"截听\", \"监控中心\", \"情报服务\", \"排查\", \"监视器\",\n",
    "    \"情报搜集\", \"间谍卫星\", \"管理网络\", \"监控器\", \"监控站\", \"监控室\", \"数据采集\", \n",
    "    # CCP\n",
    "    \"党中央\",  \"中国共产党\", \"党支部\", \"中共中央\", \"共青团\", \"共青团中央\", \"党委\", \"中央党校\",\n",
    "    # historical events\n",
    "    \"抗日战争\", \"解放战争\", \"抗美援朝\", \"改革开放\", \"香港回归\", \"长征\", \"三大战役\", \"秋收起义\", \"南昌起义\", \"志愿军\", \n",
    "    \"土地改革\", \"六四\", \"遵义会议\", \"广州起义\", \"百团大战\", \"文革\", \"文化大革命\", \"大跃进\", \"四人帮\",\n",
    "    # positive figures\n",
    "    \"毛泽东\", \"江泽民\", \"胡锦涛\", \"习近平\", \"周恩来\", \"朱镕基\", \"温家宝\", \"李克强\", \"邓小平\", \"曾庆红\", \"华国锋\", \"李鹏\", \n",
    "    \"杨尚昆\", \"谷牧\", \"吴邦国\", \"李岚清\", \"纪登奎\", \"乔石\",\"邹家华\", \"李瑞环\", \"俞正声\", \"张高丽\", \"田纪云\", \"回良玉\", \n",
    "    \"李源潮\", \"贾庆林\", \"姚依林\", \"张立昌\", \"尉健行\", \"姜春云\", \"李铁映\", \"王兆国\", \"罗干\", \"杨汝岱\", \"王光英\", \"彭佩云\", \n",
    "    \"刘云山\", \"丁关根\", \"彭真\", \"胡启立\", \"曾培炎\", \"何东昌\"]"
   ]
  },
  {
   "cell_type": "code",
   "execution_count": 6,
   "metadata": {},
   "outputs": [],
   "source": [
    "news = pd.read_csv('auxiliary/Political_news_titles.csv')\n",
    "news = news[news['label'].isnull()==False]\n",
    "punct = ['......', '，', '--', '：',  '丨', '「', '」', '、', '——',  '-',  '_', '...', '·', '。',\n",
    "        '【', '】', '《', '》', '/', '(图)', '(组图)', '[图]', '‧', '.', ':', ',', '（下）', '（上）', '（图）', '（组图）', ' ',\n",
    "        '丨', '|', '(', ')', '（', '）', '[', ']', \"'\", '’', '‘', '“', '”', '%', '?', '!']\n",
    "for i in range(len(news)):\n",
    "    text = news.iloc[i,0]\n",
    "    for p in punct:\n",
    "      text = text.replace(p, \"\")\n",
    "    text = re.sub('[a-zA-Z]','',text)\n",
    "    text = re.sub(\"\\d+\", \"\", text)\n",
    "    news.iloc[i,0] = text\n",
    "news = news[news['label']!=0]\n",
    "news.drop_duplicates(subset=['sentence'], inplace=True)\n",
    "news = news.dropna(how='any',axis=0) \n",
    "news = news.reset_index(drop=True)\n",
    "news[\"label\"] = news[\"label\"].astype(int)\n",
    "news.label.unique()\n",
    "test_lab = news[\"label\"]"
   ]
  },
  {
   "cell_type": "code",
   "execution_count": 18,
   "metadata": {},
   "outputs": [],
   "source": [
    "# store accuracy\n",
    "wk = []\n",
    "rm = []\n",
    "bd = []"
   ]
  },
  {
   "cell_type": "code",
   "execution_count": 8,
   "metadata": {},
   "outputs": [
    {
     "data": {
      "text/html": [
       "<div>\n",
       "<style scoped>\n",
       "    .dataframe tbody tr th:only-of-type {\n",
       "        vertical-align: middle;\n",
       "    }\n",
       "\n",
       "    .dataframe tbody tr th {\n",
       "        vertical-align: top;\n",
       "    }\n",
       "\n",
       "    .dataframe thead th {\n",
       "        text-align: right;\n",
       "    }\n",
       "</style>\n",
       "<table border=\"1\" class=\"dataframe\">\n",
       "  <thead>\n",
       "    <tr style=\"text-align: right;\">\n",
       "      <th></th>\n",
       "      <th>sentence</th>\n",
       "      <th>label</th>\n",
       "    </tr>\n",
       "  </thead>\n",
       "  <tbody>\n",
       "    <tr>\n",
       "      <th>0</th>\n",
       "      <td>达里奥 资本 市场 已 不再 自由 贫富差距 达 年代 以来 最 严重</td>\n",
       "      <td>-1</td>\n",
       "    </tr>\n",
       "    <tr>\n",
       "      <th>1</th>\n",
       "      <td>新闻自由 日 联合国 秘书长 强调 记者 为 新冠大 流行 错误信息 提供</td>\n",
       "      <td>-1</td>\n",
       "    </tr>\n",
       "    <tr>\n",
       "      <th>2</th>\n",
       "      <td>一组 老照片 自由女神 像是 如何 诞生 的</td>\n",
       "      <td>1</td>\n",
       "    </tr>\n",
       "    <tr>\n",
       "      <th>3</th>\n",
       "      <td>在 互联网 自由 日 抗议 苹果公司 同 中共 合作 审查 网络</td>\n",
       "      <td>-1</td>\n",
       "    </tr>\n",
       "    <tr>\n",
       "      <th>4</th>\n",
       "      <td>香港 居民 权利 自由 的 坚实 保障</td>\n",
       "      <td>1</td>\n",
       "    </tr>\n",
       "  </tbody>\n",
       "</table>\n",
       "</div>"
      ],
      "text/plain": [
       "                                  sentence  label\n",
       "0     达里奥 资本 市场 已 不再 自由 贫富差距 达 年代 以来 最 严重      -1\n",
       "1   新闻自由 日 联合国 秘书长 强调 记者 为 新冠大 流行 错误信息 提供      -1\n",
       "2                  一组 老照片 自由女神 像是 如何 诞生 的       1\n",
       "3        在 互联网 自由 日 抗议 苹果公司 同 中共 合作 审查 网络      -1\n",
       "4                     香港 居民 权利 自由 的 坚实 保障       1"
      ]
     },
     "execution_count": 8,
     "metadata": {},
     "output_type": "execute_result"
    }
   ],
   "source": [
    "for i in range(len(news)):\n",
    "    news.iloc[i, 0] = ' ' + ' '.join(jieba.lcut(news.iloc[i, 0]))+' '\n",
    "news.head()"
   ]
  },
  {
   "cell_type": "code",
   "execution_count": 9,
   "metadata": {},
   "outputs": [],
   "source": [
    "for i in range(1, 11):\n",
    "    f = r'output/bd' + str(i) + '.txt'\n",
    "    y_pred = np.loadtxt(f, comments=\"#\", delimiter=\",\", unpack=False)\n",
    "    bd.append(metrics.accuracy_score(test_lab, y_pred))\n",
    "    res = pd.DataFrame(index=range(5000), columns=range(20))\n",
    "    category = [range(0, 22), range(22, 37), range(37, 51), range(51, 66), range(66,83), \n",
    "                range(83, 95), range(95, 113), range(113, 121), range(121, 140), range(140, 182)]\n",
    "    for n, c in enumerate(category):\n",
    "        counter = 0\n",
    "        for w in c:\n",
    "            counter += 1\n",
    "            word = ' ' + words[w] + ' '\n",
    "            id = [i for i in range(len(news)) if word in news.iloc[i, 0]]\n",
    "            dif = (y_pred[id] - test_lab[id])\n",
    "            start = 5000 - res.iloc[:,n].isnull().sum()\n",
    "            end = start + len(dif.tolist())\n",
    "            res.iloc[start:end, n] = dif.tolist()\n",
    "            res.iloc[start:end, n+10] = counter\n",
    "    outf = r'output/bd'+ str(i) + '.csv'\n",
    "    res.to_csv(outf, header=False, index=False)"
   ]
  },
  {
   "cell_type": "code",
   "execution_count": 10,
   "metadata": {},
   "outputs": [],
   "source": [
    "for i in range(1, 11):\n",
    "    f = r'output/wk' + str(i) + '.txt'\n",
    "    y_pred = np.loadtxt(f, comments=\"#\", delimiter=\",\", unpack=False)\n",
    "    wk.append(metrics.accuracy_score(test_lab, y_pred))\n",
    "    res = pd.DataFrame(index=range(5000), columns=range(20))\n",
    "    category = [range(0, 22), range(22, 37), range(37, 51), range(51, 66), range(66,83), \n",
    "                range(83, 95), range(95, 113), range(113, 121), range(121, 140), range(140, 182)]\n",
    "    for n, c in enumerate(category):\n",
    "        counter = 0\n",
    "        for w in c:\n",
    "            counter += 1\n",
    "            word = ' ' + words[w] + ' '\n",
    "            id = [i for i in range(len(news)) if word in news.iloc[i, 0]]\n",
    "            dif = (y_pred[id] - test_lab[id])\n",
    "            start = 5000 - res.iloc[:,n].isnull().sum()\n",
    "            end = start + len(dif.tolist())\n",
    "            res.iloc[start:end, n] = dif.tolist()\n",
    "            res.iloc[start:end, n+10] = counter\n",
    "    outf = r'output/wk'+ str(i) + '.csv'\n",
    "    res.to_csv(outf, header=False, index=False)"
   ]
  },
  {
   "cell_type": "code",
   "execution_count": 11,
   "metadata": {},
   "outputs": [],
   "source": [
    "for i in range(1, 11):\n",
    "    f = r'output/rm' + str(i) + '.txt'\n",
    "    y_pred = np.loadtxt(f, comments=\"#\", delimiter=\",\", unpack=False)\n",
    "    rm.append(metrics.accuracy_score(test_lab, y_pred))\n",
    "    res = pd.DataFrame(index=range(5000), columns=range(20))\n",
    "    category = [range(0, 22), range(22, 37), range(37, 51), range(51, 66), range(66,83), \n",
    "                range(83, 95), range(95, 113), range(113, 121), range(121, 140), range(140, 182)]\n",
    "    for n, c in enumerate(category):\n",
    "        counter = 0\n",
    "        for w in c:\n",
    "            counter += 1\n",
    "            word = ' ' + words[w] + ' '\n",
    "            id = [i for i in range(len(news)) if word in news.iloc[i, 0]]\n",
    "            dif = (y_pred[id] - test_lab[id])\n",
    "            start = 5000 - res.iloc[:,n].isnull().sum()\n",
    "            end = start + len(dif.tolist())\n",
    "            res.iloc[start:end, n] = dif.tolist()\n",
    "            res.iloc[start:end, n+10] = counter\n",
    "    outf = r'output/rm'+ str(i) + '.csv'\n",
    "    res.to_csv(outf, header=False, index=False)"
   ]
  },
  {
   "cell_type": "code",
   "execution_count": null,
   "metadata": {},
   "outputs": [],
   "source": []
  }
 ],
 "metadata": {
  "kernelspec": {
   "display_name": "Python 3",
   "language": "python",
   "name": "python3"
  },
  "language_info": {
   "codemirror_mode": {
    "name": "ipython",
    "version": 3
   },
   "file_extension": ".py",
   "mimetype": "text/x-python",
   "name": "python",
   "nbconvert_exporter": "python",
   "pygments_lexer": "ipython3",
   "version": "3.8.2"
  }
 },
 "nbformat": 4,
 "nbformat_minor": 4
}
